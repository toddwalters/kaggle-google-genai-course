{
 "cells": [
  {
   "cell_type": "markdown",
   "metadata": {},
   "source": [
    "##### Copyright 2024 Google LLC."
   ]
  },
  {
   "cell_type": "code",
   "execution_count": null,
   "metadata": {
    "execution": {
     "iopub.execute_input": "2024-11-12T10:01:44.723588Z",
     "iopub.status.busy": "2024-11-12T10:01:44.723083Z",
     "iopub.status.idle": "2024-11-12T10:01:44.731863Z",
     "shell.execute_reply": "2024-11-12T10:01:44.72954Z",
     "shell.execute_reply.started": "2024-11-12T10:01:44.723541Z"
    },
    "jupyter": {
     "source_hidden": true
    },
    "trusted": true
   },
   "outputs": [],
   "source": [
    "# @title Licensed under the Apache License, Version 2.0 (the \"License\");\n",
    "# you may not use this file except in compliance with the License.\n",
    "# You may obtain a copy of the License at\n",
    "#\n",
    "# https://www.apache.org/licenses/LICENSE-2.0\n",
    "#\n",
    "# Unless required by applicable law or agreed to in writing, software\n",
    "# distributed under the License is distributed on an \"AS IS\" BASIS,\n",
    "# WITHOUT WARRANTIES OR CONDITIONS OF ANY KIND, either express or implied.\n",
    "# See the License for the specific language governing permissions and\n",
    "# limitations under the License."
   ]
  },
  {
   "cell_type": "markdown",
   "metadata": {
    "id": "u8QTQ5viA7S0"
   },
   "source": [
    "# Day 2 - Embeddings and similarity scores\n",
    "\n",
    "Welcome back to the [Kaggle and Google 5-day Generative AI course](https://www.kaggle.com/learn-guide/5-day-genai)!\n",
    "\n",
    "In this notebook you will use the Gemini API's embedding endpoint to explore similarity scores.\n",
    "\n",
    "**NOTE**: The Day 1 notebook contains lots of information for getting set up with Kaggle Notebooks. If you are having any issues, please [check out the troubleshooting steps there](https://www.kaggle.com/code/markishere/day-1-prompting#Get-started-with-Kaggle-notebooks).\n",
    "\n",
    "🎒 **Today’s Assignments**\n",
    "\n",
    "Complete Unit 2: “Embeddings and Vector Stores/Databases”, which is:\n",
    "\n",
    "- *Optional* - Listen to the summary [podcast episode](https://notifications.googleapis.com/email/redirect?t=AFG8qyV3qjgPTM8TLq9sSypo9dKeAR4NNRHJz_l995ZZ955gHYapfhxbSXGVFivvSGUfMK7nurtXoWvUzaaoxoL35K1HIbd7p0sEUxt05xfGYJNTU_RT9dqKAZMat3FfhTSBM5BfJvQKUZ-zkJUfRKUxKsSoHkE5W-ABtmXmkf4FgAV8bGSfCQQtKI7E4nvbSvKpN9zWwMv5jOQTN97xeNCc7t-JuMkUTTLY_CVsopTAB53Jd2eX3OCIV4PVNbY6zpV4yw&r=eJzLKCkpKLbS16_MLy0pTUrVS87P1S9PLEnOsC-zNXR2Nrb0NjfzKywGAB5aDYs&s=ALHZ2r4-GIi09OBENQqp8WOj1KNT) for this unit (created by [NotebookLM](https://notifications.googleapis.com/email/redirect?t=AFG8qyU9ZDWuUsK1nONandVSa5QqK9bypm47l27JB8V5bEdihQN981um-sBdBkYhMai4JcuQav3mbOrx2NFl7R1MvQCduDlYilO4dnWVyCSIcqjQy3ImUjJHo4hOtBmauzvhMoFLcFtXuHkxyPE5-8k2gW38kKs6-5MUKWn7MJ_JcOKI7umD8wMTo6OLCJ4D_jNvLZvwDi-N_Mar2d1oHPjh9iRmnqfriODI0yMDkCtoxZ8ZrILoj_8rxE2bLRTeiSC8Bg&r=eJzLKCkpKLbS18_LL0lNys_PzsnVS8_PT89J1UvOz9W3zy_KTM_MS8yJL0pNSy1KLbLNAKtXNXIDovLyciTFqkbGagU5mbaGABuTHe8&s=ALHZ2r6asNQmcLRFKs4nKp0OEmqQ)).\n",
    "- Read the [“Embeddings and Vector Stores/Databases” whitepaper](https://notifications.googleapis.com/email/redirect?t=AFG8qyWz_iPKIIv7GE0B1NTwAW9s9WTkh9ckEEZMGbbYAL6IfIF3BbFb4iYBdHpciM99A9AZaffVm10JDgfvVW3AfNokG_dJd63-gppEmIMREKXGGSKK4x_UmKvVUWkL1pZg9LvKi6ZnkbauYUmP5kBju2324UzglzD-Wq2jVe9orzm6Gt5yaMMaqHyNM_2PTRpEWw-izvRDrrWn7J6jh0s1Itd4WngDG29QaRMKTW_tP0s8Hb10blJKlK3WhXG4vTDuYA&r=eJwNxFESgCAIBcATEf_ehuQNOqUywtT1az-2ZXoU5kvMbhx1DX5bT7g4NmGcUO3TgmQqPai5NsUf4gOFTBY4&s=ALHZ2r7l8NNvV-edJjNVgUyeqlLS).\n",
    "- Complete these code labs on Kaggle:\n",
    "    1. [Build](https://notifications.googleapis.com/email/redirect?t=AFG8qyUjv7Rzhy9sbiRAW1NWQVNbcnbvJhp5qsH-D8LoQk8NSsUrW9ATirrLQR7g6E1723Tg8KUCwMsOALQjtSgcKDb3OB80YBeK-b5jH0BAl1DB56yA5QNQIFbZZWL7FzgP7rkamHLHkTa-j9XqS3D-D1m2dFAjG5tM6YjH2BEwXvw0kdlzy8wCPIyFQcQGaQhYVowbzw9UP7W6Kr-yhq0phtpEtqe_gKn6A7NNYlyARAs3NLSpi_Ov5LB6lOla-UdRwg&r=eJwFwVEOgCAIANATIVuf3YYJA2dKKY11-96ziHufiJlZOqleUqoPrM6Cg1Zv22QJMn1wAHt9h8yABwiyhcEi_QEwQxgv&s=ALHZ2r6X8fvc3hpIdeJprtIw3PL9) a RAG question-answering system over custom documents\n",
    "    2. [Explore](https://notifications.googleapis.com/email/redirect?t=AFG8qyUnDx9FY7_dfC4Vtr3StF5clb0EKrGQ1Zw5SqZLJDYAubEKBEdxU0D7AwDqOjF2gR7_Imxrivq7C-tiGQ76Q93zPpJC6u4m930rjTfyyGdnID1gZ45qRj4nwXWoA7STbZck6BK63Y5EpAlSuclpw6cCtxB1aXLeqYY0wSBoMLvd_CgZu1aOkTlVn1yLn3J3BDJ-ou1iKypIXWeg--Jjo2Iwp7SWKnaK0qd3C7HwrHOsarkwBtF8hfzP5Ep-X3Scsg&r=eJwFwVEKwCAIANATmbDP3callJQVGkS333t17xUv4jknNSqlS8rTME8WNPKmUcUFmS48IPYJs44SQIMh1LST674QebrED1m8HPY&s=ALHZ2r5cJUw7Qg0rUd9kWV34Dmrl) text similarity with embeddings (**This notebook**)\n",
    "    3. [Build](https://notifications.googleapis.com/email/redirect?t=AFG8qyWOXvyexXR0IhX9K6poPAhL72lhjaYZyMhspVtdooSTlXKjMJs9T4bMR0QradxWBjJqeCkWSGpdq3GXL3YM1ADDkcIiF6PrGESNS1aMvjwFoIudTY4tGjdS_5JUx0bw5WueQ-xGb1Yp8ip8Bfoe35wBHHTfbS8f1sRx7KTYlDVK29MGBua0E5x9eUBU-AAYjGU7q3DYa5Q61NDQVgd2BzM1FCrk-nQUkmm7GNjwxcBFEvnY0gbv-h9iR7363OX1og&r=eJwNxlEOgCAIANATIVuf3YaAlKnZxI15-3pfr6z1-okYEalSzk0Tj448RLHTrOZFp6LQhgO4kbvd254M2i8V-ecQtgpUneQfe6MdWw&s=ALHZ2r7AZb0xGB_Yi7WLwikw0oq9) a neural classification network with Keras using embeddings\n",
    "- Watch the [YouTube livestream recording](https://www.youtube.com/watch?v=86GZC56rQCc&list=PLqFaTIg4myu-b1PlxitQdY0UYIbys-2es&index=2). Paige Bailey will be joined by expert speakers from Google - Omid Fatemieh, Jinhyuk Lee, Alan Li, Iftekhar Naim, Anant Nawalgaria, Yan Qiao, and Xiaoqi Ren to discuss embeddings and vector stores/databases.\n",
    "\n",
    "\n",
    "💡 **What You’ll Learn**\n",
    "\n",
    "Today you will learn about the conceptual underpinning of embeddings and vector databases and how they can be used to bring live or specialist data into your LLM application. You’ll also explore their geometrical powers for classifying and comparing textual data. \n",
    "\n",
    "\n",
    "## For help\n",
    "\n",
    "**Common issues are covered in the [FAQ and troubleshooting guide](https://www.kaggle.com/code/markishere/day-0-troubleshooting-and-faqs).**\n"
   ]
  },
  {
   "cell_type": "markdown",
   "metadata": {
    "id": "GflcN2KzBIr3"
   },
   "source": [
    "## Set up the SDK"
   ]
  },
  {
   "cell_type": "code",
   "execution_count": null,
   "metadata": {
    "execution": {
     "iopub.execute_input": "2024-11-12T10:01:44.735848Z",
     "iopub.status.busy": "2024-11-12T10:01:44.735243Z",
     "iopub.status.idle": "2024-11-12T10:02:19.347425Z",
     "shell.execute_reply": "2024-11-12T10:02:19.345995Z",
     "shell.execute_reply.started": "2024-11-12T10:01:44.73579Z"
    },
    "id": "rRDDcLfmBIVs",
    "trusted": true
   },
   "outputs": [],
   "source": [
    "%pip install -U -q \"google-generativeai>=0.8.3\""
   ]
  },
  {
   "cell_type": "code",
   "execution_count": null,
   "metadata": {
    "execution": {
     "iopub.execute_input": "2024-11-13T02:25:17.557745Z",
     "iopub.status.busy": "2024-11-13T02:25:17.557286Z",
     "iopub.status.idle": "2024-11-13T02:25:18.832768Z",
     "shell.execute_reply": "2024-11-13T02:25:18.831331Z",
     "shell.execute_reply.started": "2024-11-13T02:25:17.557702Z"
    },
    "id": "9Q5GpJkIBNyE",
    "trusted": true
   },
   "outputs": [],
   "source": [
    "import google.generativeai as genai"
   ]
  },
  {
   "cell_type": "markdown",
   "metadata": {
    "id": "3t1owWKbBCwc"
   },
   "source": [
    "### Set up your API key\n",
    "\n",
    "To run the following cell, your API key must be stored it in a [Kaggle secret](https://www.kaggle.com/discussions/product-feedback/114053) named `GOOGLE_API_KEY`.\n",
    "\n",
    "If you don't already have an API key, you can grab one from [AI Studio](https://aistudio.google.com/app/apikey). You can find [detailed instructions in the docs](https://ai.google.dev/gemini-api/docs/api-key).\n",
    "\n",
    "To make the key available through Kaggle secrets, choose `Secrets` from the `Add-ons` menu and follow the instructions to add your key or enable it for this notebook."
   ]
  },
  {
   "cell_type": "code",
   "execution_count": null,
   "metadata": {
    "execution": {
     "iopub.execute_input": "2024-11-13T02:25:19.125807Z",
     "iopub.status.busy": "2024-11-13T02:25:19.124959Z",
     "iopub.status.idle": "2024-11-13T02:25:19.311623Z",
     "shell.execute_reply": "2024-11-13T02:25:19.310558Z",
     "shell.execute_reply.started": "2024-11-13T02:25:19.125761Z"
    },
    "id": "B0GMitJlA3mE",
    "trusted": true
   },
   "outputs": [],
   "source": [
    "from kaggle_secrets import UserSecretsClient\n",
    "\n",
    "GOOGLE_API_KEY = UserSecretsClient().get_secret(\"GOOGLE_API_KEY\")\n",
    "genai.configure(api_key=GOOGLE_API_KEY)"
   ]
  },
  {
   "cell_type": "markdown",
   "metadata": {},
   "source": [
    "If you received an error response along the lines of `No user secrets exist for kernel id ...`, then you need to add your API key via `Add-ons`, `Secrets` **and** enable it.\n",
    "\n",
    "![Screenshot of the checkbox to enable GOOGLE_API_KEY secret](https://storage.googleapis.com/kaggle-media/Images/5gdai_sc_3.png)"
   ]
  },
  {
   "cell_type": "markdown",
   "metadata": {
    "id": "Sp_8uANnLlyb"
   },
   "source": [
    "### Explore available models\n",
    "\n",
    "You will be using the [`embedContent`](https://ai.google.dev/api/embeddings#method:-models.embedcontent) API method to calculate batch embeddings in this guide. Find a model that supports it through the [`models.list`](https://ai.google.dev/api/models#method:-models.list) endpoint. You can also find more information about the embedding models on [the models page](https://ai.google.dev/gemini-api/docs/models/gemini#text-embedding)."
   ]
  },
  {
   "cell_type": "code",
   "execution_count": null,
   "metadata": {
    "execution": {
     "iopub.execute_input": "2024-11-12T10:02:19.552048Z",
     "iopub.status.busy": "2024-11-12T10:02:19.551621Z",
     "iopub.status.idle": "2024-11-12T10:02:20.022236Z",
     "shell.execute_reply": "2024-11-12T10:02:20.020937Z",
     "shell.execute_reply.started": "2024-11-12T10:02:19.552006Z"
    },
    "executionInfo": {
     "elapsed": 1984,
     "status": "ok",
     "timestamp": 1729230758467,
     "user": {
      "displayName": "Mark McDonald",
      "userId": "13189749536735366901"
     },
     "user_tz": -480
    },
    "id": "7l2CClM0LllM",
    "outputId": "cd330378-138d-43a7-c4ab-53b31f577ae8",
    "trusted": true
   },
   "outputs": [],
   "source": [
    "for model in genai.list_models():\n",
    "  if 'embedContent' in model.supported_generation_methods:\n",
    "    print(model.name)"
   ]
  },
  {
   "cell_type": "markdown",
   "metadata": {
    "id": "zmGec4TqLF5j"
   },
   "source": [
    "## Calculate similarity scores\n",
    "\n",
    "This example embeds some variations on the pangram, `The quick brown fox jumps over the lazy dog`, including spelling mistakes and shortenings of the phrase. Another pangram and a somewhat unrelated phrase have been included for comparison.\n",
    "\n",
    "In this task, you are going to use the embeddings to calculate similarity scores, so the `task_type` for these embeddings is `semantic_similarity`. Check out the [API reference](https://ai.google.dev/api/embeddings#v1beta.TaskType) for the full list of tasks."
   ]
  },
  {
   "cell_type": "code",
   "execution_count": null,
   "metadata": {
    "execution": {
     "iopub.execute_input": "2024-11-13T02:28:43.429198Z",
     "iopub.status.busy": "2024-11-13T02:28:43.428465Z",
     "iopub.status.idle": "2024-11-13T02:28:43.950243Z",
     "shell.execute_reply": "2024-11-13T02:28:43.949094Z",
     "shell.execute_reply.started": "2024-11-13T02:28:43.429148Z"
    },
    "id": "PJoihtRALFdL",
    "trusted": true
   },
   "outputs": [],
   "source": [
    "texts = [\n",
    "    'The quick brown fox jumps over the lazy dog.',\n",
    "    'The quick rbown fox jumps over the lazy dog.',\n",
    "    'teh fast fox jumps over the slow woofer.',\n",
    "    'a quick brown fox jmps over lazy dog.',\n",
    "    'brown fox jumping over dog',\n",
    "    'fox > dog',\n",
    "    # Alternative pangram for comparison:\n",
    "    'The five boxing wizards jump quickly.',\n",
    "    # Unrelated text, also for comparison:\n",
    "    'Lorem ipsum dolor sit amet, consectetur adipiscing elit. Vivamus et hendrerit massa. Sed pulvinar, nisi a lobortis sagittis, neque risus gravida dolor, in porta dui odio vel purus.',\n",
    "]\n",
    "\n",
    "\n",
    "response = genai.embed_content(model='models/text-embedding-004',\n",
    "                               content=texts,\n",
    "                               task_type='semantic_similarity')"
   ]
  },
  {
   "cell_type": "markdown",
   "metadata": {},
   "source": [
    "Define a short helper function that will make it easier to display longer embedding texts in our visualisation."
   ]
  },
  {
   "cell_type": "code",
   "execution_count": null,
   "metadata": {
    "execution": {
     "iopub.execute_input": "2024-11-13T02:28:45.18365Z",
     "iopub.status.busy": "2024-11-13T02:28:45.183187Z",
     "iopub.status.idle": "2024-11-13T02:28:45.190419Z",
     "shell.execute_reply": "2024-11-13T02:28:45.189224Z",
     "shell.execute_reply.started": "2024-11-13T02:28:45.183606Z"
    },
    "id": "QnCDyQZdOQ8M",
    "trusted": true
   },
   "outputs": [],
   "source": [
    "def truncate(t: str, limit: int = 50) -> str:\n",
    "  \"\"\"Truncate labels to fit on the chart.\"\"\"\n",
    "  if len(t) > limit:\n",
    "    return t[:limit-3] + '...'\n",
    "  else:\n",
    "    return t\n",
    "\n",
    "truncated_texts = [truncate(t) for t in texts]"
   ]
  },
  {
   "cell_type": "markdown",
   "metadata": {
    "id": "ARqdVQN6R1Um"
   },
   "source": [
    "A similarity score of two embedding vectors can be obtained by calculating their inner product. If $\\mathbf{u}$ is the first embedding vector, and $\\mathbf{v}$ the second, this is $\\mathbf{u}^T \\mathbf{v}$. As these embedding vectors are normalised to unit length, this is also the cosine similarity.\n",
    "\n",
    "This score can be computed across all embeddings through the matrix self-multiplication: `df @ df.T`.\n",
    "\n",
    "Note that the range from 0.0 (completely dissimilar) to 1.0 (completely similar) is depicted in the heatmap from dark (0.0) to light (1.0)."
   ]
  },
  {
   "cell_type": "code",
   "execution_count": null,
   "metadata": {
    "execution": {
     "iopub.execute_input": "2024-11-13T02:28:47.016696Z",
     "iopub.status.busy": "2024-11-13T02:28:47.016223Z",
     "iopub.status.idle": "2024-11-13T02:28:47.567605Z",
     "shell.execute_reply": "2024-11-13T02:28:47.566251Z",
     "shell.execute_reply.started": "2024-11-13T02:28:47.016654Z"
    },
    "executionInfo": {
     "elapsed": 818,
     "status": "ok",
     "timestamp": 1729231597583,
     "user": {
      "displayName": "Mark McDonald",
      "userId": "13189749536735366901"
     },
     "user_tz": -480
    },
    "id": "ADlivURDM1mY",
    "outputId": "9a420f7d-3ae8-434b-a66f-6a8a4336bcdf",
    "trusted": true
   },
   "outputs": [],
   "source": [
    "import pandas as pd\n",
    "import seaborn as sns\n",
    "\n",
    "\n",
    "# Set up the embeddings in a dataframe.\n",
    "df = pd.DataFrame(response['embedding'], index=truncated_texts)\n",
    "# Perform the similarity calculation\n",
    "sim = df @ df.T\n",
    "# Draw!\n",
    "sns.heatmap(sim, vmin=0, vmax=1);"
   ]
  },
  {
   "cell_type": "markdown",
   "metadata": {
    "id": "xpvA8jzHoQhH"
   },
   "source": [
    "You can see the scores for a particular term directly by looking it up in the dataframe."
   ]
  },
  {
   "cell_type": "code",
   "execution_count": null,
   "metadata": {
    "execution": {
     "iopub.execute_input": "2024-11-13T02:28:51.056916Z",
     "iopub.status.busy": "2024-11-13T02:28:51.056455Z",
     "iopub.status.idle": "2024-11-13T02:28:51.068643Z",
     "shell.execute_reply": "2024-11-13T02:28:51.067365Z",
     "shell.execute_reply.started": "2024-11-13T02:28:51.056869Z"
    },
    "executionInfo": {
     "elapsed": 506,
     "status": "ok",
     "timestamp": 1729238230946,
     "user": {
      "displayName": "Mark McDonald",
      "userId": "13189749536735366901"
     },
     "user_tz": -480
    },
    "id": "Cpbjryx3oU5Z",
    "outputId": "efaeee0f-eea8-40cb-d60e-99d96ff64735",
    "trusted": true
   },
   "outputs": [],
   "source": [
    "sim['The quick brown fox jumps over the lazy dog.'].sort_values(ascending=False)"
   ]
  },
  {
   "cell_type": "markdown",
   "metadata": {},
   "source": [
    "Try exploring the embeddings of your own datasets, or explore those available in [Kaggle datasets](https://www.kaggle.com/datasets)."
   ]
  },
  {
   "cell_type": "markdown",
   "metadata": {
    "id": "asDEEGOppb9f"
   },
   "source": [
    "## Further reading\n",
    "\n",
    "* Explore [search re-ranking using embeddings](https://github.com/google-gemini/cookbook/blob/main/examples/Search_reranking_using_embeddings.ipynb) with the Wikipedia API\n",
    "* Perform [anomaly detection using embeddings](https://github.com/google-gemini/cookbook/blob/main/examples/Anomaly_detection_with_embeddings.ipynb)"
   ]
  }
 ],
 "metadata": {
  "colab": {
   "authorship_tag": "ABX9TyPVZ4pRXCpE4LFVF2nKXB7F",
   "provenance": [],
   "toc_visible": true
  },
  "kaggle": {
   "accelerator": "none",
   "dataSources": [],
   "dockerImageVersionId": 30786,
   "isGpuEnabled": false,
   "isInternetEnabled": true,
   "language": "python",
   "sourceType": "notebook"
  },
  "kernelspec": {
   "display_name": "Python 3",
   "language": "python",
   "name": "python3"
  },
  "language_info": {
   "codemirror_mode": {
    "name": "ipython",
    "version": 3
   },
   "file_extension": ".py",
   "mimetype": "text/x-python",
   "name": "python",
   "nbconvert_exporter": "python",
   "pygments_lexer": "ipython3",
   "version": "3.10.14"
  }
 },
 "nbformat": 4,
 "nbformat_minor": 4
}
