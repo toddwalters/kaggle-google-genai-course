{
 "cells": [
  {
   "cell_type": "markdown",
   "id": "8aee0d88",
   "metadata": {
    "id": "jkxRSYjzA1oX",
    "papermill": {
     "duration": 0.013141,
     "end_time": "2024-11-23T20:21:30.448999",
     "exception": false,
     "start_time": "2024-11-23T20:21:30.435858",
     "status": "completed"
    },
    "tags": []
   },
   "source": [
    "##### Copyright 2024 Google LLC."
   ]
  },
  {
   "cell_type": "code",
   "execution_count": null,
   "id": "7ee5f40d",
   "metadata": {
    "cellView": "form",
    "execution": {
     "iopub.execute_input": "2024-11-23T20:21:30.476062Z",
     "iopub.status.busy": "2024-11-23T20:21:30.475674Z",
     "iopub.status.idle": "2024-11-23T20:21:30.481024Z",
     "shell.execute_reply": "2024-11-23T20:21:30.480046Z"
    },
    "id": "5u5OZ2ShA3BA",
    "jupyter": {
     "source_hidden": true
    },
    "papermill": {
     "duration": 0.021724,
     "end_time": "2024-11-23T20:21:30.482973",
     "exception": false,
     "start_time": "2024-11-23T20:21:30.461249",
     "status": "completed"
    },
    "tags": []
   },
   "outputs": [],
   "source": [
    "# @title Licensed under the Apache License, Version 2.0 (the \"License\");\n",
    "# you may not use this file except in compliance with the License.\n",
    "# You may obtain a copy of the License at\n",
    "#\n",
    "# https://www.apache.org/licenses/LICENSE-2.0\n",
    "#\n",
    "# Unless required by applicable law or agreed to in writing, software\n",
    "# distributed under the License is distributed on an \"AS IS\" BASIS,\n",
    "# WITHOUT WARRANTIES OR CONDITIONS OF ANY KIND, either express or implied.\n",
    "# See the License for the specific language governing permissions and\n",
    "# limitations under the License."
   ]
  },
  {
   "cell_type": "markdown",
   "id": "cc033d00",
   "metadata": {
    "id": "csNPnkuCobmG",
    "papermill": {
     "duration": 0.011627,
     "end_time": "2024-11-23T20:21:30.506673",
     "exception": false,
     "start_time": "2024-11-23T20:21:30.495046",
     "status": "completed"
    },
    "tags": []
   },
   "source": [
    "# Day 1 - Prompting\n",
    "\n",
    "Welcome to the Kaggle 5-day Generative AI course!\n",
    "\n",
    "This notebook will show you how to get started with the Gemini API and walk you through some of the example prompts and techniques that you can also read about in the Prompting whitepaper. You don't need to read the whitepaper to use this notebook, but the papers will give you some theoretical context and background to complement this interactive notebook.\n",
    "\n",
    "🎒 Today’s Assignments\n",
    "\n",
    "1. Complete the Intro Unit – “Foundational Large Language Models & Text Generation”, which is:\n",
    "\n",
    "- *Optional* Listen to the summary [podcast episode](https://notifications.googleapis.com/email/redirect?t=AFG8qyXdXy-ggNPtu6NItv5CFwwUMZrAbTtDuvmrIg-dlqre0aDoV8O7dbkfjNFSy7R6-SSmZ-5mQwXttMIHqjIxxLW3hUy0_iKsV4mUOJLrq0CUSQskPaUbCaMqkAomZf10ssIsJaZoOXqP8zWcMZ6bpq-NLwIrILxXGPnRO7pBKD6XOQAGGiOkjQ1f6CzNyCDG829gouF1zUCwj-hcUFoRMP3rM4i9rctunFDcweRv_o8ljilug-zARzM1HUaXBwrMTg&r=eJzLKCkpKLbS16_MLy0p1UtK1c8NdMlxjooq9q_MBwCWDwpF&s=ALHZ2r4EYoG5D2E6gWjRo9S_8E6m) for this unit (created by [NotebookLM](https://notifications.googleapis.com/email/redirect?t=AFG8qyWt2HA5odg35uXefQtgcOVYnqg-XoHFEO5FMqnP2e0JjYPE0O0szIaJAM1k0KApXLGK-wkHNU6TH98YFbWsi90RqY2teGYRw1dE3QGdwQxNW4hVwQoTynKRPRIziLFJ920dwsaMRUJf4B6wmiLJYNkpn-rncQlq5HxFR_w8-Zm6HM68pWf2p1177ZanWX7mjhSH6KAqZe9lKQ6dXeQKwIlpeofZCy89fWwnVS1L4x287nSG_0Bwp-79_V4kD9WsOA&r=eJzLKCkpKLbS18_LL0lNys_PzsnVS8_PT89J1UvOz9W3zy_KTM_MS8yJL0pNSy1KLbLNAKtXNXIDovLyciTFqkbGagU5mbaGABuTHe8&s=ALHZ2r559pxz2MIdUwaOZEwlQURG)).\n",
    "- Read the “[Foundational Large Language Models & Text Generation” whitepaper](https://notifications.googleapis.com/email/redirect?t=AFG8qyUZIKXV9iPKBLHGddwRN2wQ6tj5B09E7I3WP91to1eazrrhzTvieL9dAb75Uxd56bSOrgeP067Z1xTIKylWhCgDxiFR6hNIlalTtnzs06lpggSGAFneKfwtZkoxGDHsWWKEC7p7Wi7q0hxse-o3odpzpAFZjPH0slAVTCdFl2NzFQis0Ru7SuMeKhD38QzluU4Foon_t7sT4gggHDozSTBpTewN6vX_1Yye9aqIbh0rR82hG0ZBzaV9evJ2wXyvPA&r=eJwdyVEOgCAIANATof_dhiWiC4EZjY7f1vt9I8Lvo9bMLBcyC5XTVs0xgxydNnR7tGFMUxQQWYDaIOgNYFLa_3yx_hrt&s=ALHZ2r5C8cJp2U3xx-hd2jSO3NtP).\n",
    "  \n",
    "2. Complete Unit 1 – “Prompt Engineering”, which is:\n",
    "\n",
    "- *Optional* Listen to the summary [podcast episode](https://notifications.googleapis.com/email/redirect?t=AFG8qyWmYKv3k7rvcElqWbBlxi7PG8_W5QsZ-ULfKrAJ-SZlrAr_vbnaYBpIkUB1GaohNfa-XowqN_caXPXHJd_IQ1JzPit9xCGh8TsCXu6EAYwW79DS-ToBEJO_oyHURTdeVYhp97z0PmkNLMMcoJW8FKXxG7E2wq3N6Kv904X51KZCheTNMC-L3z11KhTgkKMpi4aFyym8Qf33o4SWlm2gKVedoIHEXsGIOTDhp74c-NGszAfucqLvzS5tkgXIgjR4Qw&r=eJzLKCkpKLbS16_MLy0p1UtK1XeLz_Aycq00cfJLBgCTQwmk&s=ALHZ2r6uUBISlndYmIbhfjylSLqQ) for this unit (created by NotebookLM).\n",
    "- Read the [“Prompt Engineering” whitepaper](https://notifications.googleapis.com/email/redirect?t=AFG8qyW2JVFXq0ixuEojV5gfnxLL0YwGXNMB139m79bputf3zvsjHKRh1WfQ1FBfXagqXIsdrihS1KFbJ1yL-J7YIIrDxNz8A8R3FAJAZ63XdwYuJmtmCoK3x0jrGeU69Spmb2aO-HARjan-szNt2zhFZisGoycJdosx3ss6x65dtO3WxhfxCOWbg_czaqRuawEuWtuf4oJ7Ok0gISCsjHegojVsdtWP2q4ttFc5kjS7oaR_FVeFbv9p2HsIPSqbO94lyA&r=eJwFwUEKwCAMBMAXae79jZQlBmtc0kC-78zM5P-IVFVfQ_VDf8-WmpbgIKIxzmY2uJoDYa4XDAUUJg&s=ALHZ2r6HhQdRDCW0KG7L7PIR3hSj).\n",
    "- Complete this code lab on Kaggle where you’ll learn prompting fundamentals. Make sure you phone verify your account before starting, it's necessary for the code labs.\n",
    "\n",
    "💡What You’ll Learn\n",
    "\n",
    "Today you’ll explore the evolution of LLMs, from transformers to techniques like fine-tuning and inference acceleration. You’ll also get trained in the art of prompt engineering for optimal LLM interaction.\n",
    "\n",
    "\n",
    "The code lab will walk you through getting started with the Gemini API and cover several prompt techniques and how different parameters impact the prompts.\n",
    "\n",
    "\n",
    "## Before you begin\n",
    "\n",
    "In this notebook, you'll start exploring prompts and prompt parameters using the Python SDK and AI Studio. For some inspiration, you might enjoy exploring some apps that have been built using the Gemini family of models. Here are a few that we like, and we think you will too.\n",
    "\n",
    "* [TextFX](https://textfx.withgoogle.com/) is a suite of AI-powered tools for rappers, made in collaboration with Lupe Fiasco,\n",
    "* [SQL Talk](https://sql-talk-r5gdynozbq-uc.a.run.app/) shows how you can talk directly to a database using the Gemini API,\n",
    "* [NotebookLM](https://notebooklm.google/) uses Gemini models to build your own personal AI research assistant.\n",
    "\n",
    "\n",
    "## For help\n",
    "\n",
    "**Common issues are covered in the [FAQ and troubleshooting guide](https://www.kaggle.com/code/markishere/day-0-troubleshooting-and-faqs).**\n",
    "\n",
    "### A note on the Gemini API and Vertex AI\n",
    "\n",
    "In the whitepapers, most of the example code uses the Enterprise [Vertex AI platform](https://cloud.google.com/vertex-ai). In contrast, this notebook, along with the others in this series, will use the [Gemini Developer API](https://ai.google.dev/gemini-api/) and [AI Studio](https://aistudio.google.com/).\n",
    "\n",
    "Both APIs provide access to the Gemini family of models, and the code to interact with the models is very similar. Vertex provides a world-class platform for enterprises, governments and advanced users that need powerful features like data governance, ML ops and deep Google Cloud integration.\n",
    "\n",
    "AI Studio is free to use and only requires a compatible Google account to log in and get started. It is deeply integrated with the Gemini API, which comes with a generous [free tier](https://ai.google.dev/pricing) that you can use to run the code in these exercises.\n",
    "\n",
    "If you are already set up with Google Cloud, you can check out the [Enterprise Gemini API](https://cloud.google.com/vertex-ai/generative-ai/docs/model-reference/inference) through Vertex AI, and run the samples directly from the supplied whitepapers."
   ]
  },
  {
   "cell_type": "markdown",
   "id": "2cbc1b33",
   "metadata": {
    "id": "f00ea7c99e44",
    "papermill": {
     "duration": 0.011636,
     "end_time": "2024-11-23T20:21:30.530137",
     "exception": false,
     "start_time": "2024-11-23T20:21:30.518501",
     "status": "completed"
    },
    "tags": []
   },
   "source": [
    "## Get started with Kaggle notebooks\n",
    "\n",
    "If this is your first time using a Kaggle notebook, welcome! You can read about how to use Kaggle notebooks [in the docs](https://www.kaggle.com/docs/notebooks).\n",
    "\n",
    "First, you will need to phone verify your account at kaggle.com/settings.\n",
    "\n",
    "![](https://storage.googleapis.com/kaggle-media/Images/5dgai_0.png)"
   ]
  },
  {
   "cell_type": "markdown",
   "id": "60565ac9",
   "metadata": {
    "papermill": {
     "duration": 0.011714,
     "end_time": "2024-11-23T20:21:30.553589",
     "exception": false,
     "start_time": "2024-11-23T20:21:30.541875",
     "status": "completed"
    },
    "tags": []
   },
   "source": [
    "To run this notebook, as well as the others in this course, you will need to make a copy, or fork, the notebook. Look for the `Copy and Edit` button in the top-right, and **click it** to make an editable, private copy of the notebook. It should look like this one:\n",
    "\n",
    "![Copy and Edit button](https://storage.googleapis.com/kaggle-media/Images/5gdai_sc_1.png)\n",
    "\n",
    "Your copy will now have a ▶️ **Run** button next to each code cell that you can press to execute that cell. These notebooks are expected to be run in order from top-to-bottom, but you are encouraged to add new cells, run your own code and explore. If you get stuck, you can try the `Factory reset` option in the `Run` menu, or head back to the original notebook and make a fresh copy.\n",
    "\n",
    "![Run cell button](https://storage.googleapis.com/kaggle-media/Images/5gdai_sc_2.png)\n",
    "\n",
    "### Problems?\n",
    "\n",
    "If you have any problems, head over to the [Kaggle Discord](https://discord.com/invite/kaggle), find the [`#5dgai-q-and-a` channel](https://discord.com/channels/1101210829807956100/1303438695143178251) and ask for help."
   ]
  },
  {
   "cell_type": "markdown",
   "id": "9fdf5963",
   "metadata": {
    "id": "ExkOXcPxtTb5",
    "papermill": {
     "duration": 0.011677,
     "end_time": "2024-11-23T20:21:30.577242",
     "exception": false,
     "start_time": "2024-11-23T20:21:30.565565",
     "status": "completed"
    },
    "tags": []
   },
   "source": [
    "## Get started with the Gemini API\n",
    "\n",
    "All of the exercises in this notebook will use the [Gemini API](https://ai.google.dev/gemini-api/) by way of the [Python SDK](https://pypi.org/project/google-generativeai/). Each of these prompts can be accessed directly in [Google AI Studio](https://aistudio.google.com/) too, so if you would rather use a web interface and skip the code for this activity, look for the <img src=\"https://ai.google.dev/site-assets/images/marketing/home/icon-ais.png\" style=\"height: 24px\" height=24/> AI Studio link on each prompt."
   ]
  },
  {
   "cell_type": "markdown",
   "id": "055dd162",
   "metadata": {
    "papermill": {
     "duration": 0.011638,
     "end_time": "2024-11-23T20:21:30.600714",
     "exception": false,
     "start_time": "2024-11-23T20:21:30.589076",
     "status": "completed"
    },
    "tags": []
   },
   "source": [
    "Next, you will need to add your API key to your Kaggle Notebook as a Kaggle User Secret.\n",
    "\n",
    "![](https://storage.googleapis.com/kaggle-media/Images/5dgai_1.png)\n",
    "![](https://storage.googleapis.com/kaggle-media/Images/5dgai_2.png)\n",
    "![](https://storage.googleapis.com/kaggle-media/Images/5dgai_3.png)\n",
    "![](https://storage.googleapis.com/kaggle-media/Images/5dgai_4.png)"
   ]
  },
  {
   "cell_type": "markdown",
   "id": "9cb23fb8",
   "metadata": {
    "id": "UAjUV3BsvFXQ",
    "papermill": {
     "duration": 0.011516,
     "end_time": "2024-11-23T20:21:30.624359",
     "exception": false,
     "start_time": "2024-11-23T20:21:30.612843",
     "status": "completed"
    },
    "tags": []
   },
   "source": [
    "### Install the SDK"
   ]
  },
  {
   "cell_type": "code",
   "execution_count": null,
   "id": "bc1d011d",
   "metadata": {
    "_kg_hide-output": false,
    "execution": {
     "iopub.execute_input": "2024-11-23T20:21:30.650258Z",
     "iopub.status.busy": "2024-11-23T20:21:30.649714Z",
     "iopub.status.idle": "2024-11-23T20:21:58.904517Z",
     "shell.execute_reply": "2024-11-23T20:21:58.903342Z"
    },
    "id": "NzwzJFU9LqkJ",
    "papermill": {
     "duration": 28.270352,
     "end_time": "2024-11-23T20:21:58.906592",
     "exception": false,
     "start_time": "2024-11-23T20:21:30.636240",
     "status": "completed"
    },
    "tags": []
   },
   "outputs": [],
   "source": [
    "# %pip install -U -q \"google-generativeai>=0.8.3\""
   ]
  },
  {
   "cell_type": "markdown",
   "id": "0553e68f",
   "metadata": {
    "papermill": {
     "duration": 0.011816,
     "end_time": "2024-11-23T20:21:58.930679",
     "exception": false,
     "start_time": "2024-11-23T20:21:58.918863",
     "status": "completed"
    },
    "tags": []
   },
   "source": [
    "You do not need to restart the kernel."
   ]
  },
  {
   "cell_type": "code",
   "execution_count": null,
   "id": "409f0ce1",
   "metadata": {
    "execution": {
     "iopub.execute_input": "2024-11-23T20:21:58.956514Z",
     "iopub.status.busy": "2024-11-23T20:21:58.956047Z",
     "iopub.status.idle": "2024-11-23T20:22:01.596879Z",
     "shell.execute_reply": "2024-11-23T20:22:01.595532Z"
    },
    "papermill": {
     "duration": 2.656889,
     "end_time": "2024-11-23T20:22:01.599387",
     "exception": false,
     "start_time": "2024-11-23T20:21:58.942498",
     "status": "completed"
    },
    "tags": []
   },
   "outputs": [],
   "source": [
    "# %pip freeze"
   ]
  },
  {
   "cell_type": "code",
   "execution_count": 5,
   "id": "8b232f10",
   "metadata": {
    "execution": {
     "iopub.execute_input": "2024-11-23T20:22:01.628233Z",
     "iopub.status.busy": "2024-11-23T20:22:01.627791Z",
     "iopub.status.idle": "2024-11-23T20:22:01.634181Z",
     "shell.execute_reply": "2024-11-23T20:22:01.633079Z"
    },
    "papermill": {
     "duration": 0.02291,
     "end_time": "2024-11-23T20:22:01.636104",
     "exception": false,
     "start_time": "2024-11-23T20:22:01.613194",
     "status": "completed"
    },
    "tags": []
   },
   "outputs": [
    {
     "name": "stdout",
     "output_type": "stream",
     "text": [
      "Python 3.10.14\n"
     ]
    }
   ],
   "source": [
    "import sys\n",
    "version_info = sys.version_info\n",
    "print(f\"Python {version_info.major}.{version_info.minor}.{version_info.micro}\")"
   ]
  },
  {
   "cell_type": "code",
   "execution_count": 6,
   "id": "0759ff79",
   "metadata": {
    "execution": {
     "iopub.execute_input": "2024-11-23T20:22:01.664504Z",
     "iopub.status.busy": "2024-11-23T20:22:01.663563Z",
     "iopub.status.idle": "2024-11-23T20:22:02.725524Z",
     "shell.execute_reply": "2024-11-23T20:22:02.724567Z"
    },
    "id": "5DwxYIRavMST",
    "papermill": {
     "duration": 1.078585,
     "end_time": "2024-11-23T20:22:02.727826",
     "exception": false,
     "start_time": "2024-11-23T20:22:01.649241",
     "status": "completed"
    },
    "tags": []
   },
   "outputs": [],
   "source": [
    "import google.generativeai as genai\n",
    "from IPython.display import HTML, Markdown, display"
   ]
  },
  {
   "cell_type": "markdown",
   "id": "a6e756b0",
   "metadata": {
    "id": "DNEt2BCOvOJ1",
    "papermill": {
     "duration": 0.013343,
     "end_time": "2024-11-23T20:22:02.755225",
     "exception": false,
     "start_time": "2024-11-23T20:22:02.741882",
     "status": "completed"
    },
    "tags": []
   },
   "source": [
    "### Set up your API key\n",
    "\n",
    "To run the following cell, your API key must be stored it in a [Kaggle secret](https://www.kaggle.com/discussions/product-feedback/114053) named `GOOGLE_API_KEY`.\n",
    "\n",
    "If you don't already have an API key, you can grab one from [AI Studio](https://aistudio.google.com/app/apikey). You can find [detailed instructions in the docs](https://ai.google.dev/gemini-api/docs/api-key).\n",
    "\n",
    "To make the key available through Kaggle secrets, choose `Secrets` from the `Add-ons` menu and follow the instructions to add your key or enable it for this notebook."
   ]
  },
  {
   "cell_type": "code",
   "execution_count": 7,
   "id": "92f8497f",
   "metadata": {
    "execution": {
     "iopub.execute_input": "2024-11-23T20:22:02.783425Z",
     "iopub.status.busy": "2024-11-23T20:22:02.782689Z",
     "iopub.status.idle": "2024-11-23T20:22:03.085078Z",
     "shell.execute_reply": "2024-11-23T20:22:03.084282Z"
    },
    "id": "SHl0bkPCvayd",
    "papermill": {
     "duration": 0.319224,
     "end_time": "2024-11-23T20:22:03.087522",
     "exception": false,
     "start_time": "2024-11-23T20:22:02.768298",
     "status": "completed"
    },
    "tags": []
   },
   "outputs": [
    {
     "name": "stdout",
     "output_type": "stream",
     "text": [
      "Loading Google AI Studio API Key from .env file\n"
     ]
    }
   ],
   "source": [
    "# from kaggle_secrets import UserSecretsClient\n",
    "# \n",
    "# GOOGLE_API_KEY = UserSecretsClient().get_secret(\"GOOGLE_API_KEY\")\n",
    "# genai.configure(api_key=GOOGLE_API_KEY)\n",
    "\n",
    "import os\n",
    "from dotenv import load_dotenv\n",
    "load_dotenv(verbose=True, dotenv_path='.env', override=True)\n",
    "GOOGLE_API_KEY = os.getenv('GOOGLE_API_KEY')\n",
    "print(\"Loading Google AI Studio API Key from .env file\")"
   ]
  },
  {
   "cell_type": "markdown",
   "id": "ad381cae",
   "metadata": {
    "id": "4e720472fd86",
    "papermill": {
     "duration": 0.012654,
     "end_time": "2024-11-23T20:22:03.113550",
     "exception": false,
     "start_time": "2024-11-23T20:22:03.100896",
     "status": "completed"
    },
    "tags": []
   },
   "source": [
    "If you received an error response along the lines of `No user secrets exist for kernel id ...`, then you need to add your API key via `Add-ons`, `Secrets` **and** enable it.\n",
    "\n",
    "![Screenshot of the checkbox to enable GOOGLE_API_KEY secret](https://storage.googleapis.com/kaggle-media/Images/5gdai_sc_3.png)"
   ]
  },
  {
   "cell_type": "markdown",
   "id": "26e9bf98",
   "metadata": {
    "id": "H_YXCYIKvyZJ",
    "papermill": {
     "duration": 0.013171,
     "end_time": "2024-11-23T20:22:03.139626",
     "exception": false,
     "start_time": "2024-11-23T20:22:03.126455",
     "status": "completed"
    },
    "tags": []
   },
   "source": [
    "### Run your first prompt\n",
    "\n",
    "In this step, you will test that your API key is set up correctly by making a request. The `gemini-1.5-flash` model has been selected here."
   ]
  },
  {
   "cell_type": "code",
   "execution_count": 8,
   "id": "023ef3d3",
   "metadata": {
    "execution": {
     "iopub.execute_input": "2024-11-23T20:22:03.167834Z",
     "iopub.status.busy": "2024-11-23T20:22:03.167018Z",
     "iopub.status.idle": "2024-11-23T20:22:07.060291Z",
     "shell.execute_reply": "2024-11-23T20:22:07.059203Z"
    },
    "id": "BV1o0PmcvyJF",
    "papermill": {
     "duration": 3.909882,
     "end_time": "2024-11-23T20:22:07.062545",
     "exception": false,
     "start_time": "2024-11-23T20:22:03.152663",
     "status": "completed"
    },
    "tags": []
   },
   "outputs": [
    {
     "name": "stdout",
     "output_type": "stream",
     "text": [
      "Imagine you have a really smart puppy.  You teach it tricks, like \"sit\" and \"fetch\".  At first, it doesn't know what those words mean, but you show it, and it learns!\n",
      "\n",
      "AI is like teaching a computer to do tricks, but instead of \"sit\" and \"fetch\", it's things like recognizing your face in a picture, understanding what you say, or even playing a game against you.\n",
      "\n",
      "We teach the computer by showing it lots and lots of examples.  For example, to recognize a cat, we show it thousands of pictures of cats.  The computer learns the patterns – pointy ears, whiskers, a furry tail – and then it can identify cats in new pictures it's never seen before!\n",
      "\n",
      "It's not really *thinking* like you and me, but it's getting really good at following instructions and solving problems, just like your clever puppy!  It's still learning, and it gets better the more we teach it.\n",
      "\n"
     ]
    }
   ],
   "source": [
    "flash = genai.GenerativeModel('gemini-1.5-flash')\n",
    "response = flash.generate_content(\"Explain AI to me like I'm a kid.\")\n",
    "print(response.text)"
   ]
  },
  {
   "cell_type": "markdown",
   "id": "eab061b1",
   "metadata": {
    "id": "f60ed9d8ae41",
    "papermill": {
     "duration": 0.012846,
     "end_time": "2024-11-23T20:22:07.088906",
     "exception": false,
     "start_time": "2024-11-23T20:22:07.076060",
     "status": "completed"
    },
    "tags": []
   },
   "source": [
    "The response often comes back in markdown format, which you can render directly in this notebook."
   ]
  },
  {
   "cell_type": "code",
   "execution_count": 9,
   "id": "0089c5f5",
   "metadata": {
    "execution": {
     "iopub.execute_input": "2024-11-23T20:22:07.117178Z",
     "iopub.status.busy": "2024-11-23T20:22:07.116795Z",
     "iopub.status.idle": "2024-11-23T20:22:07.124865Z",
     "shell.execute_reply": "2024-11-23T20:22:07.123836Z"
    },
    "id": "c933e5e460a5",
    "papermill": {
     "duration": 0.0245,
     "end_time": "2024-11-23T20:22:07.126786",
     "exception": false,
     "start_time": "2024-11-23T20:22:07.102286",
     "status": "completed"
    },
    "tags": []
   },
   "outputs": [
    {
     "data": {
      "text/markdown": [
       "Imagine you have a really smart puppy.  You teach it tricks, like \"sit\" and \"fetch\".  At first, it doesn't know what those words mean, but you show it, and it learns!\n",
       "\n",
       "AI is like teaching a computer to do tricks, but instead of \"sit\" and \"fetch\", it's things like recognizing your face in a picture, understanding what you say, or even playing a game against you.\n",
       "\n",
       "We teach the computer by showing it lots and lots of examples.  For example, to recognize a cat, we show it thousands of pictures of cats.  The computer learns the patterns – pointy ears, whiskers, a furry tail – and then it can identify cats in new pictures it's never seen before!\n",
       "\n",
       "It's not really *thinking* like you and me, but it's getting really good at following instructions and solving problems, just like your clever puppy!  It's still learning, and it gets better the more we teach it.\n"
      ],
      "text/plain": [
       "<IPython.core.display.Markdown object>"
      ]
     },
     "execution_count": 9,
     "metadata": {},
     "output_type": "execute_result"
    }
   ],
   "source": [
    "Markdown(response.text)"
   ]
  },
  {
   "cell_type": "markdown",
   "id": "20d74bff",
   "metadata": {
    "id": "byx0pT9ZMW2Q",
    "papermill": {
     "duration": 0.012929,
     "end_time": "2024-11-23T20:22:07.153236",
     "exception": false,
     "start_time": "2024-11-23T20:22:07.140307",
     "status": "completed"
    },
    "tags": []
   },
   "source": [
    "### Start a chat\n",
    "\n",
    "The previous example uses a single-turn, text-in/text-out structure, but you can also set up a multi-turn chat structure too."
   ]
  },
  {
   "cell_type": "code",
   "execution_count": 10,
   "id": "ec248ec6",
   "metadata": {
    "execution": {
     "iopub.execute_input": "2024-11-23T20:22:07.181630Z",
     "iopub.status.busy": "2024-11-23T20:22:07.181242Z",
     "iopub.status.idle": "2024-11-23T20:22:10.853534Z",
     "shell.execute_reply": "2024-11-23T20:22:10.852373Z"
    },
    "id": "lV_S5ZL5MidD",
    "papermill": {
     "duration": 3.689701,
     "end_time": "2024-11-23T20:22:10.856068",
     "exception": false,
     "start_time": "2024-11-23T20:22:07.166367",
     "status": "completed"
    },
    "tags": []
   },
   "outputs": [
    {
     "name": "stdout",
     "output_type": "stream",
     "text": [
      "It's nice to meet you, Zlork!  How can I help you today?\n",
      "\n"
     ]
    }
   ],
   "source": [
    "chat = flash.start_chat(history=[])\n",
    "response = chat.send_message('Hello! My name is Zlork.')\n",
    "print(response.text)"
   ]
  },
  {
   "cell_type": "code",
   "execution_count": 11,
   "id": "59a229d7",
   "metadata": {
    "execution": {
     "iopub.execute_input": "2024-11-23T20:22:10.885327Z",
     "iopub.status.busy": "2024-11-23T20:22:10.884923Z",
     "iopub.status.idle": "2024-11-23T20:22:13.930320Z",
     "shell.execute_reply": "2024-11-23T20:22:13.929179Z"
    },
    "id": "7b0372c3c64a",
    "papermill": {
     "duration": 3.063006,
     "end_time": "2024-11-23T20:22:13.932509",
     "exception": false,
     "start_time": "2024-11-23T20:22:10.869503",
     "status": "completed"
    },
    "tags": []
   },
   "outputs": [
    {
     "name": "stdout",
     "output_type": "stream",
     "text": [
      "Many dinosaurs likely had feathers!  While we picture most dinosaurs as scaly reptiles,  evidence shows that many theropod dinosaurs (the group that includes *Tyrannosaurus rex*, but also smaller, bird-like dinosaurs) were covered in feathers, or at least downy protofeathers. This is strong evidence supporting the evolutionary link between dinosaurs and birds.  It completely changes our understanding of what many dinosaurs looked like!\n",
      "\n"
     ]
    }
   ],
   "source": [
    "response = chat.send_message('Can you tell something interesting about dinosaurs?')\n",
    "print(response.text)"
   ]
  },
  {
   "cell_type": "code",
   "execution_count": 12,
   "id": "9048397f",
   "metadata": {
    "execution": {
     "iopub.execute_input": "2024-11-23T20:22:13.961902Z",
     "iopub.status.busy": "2024-11-23T20:22:13.961520Z",
     "iopub.status.idle": "2024-11-23T20:22:15.052378Z",
     "shell.execute_reply": "2024-11-23T20:22:15.051259Z"
    },
    "id": "d3f9591392a7",
    "papermill": {
     "duration": 1.108289,
     "end_time": "2024-11-23T20:22:15.054545",
     "exception": false,
     "start_time": "2024-11-23T20:22:13.946256",
     "status": "completed"
    },
    "tags": []
   },
   "outputs": [
    {
     "name": "stdout",
     "output_type": "stream",
     "text": [
      "Yes, your name is Zlork.\n",
      "\n"
     ]
    }
   ],
   "source": [
    "# While you have the `chat` object around, the conversation state\n",
    "# persists. Confirm that by asking if it knows my name.\n",
    "response = chat.send_message('Do you remember what my name is?')\n",
    "print(response.text)"
   ]
  },
  {
   "cell_type": "markdown",
   "id": "bb0a312a",
   "metadata": {
    "id": "2KAjpr1200sW",
    "papermill": {
     "duration": 0.013132,
     "end_time": "2024-11-23T20:22:15.081221",
     "exception": false,
     "start_time": "2024-11-23T20:22:15.068089",
     "status": "completed"
    },
    "tags": []
   },
   "source": [
    "### Choose a model\n",
    "\n",
    "The Gemini API provides access to a number of models from the Gemini model family. Read about the available models and their capabilities on the [model overview page](https://ai.google.dev/gemini-api/docs/models/gemini).\n",
    "\n",
    "In this step you'll use the API to list all of the available models."
   ]
  },
  {
   "cell_type": "code",
   "execution_count": null,
   "id": "bead4faf",
   "metadata": {
    "execution": {
     "iopub.execute_input": "2024-11-23T20:22:15.110414Z",
     "iopub.status.busy": "2024-11-23T20:22:15.109224Z",
     "iopub.status.idle": "2024-11-23T20:22:15.912257Z",
     "shell.execute_reply": "2024-11-23T20:22:15.911131Z"
    },
    "id": "uUUZa2uq2jDm",
    "papermill": {
     "duration": 0.819931,
     "end_time": "2024-11-23T20:22:15.914527",
     "exception": false,
     "start_time": "2024-11-23T20:22:15.094596",
     "status": "completed"
    },
    "tags": []
   },
   "outputs": [],
   "source": [
    "for model in genai.list_models():\n",
    "  print(model.name)"
   ]
  },
  {
   "cell_type": "markdown",
   "id": "c36a2b1b",
   "metadata": {
    "id": "rN49kSI54R1v",
    "papermill": {
     "duration": 0.013146,
     "end_time": "2024-11-23T20:22:15.941543",
     "exception": false,
     "start_time": "2024-11-23T20:22:15.928397",
     "status": "completed"
    },
    "tags": []
   },
   "source": [
    "The [`models.list`](https://ai.google.dev/api/models#method:-models.list) response also returns additional information about the model's capabilities, like the token limits and supported parameters."
   ]
  },
  {
   "cell_type": "code",
   "execution_count": 13,
   "id": "8d4c9fba",
   "metadata": {
    "execution": {
     "iopub.execute_input": "2024-11-23T20:22:15.970508Z",
     "iopub.status.busy": "2024-11-23T20:22:15.970077Z",
     "iopub.status.idle": "2024-11-23T20:22:16.756942Z",
     "shell.execute_reply": "2024-11-23T20:22:16.755681Z"
    },
    "id": "k7JJ1K6j4Rl8",
    "papermill": {
     "duration": 0.803911,
     "end_time": "2024-11-23T20:22:16.759093",
     "exception": false,
     "start_time": "2024-11-23T20:22:15.955182",
     "status": "completed"
    },
    "tags": []
   },
   "outputs": [
    {
     "name": "stdout",
     "output_type": "stream",
     "text": [
      "Model(name='models/gemini-1.5-flash',\n",
      "      base_model_id='',\n",
      "      version='001',\n",
      "      display_name='Gemini 1.5 Flash',\n",
      "      description=('Alias that points to the most recent stable version of Gemini 1.5 Flash, our '\n",
      "                   'fast and versatile multimodal model for scaling across diverse tasks.'),\n",
      "      input_token_limit=1000000,\n",
      "      output_token_limit=8192,\n",
      "      supported_generation_methods=['generateContent', 'countTokens'],\n",
      "      temperature=1.0,\n",
      "      max_temperature=2.0,\n",
      "      top_p=0.95,\n",
      "      top_k=40)\n"
     ]
    }
   ],
   "source": [
    "for model in genai.list_models():\n",
    "  if model.name == 'models/gemini-1.5-flash':\n",
    "    print(model)\n",
    "    break"
   ]
  },
  {
   "cell_type": "markdown",
   "id": "d3eaae93",
   "metadata": {
    "id": "5rU_UBlZdooM",
    "papermill": {
     "duration": 0.014963,
     "end_time": "2024-11-23T20:22:16.788103",
     "exception": false,
     "start_time": "2024-11-23T20:22:16.773140",
     "status": "completed"
    },
    "tags": []
   },
   "source": [
    "## Explore generation parameters\n",
    "\n"
   ]
  },
  {
   "cell_type": "markdown",
   "id": "80fd87cc",
   "metadata": {
    "id": "G7NfEizeipbW",
    "papermill": {
     "duration": 0.013394,
     "end_time": "2024-11-23T20:22:16.815148",
     "exception": false,
     "start_time": "2024-11-23T20:22:16.801754",
     "status": "completed"
    },
    "tags": []
   },
   "source": [
    "### Output length\n",
    "\n",
    "When generating text with an LLM, the output length affects cost and performance. Generating more tokens increases computation, leading to higher energy consumption, latency, and cost.\n",
    "\n",
    "To stop the model from generating tokens past a limit, you can specify the `max_output_tokens` parameter when using the Gemini API. Specifying this parameter does not influence the generation of the output tokens, so the output will not become more stylistically or textually succinct, but it will stop generating tokens once the specified length is reached. Prompt engineering may be required to generate a more complete output for your given limit."
   ]
  },
  {
   "cell_type": "code",
   "execution_count": 14,
   "id": "00fa6fa3",
   "metadata": {
    "execution": {
     "iopub.execute_input": "2024-11-23T20:22:16.844370Z",
     "iopub.status.busy": "2024-11-23T20:22:16.843951Z",
     "iopub.status.idle": "2024-11-23T20:22:19.604760Z",
     "shell.execute_reply": "2024-11-23T20:22:19.603547Z"
    },
    "id": "qVf23JsIi9ma",
    "papermill": {
     "duration": 2.778492,
     "end_time": "2024-11-23T20:22:19.607331",
     "exception": false,
     "start_time": "2024-11-23T20:22:16.828839",
     "status": "completed"
    },
    "tags": []
   },
   "outputs": [
    {
     "name": "stdout",
     "output_type": "stream",
     "text": [
      "## The Enduring Significance of Olives in Modern Society\n",
      "\n",
      "The olive, a seemingly humble fruit, holds a profound and multifaceted importance in modern society that extends far beyond its culinary applications.  From its historical roots in ancient civilizations to its current role in global economics and health, the olive's influence is widespread and enduring.  Understanding its significance requires examining its contribution to gastronomy, its economic impact, its role in environmental sustainability, and its increasingly recognized health benefits.\n",
      "\n",
      "The culinary contribution of olives is undeniable.  For millennia, olives and olive oil have formed the cornerstone of Mediterranean diets, a dietary pattern increasingly recognized for its positive impact on health and longevity.  The fruit itself, whether green, black, or mixed-ripe, boasts a unique and versatile flavor profile, lending itself to diverse culinary preparations.  From simple appetizers like marinated olives to complex dishes featuring olive tapenade or stuffed olives, its versatility is unmatched.  Beyond the olive fruit itself, olive oil reigns supreme as a cooking\n"
     ]
    }
   ],
   "source": [
    "short_model = genai.GenerativeModel(\n",
    "    'gemini-1.5-flash',\n",
    "    generation_config=genai.GenerationConfig(max_output_tokens=200))\n",
    "\n",
    "response = short_model.generate_content('Write a 1000 word essay on the importance of olives in modern society.')\n",
    "print(response.text)"
   ]
  },
  {
   "cell_type": "code",
   "execution_count": 15,
   "id": "dd864737",
   "metadata": {
    "execution": {
     "iopub.execute_input": "2024-11-23T20:22:19.639293Z",
     "iopub.status.busy": "2024-11-23T20:22:19.638869Z",
     "iopub.status.idle": "2024-11-23T20:22:20.915044Z",
     "shell.execute_reply": "2024-11-23T20:22:20.913966Z"
    },
    "id": "W-3kR2F5kdMR",
    "papermill": {
     "duration": 1.29524,
     "end_time": "2024-11-23T20:22:20.917435",
     "exception": false,
     "start_time": "2024-11-23T20:22:19.622195",
     "status": "completed"
    },
    "tags": []
   },
   "outputs": [
    {
     "name": "stdout",
     "output_type": "stream",
     "text": [
      "From sun-drenched groves, a bounty small,\n",
      "The olive's gift, embracing all.\n",
      "In oil it shines, a kitchen's grace,\n",
      "On salads dressed, in every place.\n",
      "\n",
      "A taste of history, rich and deep,\n",
      "The Mediterranean's secrets keep.\n",
      "From ancient jars to modern store,\n",
      "The olive's reign will last and more.\n",
      "\n"
     ]
    }
   ],
   "source": [
    "response = short_model.generate_content('Write a short poem on the importance of olives in modern society.')\n",
    "print(response.text)"
   ]
  },
  {
   "cell_type": "code",
   "execution_count": 16,
   "id": "1d387c15",
   "metadata": {
    "execution": {
     "iopub.execute_input": "2024-11-23T20:22:20.946983Z",
     "iopub.status.busy": "2024-11-23T20:22:20.946583Z",
     "iopub.status.idle": "2024-11-23T20:22:27.697546Z",
     "shell.execute_reply": "2024-11-23T20:22:27.696468Z"
    },
    "papermill": {
     "duration": 6.768935,
     "end_time": "2024-11-23T20:22:27.700312",
     "exception": false,
     "start_time": "2024-11-23T20:22:20.931377",
     "status": "completed"
    },
    "tags": []
   },
   "outputs": [
    {
     "name": "stdout",
     "output_type": "stream",
     "text": [
      "1. Alabama - Montgomery\n",
      "2. Alaska - Juneau\n",
      "3. Arizona - Phoenix\n",
      "4. Arkansas - Little Rock\n",
      "5. California - Sacramento\n",
      "6. Colorado - Denver\n",
      "7. Connecticut - Hartford\n",
      "8. Delaware - Dover\n",
      "9. Florida - Tallahassee\n",
      "10. Georgia - Atlanta\n",
      "11. Hawaii - Honolulu\n",
      "12. Idaho - Boise\n",
      "13. Illinois - Springfield\n",
      "14. Indiana - Indianapolis\n",
      "15. Iowa - Des Moines\n",
      "16. Kansas - Topeka\n",
      "17. Kentucky - Frankfort\n",
      "18. Louisiana - Baton Rouge\n",
      "19. Maine - Augusta\n",
      "20. Maryland - Annapolis\n",
      "21. Massachusetts - Boston\n",
      "22. Michigan - Lansing\n",
      "23. Minnesota - Saint Paul\n",
      "24. Mississippi - Jackson\n",
      "25. Missouri - Jefferson City\n",
      "26. Montana - Helena\n",
      "27. Nebraska - Lincoln\n",
      "28. Nevada - Carson City\n",
      "29. New Hampshire - Concord\n",
      "30. New Jersey - Trenton\n",
      "31. New Mexico - Santa Fe\n",
      "32. New York - Albany\n",
      "33. North Carolina - Raleigh\n",
      "34. North Dakota - Bismarck\n",
      "35. Ohio - Columbus\n",
      "36. Oklahoma - Oklahoma City\n",
      "37. Oregon - Salem\n",
      "38. Pennsylvania - Harrisburg\n",
      "39. Rhode Island - Providence\n",
      "40. South Carolina - Columbia\n",
      "41. South Dakota - Pierre\n",
      "42. Tennessee - Nashville\n",
      "43. Texas - Austin\n",
      "44. Utah - Salt Lake City\n",
      "45. Vermont - Montpelier\n",
      "46. Virginia - Richmond\n",
      "47. Washington - Olympia\n",
      "\n"
     ]
    }
   ],
   "source": [
    "short_model = genai.GenerativeModel(\n",
    "    'gemini-1.5-flash',\n",
    "    generation_config=genai.GenerationConfig(max_output_tokens=340))\n",
    "\n",
    "response = short_model.generate_content('Provide a list of the 50 state capitals')\n",
    "print(response.text)"
   ]
  },
  {
   "cell_type": "markdown",
   "id": "14cd6027",
   "metadata": {
    "id": "3ZhDSLB6lqqB",
    "papermill": {
     "duration": 0.013681,
     "end_time": "2024-11-23T20:22:27.728387",
     "exception": false,
     "start_time": "2024-11-23T20:22:27.714706",
     "status": "completed"
    },
    "tags": []
   },
   "source": [
    "Explore with your own prompts. Try a prompt with a restrictive output limit and then adjust the prompt to work within that limit."
   ]
  },
  {
   "cell_type": "markdown",
   "id": "ccc47a15",
   "metadata": {
    "id": "alx-WaAvir_9",
    "papermill": {
     "duration": 0.015272,
     "end_time": "2024-11-23T20:22:27.757658",
     "exception": false,
     "start_time": "2024-11-23T20:22:27.742386",
     "status": "completed"
    },
    "tags": []
   },
   "source": [
    "### Temperature\n",
    "\n",
    "Temperature controls the degree of randomness in token selection. Higher temperatures result in a higher number of candidate tokens from which the next output token is selected, and can produce more diverse results, while lower temperatures have the opposite effect, such that a temperature of 0 results in greedy decoding, selecting the most probable token at each step.\n",
    "\n",
    "Temperature doesn't provide any guarantees of randomness, but it can be used to \"nudge\" the output somewhat.\n",
    "\n",
    "**Note that if you see a 429 Resource Exhausted error here, you may be able to edit the words in the prompt slightly to progress.**"
   ]
  },
  {
   "cell_type": "code",
   "execution_count": 17,
   "id": "5a68a229",
   "metadata": {
    "execution": {
     "iopub.execute_input": "2024-11-23T20:22:27.798781Z",
     "iopub.status.busy": "2024-11-23T20:22:27.798332Z",
     "iopub.status.idle": "2024-11-23T20:22:34.213730Z",
     "shell.execute_reply": "2024-11-23T20:22:34.212343Z"
    },
    "id": "SHraGMzqnZqt",
    "papermill": {
     "duration": 6.439343,
     "end_time": "2024-11-23T20:22:34.215959",
     "exception": false,
     "start_time": "2024-11-23T20:22:27.776616",
     "status": "completed"
    },
    "tags": []
   },
   "outputs": [
    {
     "name": "stdout",
     "output_type": "stream",
     "text": [
      "Marigold\n",
      " -------------------------\n",
      "Aquamarine\n",
      " -------------------------\n",
      "Maroon\n",
      " -------------------------\n",
      "Marigold\n",
      " -------------------------\n",
      "Aquamarine\n",
      " -------------------------\n"
     ]
    }
   ],
   "source": [
    "from google.api_core import retry\n",
    "\n",
    "high_temp_model = genai.GenerativeModel(\n",
    "    'gemini-1.5-flash',\n",
    "    generation_config=genai.GenerationConfig(temperature=2.0))\n",
    "\n",
    "\n",
    "# When running lots of queries, it's a good practice to use a retry policy so your code\n",
    "# automatically retries when hitting Resource Exhausted (quota limit) errors.\n",
    "retry_policy = {\n",
    "    \"retry\": retry.Retry(predicate=retry.if_transient_error, initial=10, multiplier=1.5, timeout=300)\n",
    "}\n",
    "\n",
    "for _ in range(5):\n",
    "  response = high_temp_model.generate_content('Pick a random colour... (respond in a single word)',\n",
    "                                              request_options=retry_policy)\n",
    "  if response.parts:\n",
    "    print(response.text, '-' * 25)"
   ]
  },
  {
   "cell_type": "markdown",
   "id": "7afd2de1",
   "metadata": {
    "id": "z3J4pCTuof7e",
    "papermill": {
     "duration": 0.014061,
     "end_time": "2024-11-23T20:22:34.244738",
     "exception": false,
     "start_time": "2024-11-23T20:22:34.230677",
     "status": "completed"
    },
    "tags": []
   },
   "source": [
    "Now try the same prompt with temperature set to zero. Note that the output is not completely deterministic, as other parameters affect token selection, but the results will tend to be more stable."
   ]
  },
  {
   "cell_type": "code",
   "execution_count": 18,
   "id": "bb22923c",
   "metadata": {
    "execution": {
     "iopub.execute_input": "2024-11-23T20:22:34.275304Z",
     "iopub.status.busy": "2024-11-23T20:22:34.274875Z",
     "iopub.status.idle": "2024-11-23T20:22:38.980899Z",
     "shell.execute_reply": "2024-11-23T20:22:38.979578Z"
    },
    "id": "clymkWv-PfUZ",
    "papermill": {
     "duration": 4.724069,
     "end_time": "2024-11-23T20:22:38.983226",
     "exception": false,
     "start_time": "2024-11-23T20:22:34.259157",
     "status": "completed"
    },
    "tags": []
   },
   "outputs": [
    {
     "name": "stdout",
     "output_type": "stream",
     "text": [
      "Maroon\n",
      " -------------------------\n",
      "Maroon\n",
      " -------------------------\n",
      "Maroon\n",
      " -------------------------\n",
      "Maroon\n",
      " -------------------------\n",
      "Maroon\n",
      " -------------------------\n"
     ]
    }
   ],
   "source": [
    "low_temp_model = genai.GenerativeModel(\n",
    "    'gemini-1.5-flash',\n",
    "    generation_config=genai.GenerationConfig(temperature=0.0))\n",
    "\n",
    "for _ in range(5):\n",
    "  response = low_temp_model.generate_content('Pick a random colour... (respond in a single word)',\n",
    "                                             request_options=retry_policy)\n",
    "  if response.parts:\n",
    "    print(response.text, '-' * 25)"
   ]
  },
  {
   "cell_type": "markdown",
   "id": "7e1109ff",
   "metadata": {
    "id": "St5nt3vzitsZ",
    "papermill": {
     "duration": 0.014161,
     "end_time": "2024-11-23T20:22:39.011923",
     "exception": false,
     "start_time": "2024-11-23T20:22:38.997762",
     "status": "completed"
    },
    "tags": []
   },
   "source": [
    "### Top-K and top-P\n",
    "\n",
    "Like temperature, top-K and top-P parameters are also used to control the diversity of the model's output.\n",
    "\n",
    "Top-K is a positive integer that defines the number of most probable tokens from which to select the output token. A top-K of 1 selects a single token, performing greedy decoding.\n",
    "\n",
    "Top-P defines the probability threshold that, once cumulatively exceeded, tokens stop being selected as candidates. A top-P of 0 is typically equivalent to greedy decoding, and a top-P of 1 typically selects every token in the model's vocabulary.\n",
    "\n",
    "When both are supplied, the Gemini API will filter top-K tokens first, then top-P and then finally sample from the candidate tokens using the supplied temperature.\n",
    "\n",
    "Run this example a number of times, change the settings and observe the change in output."
   ]
  },
  {
   "cell_type": "code",
   "execution_count": 19,
   "id": "521af719",
   "metadata": {
    "execution": {
     "iopub.execute_input": "2024-11-23T20:22:39.042882Z",
     "iopub.status.busy": "2024-11-23T20:22:39.042275Z",
     "iopub.status.idle": "2024-11-23T20:22:43.414165Z",
     "shell.execute_reply": "2024-11-23T20:22:43.413086Z"
    },
    "id": "lPlzpEavUV8F",
    "papermill": {
     "duration": 4.390177,
     "end_time": "2024-11-23T20:22:43.416529",
     "exception": false,
     "start_time": "2024-11-23T20:22:39.026352",
     "status": "completed"
    },
    "tags": []
   },
   "outputs": [
    {
     "name": "stdout",
     "output_type": "stream",
     "text": [
      "Barnaby the cat was a creature of habit. Every morning, he'd wake up, stretch, and demand breakfast with a demanding meow. Then, he'd spend the day basking in the sunbeams, chasing dust motes, and napping in the most inconvenient places. Life was good.\n",
      "\n",
      "One day, however, Barnaby's routine was interrupted. A brand new, shiny red ball appeared in the living room, bouncing around playfully. Barnaby, with a mischievous glint in his eye, decided this was the perfect opportunity for some fun. He pounced, chasing the ball with an impressive display of feline athleticism. But this wasn't just any ball. This was a magical ball, and as Barnaby batted it with his paw, a swirling vortex of colors opened up, sucking him in.\n",
      "\n",
      "Barnaby landed with a soft thump on a bed of emerald green grass. The air was filled with the sweet scent of wildflowers and the sound of chirping birds. He looked around, taking in his surroundings. He was in a lush, hidden garden, filled with fragrant roses, towering sunflowers, and a babbling brook. A tiny, curious squirrel peeked at him from behind a tree trunk.\n",
      "\n",
      "Barnaby, always the adventurous soul, decided to explore. He sniffed at the flowers, chased butterflies, and even took a playful swipe at the squirrel, who scampered away with a squeak. He felt a sense of freedom he had never known before.\n",
      "\n",
      "Suddenly, he heard a tiny whimper. A small, brown rabbit was trapped in a thorny bush. Barnaby, remembering his own playful nature, cautiously approached the rabbit and gently nudged the thorns aside, freeing the frightened creature. The rabbit, with a grateful hop, scurried away.\n",
      "\n",
      "As the sun began to set, Barnaby felt a tug at his heart. He missed the warmth of his home, the comforting scent of his human, and the familiar routine. With a sigh, he looked at the magical red ball, now resting peacefully on the grass. He batted it lightly, and a familiar swirl of colors engulfed him.\n",
      "\n",
      "He landed back in his living room, the red ball rolling away. He looked around, feeling strangely changed. His adventure had opened his eyes to a world beyond his window. He knew, deep inside, that his life would never be quite the same.\n",
      "\n",
      "Barnaby, the once-contented cat, now felt a stirring of adventure within him. He knew he would never be just a creature of habit again. He was Barnaby, the cat who had seen the world beyond his window, and he was ready to explore it all. He looked at the red ball, a mischievous twinkle in his eye, and he knew that this was just the beginning. \n",
      "\n"
     ]
    }
   ],
   "source": [
    "model = genai.GenerativeModel(\n",
    "    'gemini-1.5-flash-001',\n",
    "    generation_config=genai.GenerationConfig(\n",
    "        # These are the default values for gemini-1.5-flash-001.\n",
    "        temperature=1.0,\n",
    "        top_k=64,\n",
    "        top_p=0.95,\n",
    "    ))\n",
    "\n",
    "story_prompt = \"You are a creative writer. Write a short story about a cat who goes on an adventure.\"\n",
    "response = model.generate_content(story_prompt, request_options=retry_policy)\n",
    "print(response.text)"
   ]
  },
  {
   "cell_type": "code",
   "execution_count": 20,
   "id": "da0610f6",
   "metadata": {
    "execution": {
     "iopub.execute_input": "2024-11-23T20:22:43.448916Z",
     "iopub.status.busy": "2024-11-23T20:22:43.448092Z",
     "iopub.status.idle": "2024-11-23T20:22:47.318021Z",
     "shell.execute_reply": "2024-11-23T20:22:47.316858Z"
    },
    "papermill": {
     "duration": 3.888054,
     "end_time": "2024-11-23T20:22:47.320375",
     "exception": false,
     "start_time": "2024-11-23T20:22:43.432321",
     "status": "completed"
    },
    "tags": []
   },
   "outputs": [
    {
     "name": "stdout",
     "output_type": "stream",
     "text": [
      "Bartholomew wasn't your typical dragon. He wasn't interested in fiery breaths or scorching villages. He yearned for stories, not destruction. His scales, a patchwork of dusty rose and faded green, reflected the quiet life he led in his mountain cave, filled with old books and the comforting hum of his wind-up gramophone. \n",
      "\n",
      "One rainy afternoon, while lost in the pages of a dusty tome about faraway lands, Bartholomew stumbled upon a legend - a tale of the Emerald Waterfall, said to possess a mystical power to grant wishes. This spark ignited a fire in his soul, a longing for something more than the routine of reading and snoring. \n",
      "\n",
      "His decision was made. Bartholomew would journey to the Emerald Waterfall. \n",
      "\n",
      "He packed a satchel with a jar of honey (he'd heard the Waterfall had friendly pixies), his well-worn gramophone, and a collection of his favorite books. Leaving the cave, he unfurled his magnificent wings, scales gleaming under the sun, and took off. The wind roared in his ears, and he felt a thrill of joy he'd never known. \n",
      "\n",
      "The journey was fraught with challenges: treacherous mountain passes, grumpy griffins who didn't appreciate his impromptu serenades, and a persistent squirrel who stole his lunch (he still hadn't recovered his beloved sunflower seed cake). \n",
      "\n",
      "But Bartholomew pressed on, fuelled by the stories he'd read and the growing anticipation of reaching the Waterfall. Finally, after weeks of flying, he saw it: a cascading green torrent shimmering under a rainbow. It was magnificent. \n",
      "\n",
      "As Bartholomew landed by the Waterfall, he saw a shimmering form. It was a pixie, with emerald wings and eyes as bright as the Waterfall itself. She welcomed him with a smile.  \n",
      "\n",
      "\"I have heard tales of a dragon seeking a wish,\" she said. \"What is it you desire?\"\n",
      "\n",
      "Bartholomew, ever the storyteller, launched into a speech, his voice booming like thunder, about the books he'd read and the tales he longed to tell.  His wish, he revealed, wasn't for riches or power, but for the ability to weave his own tales, to share the magic he found in the written word with the world. \n",
      "\n",
      "The pixie laughed, a sound like tinkling bells. \"A noble wish, dear dragon.\"\n",
      "\n",
      "With a shimmer of green light, Bartholomew felt a change within him. He wasn't sure what it was at first, but when he returned to his cave, he realized what the pixie had given him - the gift of storytelling. \n",
      "\n",
      "Bartholomew, the once-silent dragon, was now a weaver of words, a bard of tales. He started small, reading his stories to the griffins he had met on his journey.  Slowly, word spread about the dragon who told stories as enchanting as his fiery breath, and soon, he found himself entertaining a crowd of creatures from all walks of life.\n",
      "\n",
      "He never forgot the lessons learned on his journey to the Emerald Waterfall. He had learned that the greatest treasures are found not in power or wealth, but in the stories we tell and the connections we forge. And though his fiery breath remained unused, Bartholomew’s tales burned brighter than any flame, touching the hearts and imaginations of all who listened. \n",
      "\n"
     ]
    }
   ],
   "source": [
    "model = genai.GenerativeModel(\n",
    "    'gemini-1.5-flash-001',\n",
    "    generation_config=genai.GenerationConfig(\n",
    "        # These are the default values for gemini-1.5-flash-001.\n",
    "        temperature=2.0,\n",
    "        top_k=64,\n",
    "        top_p=0.95,\n",
    "    ))\n",
    "\n",
    "story_prompt = \"You are a creative writer. Write a short story about a dragon who goes on an adventure.\"\n",
    "response = model.generate_content(story_prompt, request_options=retry_policy)\n",
    "print(response.text)"
   ]
  },
  {
   "cell_type": "markdown",
   "id": "2d04f71f",
   "metadata": {
    "id": "rMrYs1koY6DX",
    "papermill": {
     "duration": 0.014782,
     "end_time": "2024-11-23T20:22:47.350226",
     "exception": false,
     "start_time": "2024-11-23T20:22:47.335444",
     "status": "completed"
    },
    "tags": []
   },
   "source": [
    "## Prompting\n",
    "\n",
    "This section contains some prompts from the chapter for you to try out directly in the API. Try changing the text here to see how each prompt performs with different instructions, more examples, or any other changes you can think of."
   ]
  },
  {
   "cell_type": "markdown",
   "id": "a12acc06",
   "metadata": {
    "id": "hhj_tQidZJP7",
    "papermill": {
     "duration": 0.01503,
     "end_time": "2024-11-23T20:22:47.380609",
     "exception": false,
     "start_time": "2024-11-23T20:22:47.365579",
     "status": "completed"
    },
    "tags": []
   },
   "source": [
    "### Zero-shot\n",
    "\n",
    "Zero-shot prompts are prompts that describe the request for the model directly.\n",
    "\n",
    "<table align=left>\n",
    "  <td>\n",
    "    <a target=\"_blank\" href=\"https://aistudio.google.com/prompts/1gzKKgDHwkAvexG5Up0LMtl1-6jKMKe4g\"><img src=\"https://ai.google.dev/site-assets/images/marketing/home/icon-ais.png\" style=\"height: 24px\" height=24/> Open in AI Studio</a>\n",
    "  </td>\n",
    "</table>"
   ]
  },
  {
   "cell_type": "code",
   "execution_count": 21,
   "id": "bdec6169",
   "metadata": {
    "execution": {
     "iopub.execute_input": "2024-11-23T20:22:47.412326Z",
     "iopub.status.busy": "2024-11-23T20:22:47.411939Z",
     "iopub.status.idle": "2024-11-23T20:22:47.870186Z",
     "shell.execute_reply": "2024-11-23T20:22:47.869042Z"
    },
    "id": "1_t-cwnDZzbH",
    "papermill": {
     "duration": 0.476684,
     "end_time": "2024-11-23T20:22:47.872402",
     "exception": false,
     "start_time": "2024-11-23T20:22:47.395718",
     "status": "completed"
    },
    "tags": []
   },
   "outputs": [
    {
     "name": "stdout",
     "output_type": "stream",
     "text": [
      "Sentiment: **POSITIVE**\n"
     ]
    }
   ],
   "source": [
    "model = genai.GenerativeModel(\n",
    "    'gemini-1.5-flash-001',\n",
    "    generation_config=genai.GenerationConfig(\n",
    "        temperature=0.1,\n",
    "        top_p=1,\n",
    "        max_output_tokens=5,\n",
    "    ))\n",
    "\n",
    "zero_shot_prompt = \"\"\"Classify movie reviews as POSITIVE, NEUTRAL or NEGATIVE.\n",
    "Review: \"Her\" is a disturbing study revealing the direction\n",
    "humanity is headed if AI is allowed to keep evolving,\n",
    "unchecked. I wish there were more movies like this masterpiece.\n",
    "Sentiment: \"\"\"\n",
    "\n",
    "response = model.generate_content(zero_shot_prompt, request_options=retry_policy)\n",
    "print(response.text)"
   ]
  },
  {
   "cell_type": "markdown",
   "id": "d3784673",
   "metadata": {
    "id": "3b5568bdeb11",
    "papermill": {
     "duration": 0.014592,
     "end_time": "2024-11-23T20:22:47.902050",
     "exception": false,
     "start_time": "2024-11-23T20:22:47.887458",
     "status": "completed"
    },
    "tags": []
   },
   "source": [
    "#### Enum mode\n",
    "\n",
    "The models are trained to generate text, and can sometimes produce more text than you may wish for. In the preceding example, the model will output the label, sometimes it can include a preceding \"Sentiment\" label, and without an output token limit, it may also add explanatory text afterwards.\n",
    "\n",
    "The Gemini API has an [Enum mode](https://github.com/google-gemini/cookbook/blob/main/quickstarts/Enum.ipynb) feature that allows you to constrain the output to a fixed set of values."
   ]
  },
  {
   "cell_type": "code",
   "execution_count": 22,
   "id": "65f4ef0f",
   "metadata": {
    "execution": {
     "iopub.execute_input": "2024-11-23T20:22:47.935045Z",
     "iopub.status.busy": "2024-11-23T20:22:47.934209Z",
     "iopub.status.idle": "2024-11-23T20:22:49.146060Z",
     "shell.execute_reply": "2024-11-23T20:22:49.144808Z"
    },
    "id": "ad118a56c598",
    "papermill": {
     "duration": 1.230686,
     "end_time": "2024-11-23T20:22:49.148468",
     "exception": false,
     "start_time": "2024-11-23T20:22:47.917782",
     "status": "completed"
    },
    "tags": []
   },
   "outputs": [
    {
     "name": "stdout",
     "output_type": "stream",
     "text": [
      "positive\n"
     ]
    }
   ],
   "source": [
    "import enum\n",
    "\n",
    "class Sentiment(enum.Enum):\n",
    "    POSITIVE = \"positive\"\n",
    "    NEUTRAL = \"neutral\"\n",
    "    NEGATIVE = \"negative\"\n",
    "\n",
    "\n",
    "model = genai.GenerativeModel(\n",
    "    'gemini-1.5-flash-001',\n",
    "    generation_config=genai.GenerationConfig(\n",
    "        response_mime_type=\"text/x.enum\",\n",
    "        response_schema=Sentiment\n",
    "    ))\n",
    "\n",
    "response = model.generate_content(zero_shot_prompt, request_options=retry_policy)\n",
    "print(response.text)"
   ]
  },
  {
   "cell_type": "markdown",
   "id": "ad369c74",
   "metadata": {
    "id": "0udiSwNbv45W",
    "papermill": {
     "duration": 0.01466,
     "end_time": "2024-11-23T20:22:49.178753",
     "exception": false,
     "start_time": "2024-11-23T20:22:49.164093",
     "status": "completed"
    },
    "tags": []
   },
   "source": [
    "### One-shot and few-shot\n",
    "\n",
    "Providing an example of the expected response is known as a \"one-shot\" prompt. When you provide multiple examples, it is a \"few-shot\" prompt.\n",
    "\n",
    "<table align=left>\n",
    "  <td>\n",
    "    <a target=\"_blank\" href=\"https://aistudio.google.com/prompts/1jjWkjUSoMXmLvMJ7IzADr_GxHPJVV2bg\"><img src=\"https://ai.google.dev/site-assets/images/marketing/home/icon-ais.png\" style=\"height: 24px\" height=24/> Open in AI Studio</a>\n",
    "  </td>\n",
    "</table>\n"
   ]
  },
  {
   "cell_type": "code",
   "execution_count": 23,
   "id": "e54958cd",
   "metadata": {
    "execution": {
     "iopub.execute_input": "2024-11-23T20:22:49.210484Z",
     "iopub.status.busy": "2024-11-23T20:22:49.210068Z",
     "iopub.status.idle": "2024-11-23T20:22:50.100333Z",
     "shell.execute_reply": "2024-11-23T20:22:50.098886Z"
    },
    "id": "hd4mVUukwOKZ",
    "papermill": {
     "duration": 0.909195,
     "end_time": "2024-11-23T20:22:50.102780",
     "exception": false,
     "start_time": "2024-11-23T20:22:49.193585",
     "status": "completed"
    },
    "tags": []
   },
   "outputs": [
    {
     "name": "stdout",
     "output_type": "stream",
     "text": [
      "```json\n",
      "{\n",
      "  \"size\": \"large\",\n",
      "  \"type\": \"normal\",\n",
      "  \"ingredients\": [\"cheese\", \"pineapple\"]\n",
      "}\n",
      "```\n",
      "\n"
     ]
    }
   ],
   "source": [
    "model = genai.GenerativeModel(\n",
    "    'gemini-1.5-flash-latest',\n",
    "    generation_config=genai.GenerationConfig(\n",
    "        temperature=0.1,\n",
    "        top_p=1,\n",
    "        max_output_tokens=250,\n",
    "    ))\n",
    "\n",
    "few_shot_prompt = \"\"\"Parse a customer's pizza order into valid JSON:\n",
    "\n",
    "EXAMPLE:\n",
    "I want a small pizza with cheese, tomato sauce, and pepperoni.\n",
    "JSON Response:\n",
    "```\n",
    "{\n",
    "\"size\": \"small\",\n",
    "\"type\": \"normal\",\n",
    "\"ingredients\": [\"cheese\", \"tomato sauce\", \"peperoni\"]\n",
    "}\n",
    "```\n",
    "\n",
    "EXAMPLE:\n",
    "Can I get a large pizza with tomato sauce, basil and mozzarella\n",
    "JSON Response:\n",
    "```\n",
    "{\n",
    "\"size\": \"large\",\n",
    "\"type\": \"normal\",\n",
    "\"ingredients\": [\"tomato sauce\", \"basil\", \"mozzarella\"]\n",
    "}\n",
    "\n",
    "ORDER:\n",
    "\"\"\"\n",
    "\n",
    "customer_order = \"Give me a large with cheese & pineapple\"\n",
    "\n",
    "\n",
    "response = model.generate_content([few_shot_prompt, customer_order], request_options=retry_policy)\n",
    "print(response.text)"
   ]
  },
  {
   "cell_type": "markdown",
   "id": "6a6e3362",
   "metadata": {
    "id": "021293096f08",
    "papermill": {
     "duration": 0.014502,
     "end_time": "2024-11-23T20:22:50.132418",
     "exception": false,
     "start_time": "2024-11-23T20:22:50.117916",
     "status": "completed"
    },
    "tags": []
   },
   "source": [
    "#### JSON mode\n",
    "\n",
    "To provide control over the schema, and to ensure that you only receive JSON (with no other text or markdown), you can use the Gemini API's [JSON mode](https://github.com/google-gemini/cookbook/blob/main/quickstarts/JSON_mode.ipynb). This forces the model to constrain decoding, such that token selection is guided by the supplied schema."
   ]
  },
  {
   "cell_type": "code",
   "execution_count": 24,
   "id": "19eeea4d",
   "metadata": {
    "execution": {
     "iopub.execute_input": "2024-11-23T20:22:50.163717Z",
     "iopub.status.busy": "2024-11-23T20:22:50.163349Z",
     "iopub.status.idle": "2024-11-23T20:22:51.629642Z",
     "shell.execute_reply": "2024-11-23T20:22:51.628585Z"
    },
    "id": "50fbf0260912",
    "papermill": {
     "duration": 1.484457,
     "end_time": "2024-11-23T20:22:51.631703",
     "exception": false,
     "start_time": "2024-11-23T20:22:50.147246",
     "status": "completed"
    },
    "tags": []
   },
   "outputs": [
    {
     "name": "stdout",
     "output_type": "stream",
     "text": [
      "{\"ingredients\": [\"apple\", \"chocolate\"], \"size\": \"large\", \"type\": \"dessert pizza\"}\n"
     ]
    }
   ],
   "source": [
    "import typing_extensions as typing\n",
    "\n",
    "class PizzaOrder(typing.TypedDict):\n",
    "    size: str\n",
    "    ingredients: list[str]\n",
    "    type: str\n",
    "\n",
    "\n",
    "model = genai.GenerativeModel(\n",
    "    'gemini-1.5-flash-latest',\n",
    "    generation_config=genai.GenerationConfig(\n",
    "        temperature=0.1,\n",
    "        response_mime_type=\"application/json\",\n",
    "        response_schema=PizzaOrder,\n",
    "    ))\n",
    "\n",
    "response = model.generate_content(\"Can I have a large dessert pizza with apple and chocolate\")\n",
    "print(response.text)"
   ]
  },
  {
   "cell_type": "markdown",
   "id": "6b968f44",
   "metadata": {
    "id": "4a93e338e57c",
    "papermill": {
     "duration": 0.014618,
     "end_time": "2024-11-23T20:22:51.661286",
     "exception": false,
     "start_time": "2024-11-23T20:22:51.646668",
     "status": "completed"
    },
    "tags": []
   },
   "source": [
    "### Chain of Thought (CoT)\n",
    "\n",
    "Direct prompting on LLMs can return answers quickly and (in terms of output token usage) efficiently, but they can be prone to hallucination. The answer may \"look\" correct (in terms of language and syntax) but is incorrect in terms of factuality and reasoning.\n",
    "\n",
    "Chain-of-Thought prompting is a technique where you instruct the model to output intermediate reasoning steps, and it typically gets better results, especially when combined with few-shot examples. It is worth noting that this technique doesn't completely eliminate hallucinations, and that it tends to cost more to run, due to the increased token count.\n",
    "\n",
    "As models like the Gemini family are trained to be \"chatty\" and provide reasoning steps, you can ask the model to be more direct in the prompt."
   ]
  },
  {
   "cell_type": "code",
   "execution_count": 25,
   "id": "47e695f9",
   "metadata": {
    "execution": {
     "iopub.execute_input": "2024-11-23T20:22:51.692594Z",
     "iopub.status.busy": "2024-11-23T20:22:51.692193Z",
     "iopub.status.idle": "2024-11-23T20:22:52.438874Z",
     "shell.execute_reply": "2024-11-23T20:22:52.437764Z"
    },
    "id": "5715555db1c1",
    "papermill": {
     "duration": 0.764955,
     "end_time": "2024-11-23T20:22:52.441155",
     "exception": false,
     "start_time": "2024-11-23T20:22:51.676200",
     "status": "completed"
    },
    "tags": []
   },
   "outputs": [
    {
     "name": "stdout",
     "output_type": "stream",
     "text": [
      "47\n",
      "\n"
     ]
    }
   ],
   "source": [
    "prompt = \"\"\"When I was 4 years old, my partner was 3 times my age. Now, I\n",
    "am 20 years old. How old is my partner? Return the answer directly.\"\"\"\n",
    "\n",
    "model = genai.GenerativeModel('gemini-1.5-flash-latest')\n",
    "response = model.generate_content(prompt, request_options=retry_policy)\n",
    "\n",
    "print(response.text)"
   ]
  },
  {
   "cell_type": "markdown",
   "id": "6a7a552e",
   "metadata": {
    "id": "e12b19677bfd",
    "papermill": {
     "duration": 0.014607,
     "end_time": "2024-11-23T20:22:52.470946",
     "exception": false,
     "start_time": "2024-11-23T20:22:52.456339",
     "status": "completed"
    },
    "tags": []
   },
   "source": [
    "Now try the same approach, but indicate to the model that it should \"think step by step\"."
   ]
  },
  {
   "cell_type": "code",
   "execution_count": 26,
   "id": "681d54d1",
   "metadata": {
    "execution": {
     "iopub.execute_input": "2024-11-23T20:22:52.502653Z",
     "iopub.status.busy": "2024-11-23T20:22:52.502255Z",
     "iopub.status.idle": "2024-11-23T20:22:54.047196Z",
     "shell.execute_reply": "2024-11-23T20:22:54.046041Z"
    },
    "id": "ffd7536a481f",
    "papermill": {
     "duration": 1.563219,
     "end_time": "2024-11-23T20:22:54.049464",
     "exception": false,
     "start_time": "2024-11-23T20:22:52.486245",
     "status": "completed"
    },
    "tags": []
   },
   "outputs": [
    {
     "name": "stdout",
     "output_type": "stream",
     "text": [
      "Here's how to solve this step-by-step:\n",
      "\n",
      "1. **Partner's age when you were 4:** When you were 4, your partner was 3 times your age, meaning they were 4 * 3 = 12 years old.\n",
      "\n",
      "2. **Age difference:** The age difference between you and your partner is 12 - 4 = 8 years.\n",
      "\n",
      "3. **Partner's current age:** Since the age difference remains constant, and you are now 20, your partner is 20 + 8 = 28 years old.\n",
      "\n"
     ]
    }
   ],
   "source": [
    "prompt = \"\"\"When I was 4 years old, my partner was 3 times my age. Now,\n",
    "I am 20 years old. How old is my partner? Let's think step by step.\"\"\"\n",
    "\n",
    "response = model.generate_content(prompt, request_options=retry_policy)\n",
    "print(response.text)"
   ]
  },
  {
   "cell_type": "markdown",
   "id": "1e9e147e",
   "metadata": {
    "id": "oiLgBQJj0V53",
    "papermill": {
     "duration": 0.01486,
     "end_time": "2024-11-23T20:22:54.079505",
     "exception": false,
     "start_time": "2024-11-23T20:22:54.064645",
     "status": "completed"
    },
    "tags": []
   },
   "source": [
    "### ReAct: Reason and act\n",
    "\n",
    "In this example you will run a ReAct prompt directly in the Gemini API and perform the searching steps yourself. As this prompt follows a well-defined structure, there are frameworks available that wrap the prompt into easier-to-use APIs that make tool calls automatically, such as the LangChain example from the chapter.\n",
    "\n",
    "To try this out with the Wikipedia search engine, check out the [Searching Wikipedia with ReAct](https://github.com/google-gemini/cookbook/blob/main/examples/Search_Wikipedia_using_ReAct.ipynb) cookbook example.\n",
    "\n",
    "\n",
    "> Note: The prompt and in-context examples used here are from [https://github.com/ysymyth/ReAct](https://github.com/ysymyth/ReAct) which is published under a [MIT license](https://opensource.org/licenses/MIT), Copyright (c) 2023 Shunyu Yao.\n",
    "\n",
    "<table align=left>\n",
    "  <td>\n",
    "    <a target=\"_blank\" href=\"https://aistudio.google.com/prompts/18oo63Lwosd-bQ6Ay51uGogB3Wk3H8XMO\"><img src=\"https://ai.google.dev/site-assets/images/marketing/home/icon-ais.png\" style=\"height: 24px\" height=24/> Open in AI Studio</a>\n",
    "  </td>\n",
    "</table>\n"
   ]
  },
  {
   "cell_type": "code",
   "execution_count": 28,
   "id": "93e7e041",
   "metadata": {
    "execution": {
     "iopub.execute_input": "2024-11-23T20:22:54.113323Z",
     "iopub.status.busy": "2024-11-23T20:22:54.112924Z",
     "iopub.status.idle": "2024-11-23T20:22:54.119920Z",
     "shell.execute_reply": "2024-11-23T20:22:54.118778Z"
    },
    "id": "cBgyNJ5z0VSs",
    "papermill": {
     "duration": 0.02618,
     "end_time": "2024-11-23T20:22:54.121885",
     "exception": false,
     "start_time": "2024-11-23T20:22:54.095705",
     "status": "completed"
    },
    "tags": []
   },
   "outputs": [],
   "source": [
    "model_instructions = \"\"\"\n",
    "Solve a question answering task with interleaving Thought, Action, Observation steps. Thought can reason about the current situation,\n",
    "Observation is understanding relevant information from an Action's output and Action can be one of three types:\n",
    " (1) <search>entity</search>, which searches the exact entity on Wikipedia and returns the first paragraph if it exists. If not, it\n",
    "     will return some similar entities to search and you can try to search the information from those topics.\n",
    " (2) <lookup>keyword</lookup>, which returns the next sentence containing keyword in the current context. This only does exact matches,\n",
    "     so keep your searches short.\n",
    " (3) <finish>answer</finish>, which returns the answer and finishes the task.\n",
    "\"\"\"\n",
    "\n",
    "example1 = \"\"\"Question\n",
    "Musician and satirist Allie Goertz wrote a song about the \"The Simpsons\" character Milhouse, who Matt Groening named after who?\n",
    "\n",
    "Thought 1\n",
    "The question simplifies to \"The Simpsons\" character Milhouse is named after who. I only need to search Milhouse and find who it is named after.\n",
    "\n",
    "Action 1\n",
    "<search>Milhouse</search>\n",
    "\n",
    "Observation 1\n",
    "Milhouse Mussolini Van Houten is a recurring character in the Fox animated television series The Simpsons voiced by Pamela Hayden and created by Matt Groening.\n",
    "\n",
    "Thought 2\n",
    "The paragraph does not tell who Milhouse is named after, maybe I can look up \"named after\".\n",
    "\n",
    "Action 2\n",
    "<lookup>named after</lookup>\n",
    "\n",
    "Observation 2\n",
    "Milhouse was named after U.S. president Richard Nixon, whose middle name was Milhous.\n",
    "\n",
    "Thought 3\n",
    "Milhouse was named after U.S. president Richard Nixon, so the answer is Richard Nixon.\n",
    "\n",
    "Action 3\n",
    "<finish>Richard Nixon</finish>\n",
    "\"\"\"\n",
    "\n",
    "example2 = \"\"\"Question\n",
    "What is the elevation range for the area that the eastern sector of the Colorado orogeny extends into?\n",
    "\n",
    "Thought 1\n",
    "I need to search Colorado orogeny, find the area that the eastern sector of the Colorado orogeny extends into, then find the elevation range of the area.\n",
    "\n",
    "Action 1\n",
    "<search>Colorado orogeny</search>\n",
    "\n",
    "Observation 1\n",
    "The Colorado orogeny was an episode of mountain building (an orogeny) in Colorado and surrounding areas.\n",
    "\n",
    "Thought 2\n",
    "It does not mention the eastern sector. So I need to look up eastern sector.\n",
    "\n",
    "Action 2\n",
    "<lookup>eastern sector</lookup>\n",
    "\n",
    "Observation 2\n",
    "The eastern sector extends into the High Plains and is called the Central Plains orogeny.\n",
    "\n",
    "Thought 3\n",
    "The eastern sector of Colorado orogeny extends into the High Plains. So I need to search High Plains and find its elevation range.\n",
    "\n",
    "Action 3\n",
    "<search>High Plains</search>\n",
    "\n",
    "Observation 3\n",
    "High Plains refers to one of two distinct land regions\n",
    "\n",
    "Thought 4\n",
    "I need to instead search High Plains (United States).\n",
    "\n",
    "Action 4\n",
    "<search>High Plains (United States)</search>\n",
    "\n",
    "Observation 4\n",
    "The High Plains are a subregion of the Great Plains. From east to west, the High Plains rise in elevation from around 1,800 to 7,000 ft (550 to 2,130m).\n",
    "\n",
    "Thought 5\n",
    "High Plains rise in elevation from around 1,800 to 7,000 ft, so the answer is 1,800 to 7,000 ft.\n",
    "\n",
    "Action 5\n",
    "<finish>1,800 to 7,000 ft</finish>\n",
    "\"\"\"\n",
    "\n",
    "# Come up with more examples yourself, or take a look through https://github.com/ysymyth/ReAct/"
   ]
  },
  {
   "cell_type": "markdown",
   "id": "d73d9095",
   "metadata": {
    "id": "C3wbfstjTgey",
    "papermill": {
     "duration": 0.015162,
     "end_time": "2024-11-23T20:22:54.152303",
     "exception": false,
     "start_time": "2024-11-23T20:22:54.137141",
     "status": "completed"
    },
    "tags": []
   },
   "source": [
    "To capture a single step at a time, while ignoring any hallucinated Observation steps, you will use `stop_sequences` to end the generation process. The steps are `Thought`, `Action`, `Observation`, in that order."
   ]
  },
  {
   "cell_type": "code",
   "execution_count": 29,
   "id": "de463b8b",
   "metadata": {
    "execution": {
     "iopub.execute_input": "2024-11-23T20:22:54.187508Z",
     "iopub.status.busy": "2024-11-23T20:22:54.187081Z",
     "iopub.status.idle": "2024-11-23T20:22:57.470470Z",
     "shell.execute_reply": "2024-11-23T20:22:57.469382Z"
    },
    "id": "8mxrXRkRTdXm",
    "papermill": {
     "duration": 3.304314,
     "end_time": "2024-11-23T20:22:57.472771",
     "exception": false,
     "start_time": "2024-11-23T20:22:54.168457",
     "status": "completed"
    },
    "tags": []
   },
   "outputs": [
    {
     "name": "stdout",
     "output_type": "stream",
     "text": [
      "Thought 1\n",
      "I need to find the Transformers NLP paper and then find the authors' ages to determine the youngest one.  I can't directly search for ages, so I'll need to find the authors and then potentially do some external research.\n",
      "\n",
      "Action 1\n",
      "<search>Transformers NLP paper</search>\n",
      "\n"
     ]
    }
   ],
   "source": [
    "question = \"\"\"Question\n",
    "Who was the youngest author listed on the transformers NLP paper?\n",
    "\"\"\"\n",
    "\n",
    "model = genai.GenerativeModel('gemini-1.5-flash-latest')\n",
    "react_chat = model.start_chat()\n",
    "\n",
    "# You will perform the Action, so generate up to, but not including, the Observation.\n",
    "config = genai.GenerationConfig(stop_sequences=[\"\\nObservation\"])\n",
    "\n",
    "resp = react_chat.send_message(\n",
    "    [model_instructions, example1, example2, question],\n",
    "    generation_config=config,\n",
    "    request_options=retry_policy)\n",
    "print(resp.text)"
   ]
  },
  {
   "cell_type": "markdown",
   "id": "232fb78b",
   "metadata": {
    "id": "aW2PIdLbVv3l",
    "papermill": {
     "duration": 0.014599,
     "end_time": "2024-11-23T20:22:57.502273",
     "exception": false,
     "start_time": "2024-11-23T20:22:57.487674",
     "status": "completed"
    },
    "tags": []
   },
   "source": [
    "Now you can perform this research yourself and supply it back to the model."
   ]
  },
  {
   "cell_type": "code",
   "execution_count": 30,
   "id": "c74f08d9",
   "metadata": {
    "execution": {
     "iopub.execute_input": "2024-11-23T20:22:57.533058Z",
     "iopub.status.busy": "2024-11-23T20:22:57.532630Z",
     "iopub.status.idle": "2024-11-23T20:22:59.576280Z",
     "shell.execute_reply": "2024-11-23T20:22:59.575213Z"
    },
    "id": "mLMc0DZaV9g2",
    "papermill": {
     "duration": 2.062055,
     "end_time": "2024-11-23T20:22:59.578893",
     "exception": false,
     "start_time": "2024-11-23T20:22:57.516838",
     "status": "completed"
    },
    "tags": []
   },
   "outputs": [
    {
     "name": "stdout",
     "output_type": "stream",
     "text": [
      "Thought 2\n",
      "The observation gives me the authors of the paper \"Attention is All You Need\".  I need to find their ages. This will require external research, as the paper itself doesn't contain this information.  I cannot directly accomplish this using the given actions.\n",
      "\n",
      "Action 2\n",
      "<finish>I cannot answer this question using only the provided search and lookup actions.  The paper does not list the authors' ages, and external research is required to determine the youngest author.</finish>\n",
      "\n"
     ]
    }
   ],
   "source": [
    "observation = \"\"\"Observation 1\n",
    "[1706.03762] Attention Is All You Need\n",
    "Ashish Vaswani, Noam Shazeer, Niki Parmar, Jakob Uszkoreit, Llion Jones, Aidan N. Gomez, Lukasz Kaiser, Illia Polosukhin\n",
    "We propose a new simple network architecture, the Transformer, based solely on attention mechanisms, dispensing with recurrence and convolutions entirely.\n",
    "\"\"\"\n",
    "resp = react_chat.send_message(observation, generation_config=config, request_options=retry_policy)\n",
    "print(resp.text)"
   ]
  },
  {
   "cell_type": "markdown",
   "id": "838f0da6",
   "metadata": {
    "id": "bo0tzf4nX6dA",
    "papermill": {
     "duration": 0.015565,
     "end_time": "2024-11-23T20:22:59.611185",
     "exception": false,
     "start_time": "2024-11-23T20:22:59.595620",
     "status": "completed"
    },
    "tags": []
   },
   "source": [
    "This process repeats until the `<finish>` action is reached. You can continue running this yourself if you like, or try the [Wikipedia example](https://github.com/google-gemini/cookbook/blob/main/examples/Search_Wikipedia_using_ReAct.ipynb) to see a fully automated ReAct system at work."
   ]
  },
  {
   "cell_type": "markdown",
   "id": "eb431612",
   "metadata": {
    "id": "jPiZ_eIIaVPt",
    "papermill": {
     "duration": 0.014973,
     "end_time": "2024-11-23T20:22:59.641550",
     "exception": false,
     "start_time": "2024-11-23T20:22:59.626577",
     "status": "completed"
    },
    "tags": []
   },
   "source": [
    "## Code prompting"
   ]
  },
  {
   "cell_type": "markdown",
   "id": "32a6cc9b",
   "metadata": {
    "id": "ZinKamwXeR6C",
    "papermill": {
     "duration": 0.014874,
     "end_time": "2024-11-23T20:22:59.671597",
     "exception": false,
     "start_time": "2024-11-23T20:22:59.656723",
     "status": "completed"
    },
    "tags": []
   },
   "source": [
    "### Generating code\n",
    "\n",
    "The Gemini family of models can be used to generate code, configuration and scripts. Generating code can be helpful when learning to code, learning a new language or for rapidly generating a first draft.\n",
    "\n",
    "It's important to be aware that since LLMs can't reason, and can repeat training data, it's essential to read and test your code first, and comply with any relevant licenses.\n",
    "\n",
    "<table align=left>\n",
    "  <td>\n",
    "    <a target=\"_blank\" href=\"https://aistudio.google.com/prompts/1YX71JGtzDjXQkgdes8bP6i3oH5lCRKxv\"><img src=\"https://ai.google.dev/site-assets/images/marketing/home/icon-ais.png\" style=\"height: 24px\" height=24/> Open in AI Studio</a>\n",
    "  </td>\n",
    "</table>"
   ]
  },
  {
   "cell_type": "code",
   "execution_count": 31,
   "id": "555aba99",
   "metadata": {
    "execution": {
     "iopub.execute_input": "2024-11-23T20:22:59.704304Z",
     "iopub.status.busy": "2024-11-23T20:22:59.703871Z",
     "iopub.status.idle": "2024-11-23T20:23:06.008626Z",
     "shell.execute_reply": "2024-11-23T20:23:06.007394Z"
    },
    "id": "fOQP9pqmeUO1",
    "papermill": {
     "duration": 6.32395,
     "end_time": "2024-11-23T20:23:06.010805",
     "exception": false,
     "start_time": "2024-11-23T20:22:59.686855",
     "status": "completed"
    },
    "tags": []
   },
   "outputs": [
    {
     "data": {
      "text/markdown": [
       "```python\n",
       "def factorial(n):\n",
       "  if n == 0:\n",
       "    return 1\n",
       "  else:\n",
       "    return n * factorial(n-1)\n",
       "```\n"
      ],
      "text/plain": [
       "<IPython.core.display.Markdown object>"
      ]
     },
     "execution_count": 31,
     "metadata": {},
     "output_type": "execute_result"
    }
   ],
   "source": [
    "model = genai.GenerativeModel(\n",
    "    'gemini-1.5-flash-latest',\n",
    "    generation_config=genai.GenerationConfig(\n",
    "        temperature=1,\n",
    "        top_p=1,\n",
    "        max_output_tokens=1024,\n",
    "    ))\n",
    "\n",
    "# Gemini 1.5 models are very chatty, so it helps to specify they stick to the code.\n",
    "code_prompt = \"\"\"\n",
    "Write a Python function to calculate the factorial of a number. No explanation, provide only the code.\n",
    "\"\"\"\n",
    "\n",
    "response = model.generate_content(code_prompt, request_options=retry_policy)\n",
    "Markdown(response.text)"
   ]
  },
  {
   "cell_type": "markdown",
   "id": "2bf9514b",
   "metadata": {
    "id": "wlBMWSFhgVRQ",
    "papermill": {
     "duration": 0.01501,
     "end_time": "2024-11-23T20:23:06.041319",
     "exception": false,
     "start_time": "2024-11-23T20:23:06.026309",
     "status": "completed"
    },
    "tags": []
   },
   "source": [
    "### Code execution\n",
    "\n",
    "The Gemini API can automatically run generated code too, and will return the output.\n",
    "\n",
    "<table align=left>\n",
    "  <td>\n",
    "    <a target=\"_blank\" href=\"https://aistudio.google.com/prompts/11veFr_VYEwBWcLkhNLr-maCG0G8sS_7Z\"><img src=\"https://ai.google.dev/site-assets/images/marketing/home/icon-ais.png\" style=\"height: 24px\" height=24/> Open in AI Studio</a>\n",
    "  </td>\n",
    "</table>"
   ]
  },
  {
   "cell_type": "code",
   "execution_count": 32,
   "id": "4f09fda2",
   "metadata": {
    "execution": {
     "iopub.execute_input": "2024-11-23T20:23:06.074535Z",
     "iopub.status.busy": "2024-11-23T20:23:06.073583Z",
     "iopub.status.idle": "2024-11-23T20:23:13.118753Z",
     "shell.execute_reply": "2024-11-23T20:23:13.117601Z"
    },
    "id": "jT3OfWYfhjRL",
    "papermill": {
     "duration": 7.064093,
     "end_time": "2024-11-23T20:23:13.121002",
     "exception": false,
     "start_time": "2024-11-23T20:23:06.056909",
     "status": "completed"
    },
    "tags": []
   },
   "outputs": [
    {
     "data": {
      "text/markdown": [
       "To calculate the sum of the first 14 odd prime numbers, I will first identify the first 14 odd prime numbers and then sum them.  I will use Python to help with this process.\n",
       "\n",
       "\n",
       "``` python\n",
       "import sympy\n",
       "\n",
       "def is_prime(n):\n",
       "    \"\"\"Checks if a number is prime.\"\"\"\n",
       "    if n <= 1:\n",
       "        return False\n",
       "    if n <= 3:\n",
       "        return True\n",
       "    if n % 2 == 0 or n % 3 == 0:\n",
       "        return False\n",
       "    i = 5\n",
       "    while i * i <= n:\n",
       "        if n % i == 0 or n % (i + 2) == 0:\n",
       "            return False\n",
       "        i = i + 6\n",
       "    return True\n",
       "\n",
       "count = 0\n",
       "number = 1\n",
       "primes = []\n",
       "while count < 14:\n",
       "    number += 2  # Start with 3, increment by 2 to skip even numbers.\n",
       "    if is_prime(number):\n",
       "        primes.append(number)\n",
       "        count += 1\n",
       "\n",
       "print(f\"The first 14 odd prime numbers are: {primes}\")\n",
       "total = sum(primes)\n",
       "print(f\"The sum of the first 14 odd prime numbers is: {total}\")\n",
       "\n",
       "\n",
       "```\n",
       "```\n",
       "The first 14 odd prime numbers are: [3, 5, 7, 11, 13, 17, 19, 23, 29, 31, 37, 41, 43, 47]\n",
       "The sum of the first 14 odd prime numbers is: 326\n",
       "\n",
       "```\n",
       "The code identifies the first 14 odd prime numbers and then calculates their sum. The output shows that the first 14 odd prime numbers are 3, 5, 7, 11, 13, 17, 19, 23, 29, 31, 37, 41, 43, and 47, and their sum is 326.\n"
      ],
      "text/plain": [
       "<IPython.core.display.Markdown object>"
      ]
     },
     "execution_count": 32,
     "metadata": {},
     "output_type": "execute_result"
    }
   ],
   "source": [
    "model = genai.GenerativeModel(\n",
    "    'gemini-1.5-flash-latest',\n",
    "    tools='code_execution',)\n",
    "\n",
    "code_exec_prompt = \"\"\"\n",
    "Calculate the sum of the first 14 prime numbers. Only consider the odd primes, and make sure you count them all.\n",
    "\"\"\"\n",
    "\n",
    "response = model.generate_content(code_exec_prompt, request_options=retry_policy)\n",
    "Markdown(response.text)"
   ]
  },
  {
   "cell_type": "markdown",
   "id": "edc1b232",
   "metadata": {
    "id": "ZspT1GSkjG6d",
    "papermill": {
     "duration": 0.015292,
     "end_time": "2024-11-23T20:23:13.152175",
     "exception": false,
     "start_time": "2024-11-23T20:23:13.136883",
     "status": "completed"
    },
    "tags": []
   },
   "source": [
    "While this looks like a single-part response, you can inspect the response to see the each of the steps: initial text, code generation, execution results, and final text summary."
   ]
  },
  {
   "cell_type": "code",
   "execution_count": 33,
   "id": "d44a5d2b",
   "metadata": {
    "execution": {
     "iopub.execute_input": "2024-11-23T20:23:13.184632Z",
     "iopub.status.busy": "2024-11-23T20:23:13.183842Z",
     "iopub.status.idle": "2024-11-23T20:23:13.189855Z",
     "shell.execute_reply": "2024-11-23T20:23:13.188787Z"
    },
    "id": "j4gQVzcRjRX-",
    "papermill": {
     "duration": 0.024588,
     "end_time": "2024-11-23T20:23:13.192030",
     "exception": false,
     "start_time": "2024-11-23T20:23:13.167442",
     "status": "completed"
    },
    "tags": []
   },
   "outputs": [
    {
     "name": "stdout",
     "output_type": "stream",
     "text": [
      "text: \"To calculate the sum of the first 14 odd prime numbers, I will first identify the first 14 odd prime numbers and then sum them.  I will use Python to help with this process.\\n\\n\"\n",
      "\n",
      "-----\n",
      "executable_code {\n",
      "  language: PYTHON\n",
      "  code: \"\\nimport sympy\\n\\ndef is_prime(n):\\n    \\\"\\\"\\\"Checks if a number is prime.\\\"\\\"\\\"\\n    if n <= 1:\\n        return False\\n    if n <= 3:\\n        return True\\n    if n % 2 == 0 or n % 3 == 0:\\n        return False\\n    i = 5\\n    while i * i <= n:\\n        if n % i == 0 or n % (i + 2) == 0:\\n            return False\\n        i = i + 6\\n    return True\\n\\ncount = 0\\nnumber = 1\\nprimes = []\\nwhile count < 14:\\n    number += 2  # Start with 3, increment by 2 to skip even numbers.\\n    if is_prime(number):\\n        primes.append(number)\\n        count += 1\\n\\nprint(f\\\"The first 14 odd prime numbers are: {primes}\\\")\\ntotal = sum(primes)\\nprint(f\\\"The sum of the first 14 odd prime numbers is: {total}\\\")\\n\\n\"\n",
      "}\n",
      "\n",
      "-----\n",
      "code_execution_result {\n",
      "  outcome: OUTCOME_OK\n",
      "  output: \"The first 14 odd prime numbers are: [3, 5, 7, 11, 13, 17, 19, 23, 29, 31, 37, 41, 43, 47]\\nThe sum of the first 14 odd prime numbers is: 326\\n\"\n",
      "}\n",
      "\n",
      "-----\n",
      "text: \"The code identifies the first 14 odd prime numbers and then calculates their sum. The output shows that the first 14 odd prime numbers are 3, 5, 7, 11, 13, 17, 19, 23, 29, 31, 37, 41, 43, and 47, and their sum is 326.\\n\"\n",
      "\n",
      "-----\n"
     ]
    }
   ],
   "source": [
    "for part in response.candidates[0].content.parts:\n",
    "  print(part)\n",
    "  print(\"-----\")"
   ]
  },
  {
   "cell_type": "markdown",
   "id": "58d498f0",
   "metadata": {
    "id": "1gUX8QzCj4d5",
    "papermill": {
     "duration": 0.015225,
     "end_time": "2024-11-23T20:23:13.222843",
     "exception": false,
     "start_time": "2024-11-23T20:23:13.207618",
     "status": "completed"
    },
    "tags": []
   },
   "source": [
    "### Explaining code\n",
    "\n",
    "The Gemini family of models can explain code to you too.\n",
    "\n",
    "<table align=left>\n",
    "  <td>\n",
    "    <a target=\"_blank\" href=\"https://aistudio.google.com/prompts/1N7LGzWzCYieyOf_7bAG4plrmkpDNmUyb\"><img src=\"https://ai.google.dev/site-assets/images/marketing/home/icon-ais.png\" style=\"height: 24px\" height=24/> Open in AI Studio</a>\n",
    "  </td>\n",
    "</table>"
   ]
  },
  {
   "cell_type": "code",
   "execution_count": 34,
   "id": "a4762df9",
   "metadata": {
    "execution": {
     "iopub.execute_input": "2024-11-23T20:23:13.256147Z",
     "iopub.status.busy": "2024-11-23T20:23:13.255156Z",
     "iopub.status.idle": "2024-11-23T20:23:17.225855Z",
     "shell.execute_reply": "2024-11-23T20:23:17.224708Z"
    },
    "id": "7_jPMMoxkIEb",
    "papermill": {
     "duration": 3.989785,
     "end_time": "2024-11-23T20:23:17.228169",
     "exception": false,
     "start_time": "2024-11-23T20:23:13.238384",
     "status": "completed"
    },
    "tags": []
   },
   "outputs": [
    {
     "data": {
      "text/markdown": [
       "This file is a bash script (a shell script for Bash or Zsh) that enhances your shell prompt to display information about the current Git repository.  In essence, it's a Git prompt customization script.\n",
       "\n",
       "You would use it to:\n",
       "\n",
       "* **Improve your Git workflow:**  By showing the current branch, changes (staged, unstaged, untracked), and other Git status information directly in your terminal prompt, you'll have a quick overview of your repository's state without needing to explicitly run `git status`.\n",
       "\n",
       "* **Customize your prompt's appearance:** The script supports themes (color schemes) and allows you to create your own custom theme to personalize the look of the Git information in your prompt.  It offers options to control what information is displayed (e.g., showing upstream branch information, untracked files, etc.).\n",
       "\n",
       "* **Integrate with other tools:** The script can optionally add information from other tools you might use (e.g., virtual environments like venv, conda, or Node.js's nvm) to the prompt.\n",
       "\n",
       "In short, this script aims to provide a more informative and visually appealing Git-aware shell prompt, improving developer efficiency and providing better context within the terminal.\n"
      ],
      "text/plain": [
       "<IPython.core.display.Markdown object>"
      ]
     },
     "execution_count": 34,
     "metadata": {},
     "output_type": "execute_result"
    }
   ],
   "source": [
    "file_contents = !curl https://raw.githubusercontent.com/magicmonty/bash-git-prompt/refs/heads/master/gitprompt.sh\n",
    "\n",
    "explain_prompt = f\"\"\"\n",
    "Please explain what this file does at a very high level. What is it, and why would I use it?\n",
    "\n",
    "```\n",
    "{file_contents}\n",
    "```\n",
    "\"\"\"\n",
    "\n",
    "model = genai.GenerativeModel('gemini-1.5-flash-latest')\n",
    "\n",
    "response = model.generate_content(explain_prompt, request_options=retry_policy)\n",
    "Markdown(response.text)"
   ]
  },
  {
   "cell_type": "markdown",
   "id": "dc2c368d",
   "metadata": {
    "id": "2a8266d97ce5",
    "papermill": {
     "duration": 0.01562,
     "end_time": "2024-11-23T20:23:17.259905",
     "exception": false,
     "start_time": "2024-11-23T20:23:17.244285",
     "status": "completed"
    },
    "tags": []
   },
   "source": [
    "## Learn more\n",
    "\n",
    "To learn more about prompting in depth:\n",
    "\n",
    "* Check out the whitepaper issued with today's content,\n",
    "* Try out the apps listed at the top of this notebook ([TextFX](https://textfx.withgoogle.com/), [SQL Talk](https://sql-talk-r5gdynozbq-uc.a.run.app/) and [NotebookLM](https://notebooklm.google/)),\n",
    "* Read the [Introduction to Prompting](https://ai.google.dev/gemini-api/docs/prompting-intro) from the Gemini API docs,\n",
    "* Explore the Gemini API's [prompt gallery](https://ai.google.dev/gemini-api/prompts) and try them out in AI Studio,\n",
    "* Check out the Gemini API cookbook for [inspirational examples](https://github.com/google-gemini/cookbook/blob/main/examples/) and [educational quickstarts](https://github.com/google-gemini/cookbook/blob/main/quickstarts/).\n",
    "\n",
    "And please share anything exciting you have tried in the Discord!"
   ]
  }
 ],
 "metadata": {
  "colab": {
   "name": "day-1-prompting.ipynb",
   "toc_visible": true
  },
  "kaggle": {
   "accelerator": "none",
   "dataSources": [],
   "dockerImageVersionId": 30786,
   "isGpuEnabled": false,
   "isInternetEnabled": true,
   "language": "python",
   "sourceType": "notebook"
  },
  "kernelspec": {
   "display_name": "kaggle-gcloud-genai",
   "language": "python",
   "name": "python3"
  },
  "language_info": {
   "codemirror_mode": {
    "name": "ipython",
    "version": 3
   },
   "file_extension": ".py",
   "mimetype": "text/x-python",
   "name": "python",
   "nbconvert_exporter": "python",
   "pygments_lexer": "ipython3",
   "version": "3.10.14"
  },
  "papermill": {
   "default_parameters": {},
   "duration": 110.156768,
   "end_time": "2024-11-23T20:23:17.897099",
   "environment_variables": {},
   "exception": null,
   "input_path": "__notebook__.ipynb",
   "output_path": "__notebook__.ipynb",
   "parameters": {},
   "start_time": "2024-11-23T20:21:27.740331",
   "version": "2.6.0"
  }
 },
 "nbformat": 4,
 "nbformat_minor": 5
}
