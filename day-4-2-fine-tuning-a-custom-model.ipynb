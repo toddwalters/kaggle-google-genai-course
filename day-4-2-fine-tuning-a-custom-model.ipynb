{
 "cells": [
  {
   "cell_type": "markdown",
   "metadata": {
    "id": "b6e13eef3f5d"
   },
   "source": [
    "##### Copyright 2024 Google LLC."
   ]
  },
  {
   "cell_type": "code",
   "execution_count": null,
   "metadata": {
    "cellView": "form",
    "execution": {
     "iopub.execute_input": "2024-11-14T03:23:58.909977Z",
     "iopub.status.busy": "2024-11-14T03:23:58.909404Z",
     "iopub.status.idle": "2024-11-14T03:23:58.933914Z",
     "shell.execute_reply": "2024-11-14T03:23:58.932716Z",
     "shell.execute_reply.started": "2024-11-14T03:23:58.909929Z"
    },
    "id": "d6597b11df14",
    "jupyter": {
     "source_hidden": true
    },
    "trusted": true
   },
   "outputs": [],
   "source": [
    "# @title Licensed under the Apache License, Version 2.0 (the \"License\");\n",
    "# you may not use this file except in compliance with the License.\n",
    "# You may obtain a copy of the License at\n",
    "#\n",
    "# https://www.apache.org/licenses/LICENSE-2.0\n",
    "#\n",
    "# Unless required by applicable law or agreed to in writing, software\n",
    "# distributed under the License is distributed on an \"AS IS\" BASIS,\n",
    "# WITHOUT WARRANTIES OR CONDITIONS OF ANY KIND, either express or implied.\n",
    "# See the License for the specific language governing permissions and\n",
    "# limitations under the License."
   ]
  },
  {
   "cell_type": "markdown",
   "metadata": {
    "id": "4KDIFPAL2EnL"
   },
   "source": [
    "# Day 4 - Fine tuning a custom model\n",
    "\n",
    "Welcome back to the [Kaggle and Google 5-day Generative AI course](https://www.kaggle.com/learn-guide/5-day-genai)!\n",
    "\n",
    "🎒 **Today’s Assignment**\n",
    "\n",
    "1. Complete Unit 4: “Domain-Specific LLMs”, which is:\n",
    "\n",
    "   - *Optional* - Listen to the summary [podcast episode](https://youtu.be/b1a4ZOQ8XdI) for this unit (created by [NotebookLM](https://notebooklm.google.com/)).\n",
    "   - Read the [“Solving Domain-Specific Problems Using LLMs” whitepaper\"](https://www.kaggle.com/whitepaper-solving-domains-specific-problems-using-llms).\n",
    "   - Complete these code labs on Kaggle:\n",
    "      1. [Use](https://www.kaggle.com/code/markishere/day-4-google-search-grounding) Google Search data in generation\n",
    "      2. [Tune](https://www.kaggle.com/code/markishere/day-4-fine-tuning-a-custom-model) a Gemini model for a custom task - (**This notebook**)\n",
    "2. Watch the [YouTube livestream recording](https://www.youtube.com/watch?v=odvuLMJWUSU&list=PLqFaTIg4myu-b1PlxitQdY0UYIbys-2es&index=4). Paige Bailey will be joined by expert speakers from Google - Scott Coull, Antonio Gulli, Anant Nawalgaria, Christopher Semturs, and Umesh Shankar. to discuss domain specific models.\n",
    "\n",
    "💡 **What You’ll Learn**\n",
    "\n",
    "In today’s reading, you’ll delve into the creation and application of specialized LLMs like SecLM and MedLM/Med-PaLM, with insights from the researchers who built them.\n",
    "\n",
    "In this notebook, you will use [Google Search](https://google.com/) results with the Gemini API in a technique called grounding, where the model is connected to verifiable sources of information. Using search grounding is similar to using the RAG system you implemented earlier in the week, but the Gemini API automates a lot of it for you. The model generates Google Search queries and invokes the searches automatically, retrieving relevant data from Google's index of the web and providing links to search suggestions that support the query, so your users can verify the sources.\n",
    "\n",
    "In this notebook you will use the Gemini API to fine-tune a custom, task-specific model. Fine-tuning can be used for a variety of tasks from classic NLP problems like entity extraction or summarisation, to creative tasks like stylised generation. You will fine-tune a model to classify the category a piece of text (a newsgroup post) into the category it belongs to (the newsgroup name).\n",
    "\n",
    "This codelab walks you tuning a model with the API. [AI Studio](https://aistudio.google.com/app/tune) also supports creating new tuned models directly in the web UI, allowing you to quickly create and monitor models using data from Google Sheets, Drive or your own files."
   ]
  },
  {
   "cell_type": "code",
   "execution_count": null,
   "metadata": {
    "execution": {
     "iopub.execute_input": "2024-11-14T03:23:58.936521Z",
     "iopub.status.busy": "2024-11-14T03:23:58.936135Z",
     "iopub.status.idle": "2024-11-14T03:23:58.941898Z",
     "shell.execute_reply": "2024-11-14T03:23:58.940618Z",
     "shell.execute_reply.started": "2024-11-14T03:23:58.936481Z"
    },
    "id": "9wafTyEH1_xF",
    "trusted": true
   },
   "outputs": [],
   "source": [
    "%pip install -U -q 'google-generativeai>=0.8.3'"
   ]
  },
  {
   "cell_type": "markdown",
   "metadata": {},
   "source": [
    "Note that you do not have to restart the kernel."
   ]
  },
  {
   "cell_type": "code",
   "execution_count": null,
   "metadata": {
    "execution": {
     "iopub.execute_input": "2024-11-14T04:14:06.760401Z",
     "iopub.status.busy": "2024-11-14T04:14:06.759967Z",
     "iopub.status.idle": "2024-11-14T04:14:08.164595Z",
     "shell.execute_reply": "2024-11-14T04:14:08.163322Z",
     "shell.execute_reply.started": "2024-11-14T04:14:06.760357Z"
    },
    "id": "T0CBG9xL2PvT",
    "trusted": true
   },
   "outputs": [],
   "source": [
    "import google.generativeai as genai"
   ]
  },
  {
   "cell_type": "markdown",
   "metadata": {
    "id": "P4bYX2T72ScK"
   },
   "source": [
    "### Set up your API key\n",
    "\n",
    "To run the following cell, your API key must be stored it in a [Kaggle secret](https://www.kaggle.com/discussions/product-feedback/114053) named `GOOGLE_API_KEY`.\n",
    "\n",
    "If you don't already have an API key, you can grab one from [AI Studio](https://aistudio.google.com/app/apikey). You can find [detailed instructions in the docs](https://ai.google.dev/gemini-api/docs/api-key).\n",
    "\n",
    "To make the key available through Kaggle secrets, choose `Secrets` from the `Add-ons` menu and follow the instructions to add your key or enable it for this notebook."
   ]
  },
  {
   "cell_type": "code",
   "execution_count": null,
   "metadata": {
    "execution": {
     "iopub.execute_input": "2024-11-14T04:14:08.167369Z",
     "iopub.status.busy": "2024-11-14T04:14:08.166626Z",
     "iopub.status.idle": "2024-11-14T04:14:08.437435Z",
     "shell.execute_reply": "2024-11-14T04:14:08.436412Z",
     "shell.execute_reply.started": "2024-11-14T04:14:08.167327Z"
    },
    "id": "VuJPY3GK2SLZ",
    "trusted": true
   },
   "outputs": [],
   "source": [
    "from kaggle_secrets import UserSecretsClient\n",
    "\n",
    "GOOGLE_API_KEY = UserSecretsClient().get_secret(\"GOOGLE_API_KEY\")\n",
    "genai.configure(api_key=GOOGLE_API_KEY)"
   ]
  },
  {
   "cell_type": "markdown",
   "metadata": {
    "id": "25b2127c2052"
   },
   "source": [
    "If you received an error response along the lines of `No user secrets exist for kernel id ...`, then you need to add your API key via `Add-ons`, `Secrets` **and** enable it.\n",
    "\n",
    "![Screenshot of the checkbox to enable GOOGLE_API_KEY secret](https://storage.googleapis.com/kaggle-media/Images/5gdai_sc_3.png)"
   ]
  },
  {
   "cell_type": "markdown",
   "metadata": {
    "id": "CqVA5QFO6n4z"
   },
   "source": [
    "### Explore available models\n",
    "\n",
    "You will be using the [`TunedModel.create`](https://ai.google.dev/api/tuning#method:-tunedmodels.create) API method to start the fine-tuning job and create your custom model. Find a model that supports it through the [`models.list`](https://ai.google.dev/api/models#method:-models.list) endpoint. You can also find more information about tuning models in [the model tuning docs](https://ai.google.dev/gemini-api/docs/model-tuning/tutorial?lang=python)."
   ]
  },
  {
   "cell_type": "code",
   "execution_count": null,
   "metadata": {
    "execution": {
     "iopub.execute_input": "2024-11-14T04:14:10.234461Z",
     "iopub.status.busy": "2024-11-14T04:14:10.234032Z",
     "iopub.status.idle": "2024-11-14T04:14:11.145855Z",
     "shell.execute_reply": "2024-11-14T04:14:11.14471Z",
     "shell.execute_reply.started": "2024-11-14T04:14:10.234417Z"
    },
    "id": "coEacWAB6o0G",
    "trusted": true
   },
   "outputs": [],
   "source": [
    "for model in genai.list_models():\n",
    "    if \"createTunedModel\" in model.supported_generation_methods:\n",
    "        print(model.name)"
   ]
  },
  {
   "cell_type": "markdown",
   "metadata": {
    "id": "peFm0w_0c1CO"
   },
   "source": [
    "## Download the dataset\n",
    "\n",
    "In this activity, you will use the same newsgroups dataset that you used to train a classifier in Keras. In this example you will use a fine-tuned Gemini model to achieve the same goal.\n",
    "\n",
    "The [20 Newsgroups Text Dataset](https://scikit-learn.org/0.19/datasets/twenty_newsgroups.html) contains 18,000 newsgroups posts on 20 topics divided into training and test sets."
   ]
  },
  {
   "cell_type": "code",
   "execution_count": null,
   "metadata": {
    "execution": {
     "iopub.execute_input": "2024-11-14T04:14:11.975118Z",
     "iopub.status.busy": "2024-11-14T04:14:11.97468Z",
     "iopub.status.idle": "2024-11-14T04:14:36.829367Z",
     "shell.execute_reply": "2024-11-14T04:14:36.828183Z",
     "shell.execute_reply.started": "2024-11-14T04:14:11.975073Z"
    },
    "id": "bX_kpgnQ9b-Z",
    "trusted": true
   },
   "outputs": [],
   "source": [
    "from sklearn.datasets import fetch_20newsgroups\n",
    "\n",
    "newsgroups_train = fetch_20newsgroups(subset=\"train\")\n",
    "newsgroups_test = fetch_20newsgroups(subset=\"test\")\n",
    "\n",
    "# View list of class names for dataset\n",
    "newsgroups_train.target_names"
   ]
  },
  {
   "cell_type": "markdown",
   "metadata": {
    "id": "ipafe6ptZFjt"
   },
   "source": [
    "Here's what a single row looks like."
   ]
  },
  {
   "cell_type": "code",
   "execution_count": null,
   "metadata": {
    "execution": {
     "iopub.execute_input": "2024-11-14T04:14:36.832629Z",
     "iopub.status.busy": "2024-11-14T04:14:36.831971Z",
     "iopub.status.idle": "2024-11-14T04:14:36.8445Z",
     "shell.execute_reply": "2024-11-14T04:14:36.83826Z",
     "shell.execute_reply.started": "2024-11-14T04:14:36.832513Z"
    },
    "id": "EtEXcdT39hCB",
    "trusted": true
   },
   "outputs": [],
   "source": [
    "print(newsgroups_train.data[0])"
   ]
  },
  {
   "cell_type": "markdown",
   "metadata": {
    "id": "03lDs1O4ZQ0-"
   },
   "source": [
    "## Prepare the dataset\n",
    "\n",
    "You'll use the same pre-processing code you used for the custom model on day 2. This pre-processing removes personal information, which can be used to \"shortcut\" to known users of a forum, and formats the text to appear a bit more like regular text and less like a newsgroup post (e.g. by removing the mail headers). This normalisation allows the model to generalise to regular text and not over-depend on specific fields. If your input data is always going to be newsgroup posts, it may be helpful to leave this structure in place if they provide genuine signals."
   ]
  },
  {
   "cell_type": "code",
   "execution_count": null,
   "metadata": {
    "execution": {
     "iopub.execute_input": "2024-11-14T04:14:36.84685Z",
     "iopub.status.busy": "2024-11-14T04:14:36.846124Z",
     "iopub.status.idle": "2024-11-14T04:14:37.375175Z",
     "shell.execute_reply": "2024-11-14T04:14:37.37394Z",
     "shell.execute_reply.started": "2024-11-14T04:14:36.846794Z"
    },
    "id": "IoNYTxpoZgB0",
    "trusted": true
   },
   "outputs": [],
   "source": [
    "import email\n",
    "import re\n",
    "\n",
    "import pandas as pd\n",
    "\n",
    "\n",
    "def preprocess_newsgroup_row(data):\n",
    "    # Extract only the subject and body\n",
    "    msg = email.message_from_string(data)\n",
    "    text = f\"{msg['Subject']}\\n\\n{msg.get_payload()}\"\n",
    "    # Strip any remaining email addresses\n",
    "    text = re.sub(r\"[\\w\\.-]+@[\\w\\.-]+\", \"\", text)\n",
    "    # Truncate the text to fit within the input limits\n",
    "    text = text[:40000]\n",
    "\n",
    "    return text\n",
    "\n",
    "\n",
    "def preprocess_newsgroup_data(newsgroup_dataset):\n",
    "    # Put data points into dataframe\n",
    "    df = pd.DataFrame(\n",
    "        {\"Text\": newsgroup_dataset.data, \"Label\": newsgroup_dataset.target}\n",
    "    )\n",
    "    # Clean up the text\n",
    "    df[\"Text\"] = df[\"Text\"].apply(preprocess_newsgroup_row)\n",
    "    # Match label to target name index\n",
    "    df[\"Class Name\"] = df[\"Label\"].map(lambda l: newsgroup_dataset.target_names[l])\n",
    "\n",
    "    return df"
   ]
  },
  {
   "cell_type": "code",
   "execution_count": null,
   "metadata": {
    "execution": {
     "iopub.execute_input": "2024-11-14T04:14:37.378262Z",
     "iopub.status.busy": "2024-11-14T04:14:37.377698Z",
     "iopub.status.idle": "2024-11-14T04:14:44.024746Z",
     "shell.execute_reply": "2024-11-14T04:14:44.023465Z",
     "shell.execute_reply.started": "2024-11-14T04:14:37.37822Z"
    },
    "id": "kvOsUSRWaW4g",
    "trusted": true
   },
   "outputs": [],
   "source": [
    "# Apply preprocessing to training and test datasets\n",
    "df_train = preprocess_newsgroup_data(newsgroups_train)\n",
    "df_test = preprocess_newsgroup_data(newsgroups_test)\n",
    "\n",
    "df_train.head()"
   ]
  },
  {
   "cell_type": "markdown",
   "metadata": {
    "id": "XSKcj5WtadaR"
   },
   "source": [
    "Now sample the data. You will keep 50 rows for each category for training. Note that this is even fewer than the Keras example, as this technique (parameter-efficient fine-tuning, or PEFT) updates a relatively small number of parameters and does not require training a new model or updating the large model."
   ]
  },
  {
   "cell_type": "code",
   "execution_count": null,
   "metadata": {
    "execution": {
     "iopub.execute_input": "2024-11-14T04:14:44.026572Z",
     "iopub.status.busy": "2024-11-14T04:14:44.026123Z",
     "iopub.status.idle": "2024-11-14T04:14:44.082828Z",
     "shell.execute_reply": "2024-11-14T04:14:44.0816Z",
     "shell.execute_reply.started": "2024-11-14T04:14:44.026509Z"
    },
    "id": "0t9Xu6X5akkt",
    "trusted": true
   },
   "outputs": [],
   "source": [
    "def sample_data(df, num_samples, classes_to_keep):\n",
    "    # Sample rows, selecting num_samples of each Label.\n",
    "    df = (\n",
    "        df.groupby(\"Label\")[df.columns]\n",
    "        .apply(lambda x: x.sample(num_samples))\n",
    "        .reset_index(drop=True)\n",
    "    )\n",
    "\n",
    "    df = df[df[\"Class Name\"].str.contains(classes_to_keep)]\n",
    "    df[\"Class Name\"] = df[\"Class Name\"].astype(\"category\")\n",
    "\n",
    "    return df\n",
    "\n",
    "\n",
    "TRAIN_NUM_SAMPLES = 50\n",
    "TEST_NUM_SAMPLES = 10\n",
    "# Keep rec.* and sci.*\n",
    "CLASSES_TO_KEEP = \"^rec|^sci\"\n",
    "\n",
    "df_train = sample_data(df_train, TRAIN_NUM_SAMPLES, CLASSES_TO_KEEP)\n",
    "df_test = sample_data(df_test, TEST_NUM_SAMPLES, CLASSES_TO_KEEP)"
   ]
  },
  {
   "cell_type": "markdown",
   "metadata": {},
   "source": [
    "## Evaluate baseline performance\n",
    "\n",
    "Before you start tuning a model, it's good practice to perform an evaluation on the available models to ensure you can measure how much the tuning helps.\n",
    "\n",
    "First identify a single sample row to use for visual inspection."
   ]
  },
  {
   "cell_type": "code",
   "execution_count": null,
   "metadata": {
    "execution": {
     "iopub.execute_input": "2024-11-14T04:14:44.084801Z",
     "iopub.status.busy": "2024-11-14T04:14:44.084283Z",
     "iopub.status.idle": "2024-11-14T04:14:44.092623Z",
     "shell.execute_reply": "2024-11-14T04:14:44.09141Z",
     "shell.execute_reply.started": "2024-11-14T04:14:44.084747Z"
    },
    "trusted": true
   },
   "outputs": [],
   "source": [
    "sample_idx = 0\n",
    "sample_row = preprocess_newsgroup_row(newsgroups_test.data[sample_idx])\n",
    "sample_label = newsgroups_test.target_names[newsgroups_test.target[sample_idx]]\n",
    "\n",
    "print(sample_row)\n",
    "print('---')\n",
    "print('Label:', sample_label)"
   ]
  },
  {
   "cell_type": "markdown",
   "metadata": {},
   "source": [
    "Passing the text directly in as a prompt does not yield the desired results. The model will attempt to respond to the message."
   ]
  },
  {
   "cell_type": "code",
   "execution_count": null,
   "metadata": {
    "execution": {
     "iopub.execute_input": "2024-11-14T04:16:08.130068Z",
     "iopub.status.busy": "2024-11-14T04:16:08.12949Z",
     "iopub.status.idle": "2024-11-14T04:16:12.084133Z",
     "shell.execute_reply": "2024-11-14T04:16:12.083069Z",
     "shell.execute_reply.started": "2024-11-14T04:16:08.130023Z"
    },
    "trusted": true
   },
   "outputs": [],
   "source": [
    "baseline_model = genai.GenerativeModel(\"gemini-1.5-flash-001\")\n",
    "response = baseline_model.generate_content(sample_row)\n",
    "print(response.text)"
   ]
  },
  {
   "cell_type": "markdown",
   "metadata": {},
   "source": [
    "You can use the prompt engineering techniques you have learned this week to induce the model to perform the desired task. Try some of your own ideas and see what is effective, or check out the following cells for different approaches. Note that they have different levels of effectiveness!"
   ]
  },
  {
   "cell_type": "code",
   "execution_count": null,
   "metadata": {
    "execution": {
     "iopub.execute_input": "2024-11-14T03:24:24.651492Z",
     "iopub.status.busy": "2024-11-14T03:24:24.651093Z",
     "iopub.status.idle": "2024-11-14T03:24:26.256592Z",
     "shell.execute_reply": "2024-11-14T03:24:26.255455Z",
     "shell.execute_reply.started": "2024-11-14T03:24:24.65145Z"
    },
    "trusted": true
   },
   "outputs": [],
   "source": [
    "# Ask the model directly in a zero-shot prompt.\n",
    "\n",
    "prompt = \"From what newsgroup does the following message originate?\"\n",
    "baseline_response = baseline_model.generate_content([prompt, sample_row])\n",
    "print(baseline_response.text)"
   ]
  },
  {
   "cell_type": "markdown",
   "metadata": {},
   "source": [
    "That technique produces quite a verbose response. You could try and pick out the relevant text, or refine the prompt even further."
   ]
  },
  {
   "cell_type": "code",
   "execution_count": null,
   "metadata": {
    "execution": {
     "iopub.execute_input": "2024-11-14T03:25:26.592865Z",
     "iopub.status.busy": "2024-11-14T03:25:26.592373Z",
     "iopub.status.idle": "2024-11-14T03:25:26.967718Z",
     "shell.execute_reply": "2024-11-14T03:25:26.966458Z",
     "shell.execute_reply.started": "2024-11-14T03:25:26.592818Z"
    },
    "trusted": true
   },
   "outputs": [],
   "source": [
    "from google.api_core import retry\n",
    "\n",
    "# You can use a system instruction to do more direct prompting, and get a\n",
    "# more succinct answer.\n",
    "\n",
    "system_instruct = \"\"\"\n",
    "You are a classification service. You will be passed input that represents\n",
    "a newsgroup post and you must respond with the newsgroup from which the post\n",
    "originates.\n",
    "\"\"\"\n",
    "\n",
    "instructed_model = genai.GenerativeModel(\"gemini-1.5-flash-001\",\n",
    "                                         system_instruction=system_instruct)\n",
    "\n",
    "retry_policy = {\"retry\": retry.Retry(predicate=retry.if_transient_error)}\n",
    "\n",
    "# If you want to evaluate your own technique, replace this function with your\n",
    "# model, prompt and other code and return the predicted answer.\n",
    "def predict_label(post: str) -> str:\n",
    "    response = instructed_model.generate_content(post, request_options=retry_policy)\n",
    "    rc = response.candidates[0]\n",
    "\n",
    "    # Any errors, filters, recitation, etc we can mark as a general error\n",
    "    if rc.finish_reason.name != \"STOP\":\n",
    "        return \"(error)\"\n",
    "    else:\n",
    "        # Clean up the response.\n",
    "        return response.text.strip()\n",
    "\n",
    "\n",
    "prediction = predict_label(sample_row)\n",
    "\n",
    "print(prediction)\n",
    "print()\n",
    "print(\"Correct!\" if prediction == sample_label else \"Incorrect.\")"
   ]
  },
  {
   "cell_type": "markdown",
   "metadata": {},
   "source": [
    "Now run a short evaluation using the function defined above. The test set is further sampled to ensure the experiment runs smoothly on the API's free tier. In practice you would evaluate over the whole set."
   ]
  },
  {
   "cell_type": "code",
   "execution_count": null,
   "metadata": {
    "execution": {
     "iopub.execute_input": "2024-11-14T03:25:34.365585Z",
     "iopub.status.busy": "2024-11-14T03:25:34.365059Z",
     "iopub.status.idle": "2024-11-14T03:25:40.214328Z",
     "shell.execute_reply": "2024-11-14T03:25:40.213224Z",
     "shell.execute_reply.started": "2024-11-14T03:25:34.365535Z"
    },
    "trusted": true
   },
   "outputs": [],
   "source": [
    "from tqdm.rich import tqdm\n",
    "\n",
    "tqdm.pandas()\n",
    "\n",
    "\n",
    "# Further sample the test data to be mindful of the free-tier quota.\n",
    "df_baseline_eval = sample_data(df_test, 2, '.*')\n",
    "\n",
    "# Make predictions using the sampled data.\n",
    "df_baseline_eval['Prediction'] = df_baseline_eval['Text'].progress_apply(predict_label)\n",
    "\n",
    "# And calculate the accuracy.\n",
    "accuracy = (df_baseline_eval[\"Class Name\"] == df_baseline_eval[\"Prediction\"]).sum() / len(df_baseline_eval)\n",
    "print(f\"Accuracy: {accuracy:.2%}\")"
   ]
  },
  {
   "cell_type": "markdown",
   "metadata": {},
   "source": [
    "Now take a look at the dataframe to compare the predictions with the labels."
   ]
  },
  {
   "cell_type": "code",
   "execution_count": null,
   "metadata": {
    "execution": {
     "iopub.execute_input": "2024-11-14T03:25:44.278719Z",
     "iopub.status.busy": "2024-11-14T03:25:44.278198Z",
     "iopub.status.idle": "2024-11-14T03:25:44.294014Z",
     "shell.execute_reply": "2024-11-14T03:25:44.292877Z",
     "shell.execute_reply.started": "2024-11-14T03:25:44.278653Z"
    },
    "trusted": true
   },
   "outputs": [],
   "source": [
    "df_baseline_eval"
   ]
  },
  {
   "cell_type": "markdown",
   "metadata": {
    "id": "Ok7ugrLzcghX"
   },
   "source": [
    "## Tune a custom model\n",
    "\n",
    "In this example you'll use tuning to help create a model that requires no prompting or system instructions and outputs succinct text from the classes you provide in the training data.\n",
    "\n",
    "The data contains both input text (the processed posts) and output text (the category, or newsgroup), which you can use to start tuning a model.\n",
    "\n",
    "The Python SDK for tuning supports Pandas dataframes as input, so you don't need any custom data generators or pipelines. Just specify the input and the relevant columns as the `input_key` and `output_key`.\n",
    "\n",
    "When calling `create_tuned_model`, you can specify model tuning hyperparameters too:\n",
    " - `epoch_count`: defines how many times to loop through the data,\n",
    " - `batch_size`: defines how many rows to process in a single step, and\n",
    " - `learning_rate`: defines the scaling factor for updating model weights at each step.\n",
    "\n",
    "You can also choose to omit them and use the defaults. [Learn more](https://developers.google.com/machine-learning/crash-course/linear-regression/hyperparameters) about these parameters and how they work. For this example these parameters were selected by running some tuning jobs and selecting parameters that were both effective and quick."
   ]
  },
  {
   "cell_type": "code",
   "execution_count": null,
   "metadata": {
    "execution": {
     "iopub.execute_input": "2024-11-14T03:26:04.861814Z",
     "iopub.status.busy": "2024-11-14T03:26:04.861269Z",
     "iopub.status.idle": "2024-11-14T03:26:05.712733Z",
     "shell.execute_reply": "2024-11-14T03:26:05.711402Z",
     "shell.execute_reply.started": "2024-11-14T03:26:04.861768Z"
    },
    "id": "pWOZlspfY8dV",
    "trusted": true
   },
   "outputs": [],
   "source": [
    "from collections.abc import Iterable\n",
    "import random\n",
    "\n",
    "\n",
    "# Append a random number to the model ID so you can re-run with a higher chance\n",
    "# of creating a unique model ID.\n",
    "model_id = f\"newsgroup-classifier-{random.randint(10000, 99999)}\"\n",
    "\n",
    "# Upload the training data and queue the tuning job.\n",
    "tuning_op = genai.create_tuned_model(\n",
    "    \"models/gemini-1.5-flash-001-tuning\",\n",
    "    training_data=df_train,\n",
    "    input_key=\"Text\",  # the column to use as input\n",
    "    output_key=\"Class Name\",  # the column to use as output\n",
    "    id=model_id,\n",
    "    display_name=\"Newsgroup classification model\",\n",
    "    batch_size=16,\n",
    "    epoch_count=2,\n",
    ")\n",
    "\n",
    "print(model_id)"
   ]
  },
  {
   "cell_type": "markdown",
   "metadata": {
    "id": "NQ3YZ2MBubCY"
   },
   "source": [
    "This has created a tuning job that will run in the background. To inspect the progress of the tuning job, run this cell to plot the current status and loss curve. Once the status reaches `ACTIVE`, tuning is complete and the model is ready to use.\n",
    "\n",
    "Tuning jobs are queued, so it may look like no training steps have been taken initially but it will progress. Tuning can take upwards of 20 minutes, depending on factors like your dataset size and how busy the tuning infrastrature is. Why not treat yourself to a nice cup of tea while you wait, or come and say \"Hi!\" to [yours truly](https://discord.com/users/132124213132787712) in the group [Discord](https://discord.com/invite/kaggle).\n",
    "\n",
    "It is safe to stop this cell at any point. It will not stop the tuning job."
   ]
  },
  {
   "cell_type": "code",
   "execution_count": null,
   "metadata": {
    "execution": {
     "iopub.execute_input": "2024-11-14T03:26:06.977375Z",
     "iopub.status.busy": "2024-11-14T03:26:06.976904Z",
     "iopub.status.idle": "2024-11-14T03:32:10.40729Z",
     "shell.execute_reply": "2024-11-14T03:32:10.405652Z",
     "shell.execute_reply.started": "2024-11-14T03:26:06.977333Z"
    },
    "id": "c4ef5f13692d",
    "trusted": true
   },
   "outputs": [],
   "source": [
    "import time\n",
    "import seaborn as sns\n",
    "\n",
    "\n",
    "while (tuned_model := genai.get_tuned_model(f\"tunedModels/{model_id}\")).state.name != 'ACTIVE':\n",
    "\n",
    "    print(tuned_model.state)\n",
    "    time.sleep(60)\n",
    "\n",
    "print(f\"Done! The model is {tuned_model.state.name}\")\n",
    "\n",
    "# Plot the loss curve.\n",
    "snapshots = pd.DataFrame(tuned_model.tuning_task.snapshots)\n",
    "sns.lineplot(data=snapshots, x=\"step\", y=\"mean_loss\")\n"
   ]
  },
  {
   "cell_type": "markdown",
   "metadata": {
    "id": "9-qiIdK4u80z"
   },
   "source": [
    "Note that the `seaborn` module may output warnings containing `FutureWarning: use_inf_as_na option is deprecated`. These are expected and can be ignored."
   ]
  },
  {
   "cell_type": "markdown",
   "metadata": {
    "id": "9-qiIdK4u80z"
   },
   "source": [
    "## Use the new model\n",
    "\n",
    "Now that you have a tuned model, try it out with custom data. You use the same API as a normal Gemini API interaction, but you specify your new model as the model name, using the `tunedModels/` prefix."
   ]
  },
  {
   "cell_type": "code",
   "execution_count": null,
   "metadata": {
    "execution": {
     "iopub.execute_input": "2024-11-14T03:32:10.411522Z",
     "iopub.status.busy": "2024-11-14T03:32:10.410531Z",
     "iopub.status.idle": "2024-11-14T03:32:17.642646Z",
     "shell.execute_reply": "2024-11-14T03:32:17.641197Z",
     "shell.execute_reply.started": "2024-11-14T03:32:10.411455Z"
    },
    "id": "hyO2-MXLvM6a",
    "trusted": true
   },
   "outputs": [],
   "source": [
    "your_model = genai.GenerativeModel(f\"tunedModels/{model_id}\")\n",
    "\n",
    "new_text = \"\"\"\n",
    "First-timer looking to get out of here.\n",
    "\n",
    "Hi, I'm writing about my interest in travelling to the outer limits!\n",
    "\n",
    "What kind of craft can I buy? What is easiest to access from this 3rd rock?\n",
    "\n",
    "Let me know how to do that please.\n",
    "\"\"\"\n",
    "\n",
    "response = your_model.generate_content(new_text)\n",
    "print(response.text)"
   ]
  },
  {
   "cell_type": "markdown",
   "metadata": {
    "id": "xajLek9DySH_"
   },
   "source": [
    "### Evaluation\n",
    "\n",
    "You can see that the model outputs labels that correspond to those in the training data, and without any system instructions or prompting, which is already a great improvement. Now see how well it performs on the test set.\n",
    "\n",
    "Note that there is no parallelism in this example; classifying the test sub-set will take a few minutes."
   ]
  },
  {
   "cell_type": "code",
   "execution_count": null,
   "metadata": {
    "execution": {
     "iopub.execute_input": "2024-11-14T03:32:17.644483Z",
     "iopub.status.busy": "2024-11-14T03:32:17.644082Z",
     "iopub.status.idle": "2024-11-14T03:33:05.035916Z",
     "shell.execute_reply": "2024-11-14T03:33:05.034747Z",
     "shell.execute_reply.started": "2024-11-14T03:32:17.644443Z"
    },
    "id": "6T2Y3ZApvbMw",
    "trusted": true
   },
   "outputs": [],
   "source": [
    "def classify_text(text: str) -> str:\n",
    "    \"\"\"Classify the provided text into a known newsgroup.\"\"\"\n",
    "    response = your_model.generate_content(text, request_options=retry_policy)\n",
    "    rc = response.candidates[0]\n",
    "\n",
    "    # Any errors, filters, recitation, etc we can mark as a general error\n",
    "    if rc.finish_reason.name != \"STOP\":\n",
    "        return \"(error)\"\n",
    "    else:\n",
    "        return rc.content.parts[0].text\n",
    "\n",
    "\n",
    "# The sampling here is just to minimise your quota usage. If you can, you should\n",
    "# evaluate the whole test set with `df_model_eval = df_test.copy()`.\n",
    "df_model_eval = sample_data(df_test, 4, '.*')\n",
    "\n",
    "\n",
    "df_model_eval[\"Prediction\"] = df_model_eval[\"Text\"].progress_apply(classify_text)\n",
    "\n",
    "accuracy = (df_model_eval[\"Class Name\"] == df_model_eval[\"Prediction\"]).sum() / len(df_model_eval)\n",
    "print(f\"Accuracy: {accuracy:.2%}\")"
   ]
  },
  {
   "cell_type": "markdown",
   "metadata": {},
   "source": [
    "## Compare token usage\n",
    "\n",
    "AI Studio and the Gemini API provide model tuning at no cost, however normal limits and charges apply for *use* of a tuned model.\n",
    "\n",
    "The size of the input prompt and other generation config like system instructions, as well as the number of generated output tokens, all contribute to the overall cost of a request."
   ]
  },
  {
   "cell_type": "code",
   "execution_count": null,
   "metadata": {
    "execution": {
     "iopub.execute_input": "2024-11-14T03:33:05.03965Z",
     "iopub.status.busy": "2024-11-14T03:33:05.039144Z",
     "iopub.status.idle": "2024-11-14T03:33:05.399134Z",
     "shell.execute_reply": "2024-11-14T03:33:05.397806Z",
     "shell.execute_reply.started": "2024-11-14T03:33:05.039596Z"
    },
    "trusted": true
   },
   "outputs": [],
   "source": [
    "# Calculate the *input* cost of the baseline model with system instructions.\n",
    "sysint_tokens = instructed_model.count_tokens(sample_row).total_tokens\n",
    "print(f'System instructed baseline model: {sysint_tokens} (input)')\n",
    "\n",
    "# Calculate the input cost of the tuned model.\n",
    "tuned_tokens = your_model.count_tokens(sample_row).total_tokens\n",
    "print(f'Tuned model: {tuned_tokens} (input)')\n",
    "\n",
    "savings = (sysint_tokens - tuned_tokens) / tuned_tokens\n",
    "print(f'Token savings: {savings:.2%}')  # Note that this is only n=1."
   ]
  },
  {
   "cell_type": "markdown",
   "metadata": {},
   "source": [
    "The earlier verbose model also produced more output tokens than needed for this task."
   ]
  },
  {
   "cell_type": "code",
   "execution_count": null,
   "metadata": {
    "execution": {
     "iopub.execute_input": "2024-11-14T03:33:05.401116Z",
     "iopub.status.busy": "2024-11-14T03:33:05.400739Z",
     "iopub.status.idle": "2024-11-14T03:33:06.369214Z",
     "shell.execute_reply": "2024-11-14T03:33:06.367883Z",
     "shell.execute_reply.started": "2024-11-14T03:33:05.401076Z"
    },
    "trusted": true
   },
   "outputs": [],
   "source": [
    "baseline_token_output = baseline_response.usage_metadata.candidates_token_count\n",
    "print('Baseline (verbose) output tokens:', baseline_token_output)\n",
    "\n",
    "tuned_model_output = your_model.generate_content(sample_row)\n",
    "tuned_tokens_output = tuned_model_output.usage_metadata.candidates_token_count\n",
    "print('Tuned output tokens:', tuned_tokens_output)"
   ]
  },
  {
   "cell_type": "markdown",
   "metadata": {
    "id": "6c1204a5d0ab"
   },
   "source": [
    "## Next steps\n",
    "\n",
    "Now that you have tuned a classification model, try some other tasks, like tuning a model to respond with a specific tone or style using hand-written examples (or even generated examples!). Kaggle hosts [a number of datasets](https://www.kaggle.com/datasets) you can try out.\n",
    "\n",
    "Learn about [when supervised fine-tuning is most effective](https://cloud.google.com/blog/products/ai-machine-learning/supervised-fine-tuning-for-gemini-llm).\n",
    "\n",
    "And check out the [fine-tuning tutorial](https://ai.google.dev/gemini-api/docs/model-tuning/tutorial?hl=en&lang=python) for another example that shows a tuned model extending beyond the training data to new, unseen inputs."
   ]
  }
 ],
 "metadata": {
  "colab": {
   "name": "day-4-fine-tuning-a-custom-model.ipynb",
   "toc_visible": true
  },
  "kaggle": {
   "accelerator": "none",
   "dataSources": [],
   "dockerImageVersionId": 30786,
   "isGpuEnabled": false,
   "isInternetEnabled": true,
   "language": "python",
   "sourceType": "notebook"
  },
  "kernelspec": {
   "display_name": "Python 3",
   "language": "python",
   "name": "python3"
  },
  "language_info": {
   "codemirror_mode": {
    "name": "ipython",
    "version": 3
   },
   "file_extension": ".py",
   "mimetype": "text/x-python",
   "name": "python",
   "nbconvert_exporter": "python",
   "pygments_lexer": "ipython3",
   "version": "3.10.14"
  }
 },
 "nbformat": 4,
 "nbformat_minor": 4
}
