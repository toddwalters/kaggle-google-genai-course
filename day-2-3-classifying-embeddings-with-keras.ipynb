{
 "cells": [
  {
   "cell_type": "markdown",
   "metadata": {
    "id": "v0WeWbFNkUSz"
   },
   "source": [
    "##### Copyright 2024 Google LLC."
   ]
  },
  {
   "cell_type": "code",
   "execution_count": null,
   "metadata": {
    "_kg_hide-input": true,
    "cellView": "form",
    "execution": {
     "iopub.execute_input": "2024-11-13T13:29:34.532374Z",
     "iopub.status.busy": "2024-11-13T13:29:34.532005Z",
     "iopub.status.idle": "2024-11-13T13:29:34.538506Z",
     "shell.execute_reply": "2024-11-13T13:29:34.537167Z",
     "shell.execute_reply.started": "2024-11-13T13:29:34.532327Z"
    },
    "id": "Aqwsgz9lkUst",
    "jupyter": {
     "source_hidden": true
    },
    "trusted": true
   },
   "outputs": [],
   "source": [
    "# @title Licensed under the Apache License, Version 2.0 (the \"License\");\n",
    "# you may not use this file except in compliance with the License.\n",
    "# You may obtain a copy of the License at\n",
    "#\n",
    "# https://www.apache.org/licenses/LICENSE-2.0\n",
    "#\n",
    "# Unless required by applicable law or agreed to in writing, software\n",
    "# distributed under the License is distributed on an \"AS IS\" BASIS,\n",
    "# WITHOUT WARRANTIES OR CONDITIONS OF ANY KIND, either express or implied.\n",
    "# See the License for the specific language governing permissions and\n",
    "# limitations under the License."
   ]
  },
  {
   "cell_type": "markdown",
   "metadata": {
    "id": "bhT1u-Pof10V"
   },
   "source": [
    "# Day 2 - Classifying embeddings with Keras and the Gemini API\n",
    "\n",
    "## Overview\n",
    "\n",
    "Welcome back to the [Kaggle and Google 5-day Generative AI course](https://www.kaggle.com/learn-guide/5-day-genai)!\n",
    "\n",
    "In this notebook, you'll learn to use the embeddings produced by the Gemini API to train a model that can classify newsgroup posts into the categories (the newsgroup itself) from the post contents.\n",
    "\n",
    "This technique uses the Gemini API's embeddings as input, avoiding the need to train on text input directly, and as a result it is able to perform quite well using relatively few examples compared to training a text model from scratch.\n",
    "\n",
    "🎒 **Today’s Assignments**\n",
    "\n",
    "Complete Unit 2: “Embeddings and Vector Stores/Databases”, which is:\n",
    "\n",
    "- *Optional* - Listen to the summary [podcast episode](https://notifications.googleapis.com/email/redirect?t=AFG8qyV3qjgPTM8TLq9sSypo9dKeAR4NNRHJz_l995ZZ955gHYapfhxbSXGVFivvSGUfMK7nurtXoWvUzaaoxoL35K1HIbd7p0sEUxt05xfGYJNTU_RT9dqKAZMat3FfhTSBM5BfJvQKUZ-zkJUfRKUxKsSoHkE5W-ABtmXmkf4FgAV8bGSfCQQtKI7E4nvbSvKpN9zWwMv5jOQTN97xeNCc7t-JuMkUTTLY_CVsopTAB53Jd2eX3OCIV4PVNbY6zpV4yw&r=eJzLKCkpKLbS16_MLy0pTUrVS87P1S9PLEnOsC-zNXR2Nrb0NjfzKywGAB5aDYs&s=ALHZ2r4-GIi09OBENQqp8WOj1KNT) for this unit (created by [NotebookLM](https://notifications.googleapis.com/email/redirect?t=AFG8qyU9ZDWuUsK1nONandVSa5QqK9bypm47l27JB8V5bEdihQN981um-sBdBkYhMai4JcuQav3mbOrx2NFl7R1MvQCduDlYilO4dnWVyCSIcqjQy3ImUjJHo4hOtBmauzvhMoFLcFtXuHkxyPE5-8k2gW38kKs6-5MUKWn7MJ_JcOKI7umD8wMTo6OLCJ4D_jNvLZvwDi-N_Mar2d1oHPjh9iRmnqfriODI0yMDkCtoxZ8ZrILoj_8rxE2bLRTeiSC8Bg&r=eJzLKCkpKLbS18_LL0lNys_PzsnVS8_PT89J1UvOz9W3zy_KTM_MS8yJL0pNSy1KLbLNAKtXNXIDovLyciTFqkbGagU5mbaGABuTHe8&s=ALHZ2r6asNQmcLRFKs4nKp0OEmqQ)).\n",
    "- Read the [“Embeddings and Vector Stores/Databases” whitepaper](https://notifications.googleapis.com/email/redirect?t=AFG8qyWz_iPKIIv7GE0B1NTwAW9s9WTkh9ckEEZMGbbYAL6IfIF3BbFb4iYBdHpciM99A9AZaffVm10JDgfvVW3AfNokG_dJd63-gppEmIMREKXGGSKK4x_UmKvVUWkL1pZg9LvKi6ZnkbauYUmP5kBju2324UzglzD-Wq2jVe9orzm6Gt5yaMMaqHyNM_2PTRpEWw-izvRDrrWn7J6jh0s1Itd4WngDG29QaRMKTW_tP0s8Hb10blJKlK3WhXG4vTDuYA&r=eJwNxFESgCAIBcATEf_ehuQNOqUywtT1az-2ZXoU5kvMbhx1DX5bT7g4NmGcUO3TgmQqPai5NsUf4gOFTBY4&s=ALHZ2r7l8NNvV-edJjNVgUyeqlLS).\n",
    "- Complete these code labs on Kaggle:\n",
    "    1. [Build](https://notifications.googleapis.com/email/redirect?t=AFG8qyUjv7Rzhy9sbiRAW1NWQVNbcnbvJhp5qsH-D8LoQk8NSsUrW9ATirrLQR7g6E1723Tg8KUCwMsOALQjtSgcKDb3OB80YBeK-b5jH0BAl1DB56yA5QNQIFbZZWL7FzgP7rkamHLHkTa-j9XqS3D-D1m2dFAjG5tM6YjH2BEwXvw0kdlzy8wCPIyFQcQGaQhYVowbzw9UP7W6Kr-yhq0phtpEtqe_gKn6A7NNYlyARAs3NLSpi_Ov5LB6lOla-UdRwg&r=eJwFwVEOgCAIANATIVuf3YYJA2dKKY11-96ziHufiJlZOqleUqoPrM6Cg1Zv22QJMn1wAHt9h8yABwiyhcEi_QEwQxgv&s=ALHZ2r6X8fvc3hpIdeJprtIw3PL9) a RAG question-answering system over custom documents\n",
    "    2. [Explore](https://notifications.googleapis.com/email/redirect?t=AFG8qyUnDx9FY7_dfC4Vtr3StF5clb0EKrGQ1Zw5SqZLJDYAubEKBEdxU0D7AwDqOjF2gR7_Imxrivq7C-tiGQ76Q93zPpJC6u4m930rjTfyyGdnID1gZ45qRj4nwXWoA7STbZck6BK63Y5EpAlSuclpw6cCtxB1aXLeqYY0wSBoMLvd_CgZu1aOkTlVn1yLn3J3BDJ-ou1iKypIXWeg--Jjo2Iwp7SWKnaK0qd3C7HwrHOsarkwBtF8hfzP5Ep-X3Scsg&r=eJwFwVEKwCAIANATmbDP3callJQVGkS333t17xUv4jknNSqlS8rTME8WNPKmUcUFmS48IPYJs44SQIMh1LST674QebrED1m8HPY&s=ALHZ2r5cJUw7Qg0rUd9kWV34Dmrl) text similarity with embeddings\n",
    "    3. [Build](https://notifications.googleapis.com/email/redirect?t=AFG8qyWOXvyexXR0IhX9K6poPAhL72lhjaYZyMhspVtdooSTlXKjMJs9T4bMR0QradxWBjJqeCkWSGpdq3GXL3YM1ADDkcIiF6PrGESNS1aMvjwFoIudTY4tGjdS_5JUx0bw5WueQ-xGb1Yp8ip8Bfoe35wBHHTfbS8f1sRx7KTYlDVK29MGBua0E5x9eUBU-AAYjGU7q3DYa5Q61NDQVgd2BzM1FCrk-nQUkmm7GNjwxcBFEvnY0gbv-h9iR7363OX1og&r=eJwNxlEOgCAIANATIVuf3YaAlKnZxI15-3pfr6z1-okYEalSzk0Tj448RLHTrOZFp6LQhgO4kbvd254M2i8V-ecQtgpUneQfe6MdWw&s=ALHZ2r7AZb0xGB_Yi7WLwikw0oq9) a neural classification network with Keras using embeddings (**This notebook**)\n",
    "- Watch the [YouTube livestream recording](https://www.youtube.com/watch?v=86GZC56rQCc&list=PLqFaTIg4myu-b1PlxitQdY0UYIbys-2es&index=2). Paige Bailey will be joined by expert speakers from Google - Omid Fatemieh, Jinhyuk Lee, Alan Li, Iftekhar Naim, Anant Nawalgaria, Yan Qiao, and Xiaoqi Ren to discuss embeddings and vector stores/databases.\n",
    "\n",
    "\n",
    "💡 **What You’ll Learn**\n",
    "\n",
    "Today you will learn about the conceptual underpinning of embeddings and vector databases and how they can be used to bring live or specialist data into your LLM application. You’ll also explore their geometrical powers for classifying and comparing textual data. \n",
    "\n",
    "\n",
    "## For help\n",
    "\n",
    "**Common issues are covered in the [FAQ and troubleshooting guide](https://www.kaggle.com/code/markishere/day-0-troubleshooting-and-faqs).**\n"
   ]
  },
  {
   "cell_type": "code",
   "execution_count": null,
   "metadata": {
    "id": "FXq0ygI3BCdQ",
    "trusted": true
   },
   "outputs": [],
   "source": [
    "%pip install -U -q \"google-generativeai>=0.8.3\""
   ]
  },
  {
   "cell_type": "markdown",
   "metadata": {},
   "source": [
    "Note that you do not have to restart the kernel."
   ]
  },
  {
   "cell_type": "code",
   "execution_count": null,
   "metadata": {
    "execution": {
     "iopub.execute_input": "2024-11-13T13:25:06.004004Z",
     "iopub.status.busy": "2024-11-13T13:25:06.003632Z",
     "iopub.status.idle": "2024-11-13T13:25:07.251044Z",
     "shell.execute_reply": "2024-11-13T13:25:07.249537Z",
     "shell.execute_reply.started": "2024-11-13T13:25:06.003966Z"
    },
    "id": "XiJjB2vWCQJP",
    "trusted": true
   },
   "outputs": [],
   "source": [
    "import google.generativeai as genai"
   ]
  },
  {
   "cell_type": "markdown",
   "metadata": {
    "id": "_mwJYXpElYJc"
   },
   "source": [
    "### Set up your API key\n",
    "\n",
    "To run the following cell, your API key must be stored it in a [Kaggle secret](https://www.kaggle.com/discussions/product-feedback/114053) named `GOOGLE_API_KEY`.\n",
    "\n",
    "If you don't already have an API key, you can grab one from [AI Studio](https://aistudio.google.com/app/apikey). You can find [detailed instructions in the docs](https://ai.google.dev/gemini-api/docs/api-key).\n",
    "\n",
    "To make the key available through Kaggle secrets, choose `Secrets` from the `Add-ons` menu and follow the instructions to add your key or enable it for this notebook."
   ]
  },
  {
   "cell_type": "code",
   "execution_count": null,
   "metadata": {
    "execution": {
     "iopub.execute_input": "2024-11-13T13:25:07.253413Z",
     "iopub.status.busy": "2024-11-13T13:25:07.252518Z",
     "iopub.status.idle": "2024-11-13T13:25:07.574237Z",
     "shell.execute_reply": "2024-11-13T13:25:07.572717Z",
     "shell.execute_reply.started": "2024-11-13T13:25:07.253367Z"
    },
    "id": "tayrk_A2lZ7A",
    "trusted": true
   },
   "outputs": [],
   "source": [
    "from kaggle_secrets import UserSecretsClient\n",
    "\n",
    "GOOGLE_API_KEY = UserSecretsClient().get_secret(\"GOOGLE_API_KEY\")\n",
    "genai.configure(api_key=GOOGLE_API_KEY)"
   ]
  },
  {
   "cell_type": "markdown",
   "metadata": {
    "id": "c79728739642"
   },
   "source": [
    "If you received an error response along the lines of `No user secrets exist for kernel id ...`, then you need to add your API key via `Add-ons`, `Secrets` **and** enable it.\n",
    "\n",
    "![Screenshot of the checkbox to enable GOOGLE_API_KEY secret](https://storage.googleapis.com/kaggle-media/Images/5gdai_sc_3.png)"
   ]
  },
  {
   "cell_type": "markdown",
   "metadata": {
    "id": "C5B9sWq0hNEV"
   },
   "source": [
    "## Dataset\n",
    "\n",
    "The [20 Newsgroups Text Dataset](https://scikit-learn.org/0.19/datasets/twenty_newsgroups.html) contains 18,000 newsgroups posts on 20 topics divided into training and test sets. The split between the training and test datasets are based on messages posted before and after a specific date. For this tutorial, you will use sampled subsets of the training and test sets, and perform some processing using Pandas."
   ]
  },
  {
   "cell_type": "code",
   "execution_count": null,
   "metadata": {
    "execution": {
     "iopub.execute_input": "2024-11-13T13:25:07.577947Z",
     "iopub.status.busy": "2024-11-13T13:25:07.577428Z",
     "iopub.status.idle": "2024-11-13T13:25:32.135659Z",
     "shell.execute_reply": "2024-11-13T13:25:32.134369Z",
     "shell.execute_reply.started": "2024-11-13T13:25:07.577829Z"
    },
    "id": "jDoKis4om-Ea",
    "trusted": true
   },
   "outputs": [],
   "source": [
    "from sklearn.datasets import fetch_20newsgroups\n",
    "\n",
    "newsgroups_train = fetch_20newsgroups(subset=\"train\")\n",
    "newsgroups_test = fetch_20newsgroups(subset=\"test\")\n",
    "\n",
    "# View list of class names for dataset\n",
    "newsgroups_train.target_names"
   ]
  },
  {
   "cell_type": "markdown",
   "metadata": {
    "id": "hDz9MjkNl_FD"
   },
   "source": [
    "Here is an example of what a record from the training set looks like."
   ]
  },
  {
   "cell_type": "code",
   "execution_count": null,
   "metadata": {
    "execution": {
     "iopub.execute_input": "2024-11-13T13:25:32.137961Z",
     "iopub.status.busy": "2024-11-13T13:25:32.137312Z",
     "iopub.status.idle": "2024-11-13T13:25:32.143053Z",
     "shell.execute_reply": "2024-11-13T13:25:32.142045Z",
     "shell.execute_reply.started": "2024-11-13T13:25:32.137919Z"
    },
    "id": "FPq-56AimOPX",
    "trusted": true
   },
   "outputs": [],
   "source": [
    "print(newsgroups_train.data[0])"
   ]
  },
  {
   "cell_type": "markdown",
   "metadata": {
    "id": "A9-DD7wgCx8j"
   },
   "source": [
    "Start by preprocessing the data for this tutorial in a Pandas dataframe. To remove any sensitive information like names and email addresses, you will take only the subject and body of each message. This is an optional step that transforms the input data into more generic text, rather than email posts, so that it will work in other contexts."
   ]
  },
  {
   "cell_type": "code",
   "execution_count": null,
   "metadata": {
    "execution": {
     "iopub.execute_input": "2024-11-13T13:25:32.145446Z",
     "iopub.status.busy": "2024-11-13T13:25:32.144735Z",
     "iopub.status.idle": "2024-11-13T13:25:32.675096Z",
     "shell.execute_reply": "2024-11-13T13:25:32.673604Z",
     "shell.execute_reply.started": "2024-11-13T13:25:32.145395Z"
    },
    "id": "urpLwp3UmPF3",
    "trusted": true
   },
   "outputs": [],
   "source": [
    "import email\n",
    "import re\n",
    "\n",
    "import pandas as pd\n",
    "\n",
    "\n",
    "def preprocess_newsgroup_row(data):\n",
    "    # Extract only the subject and body\n",
    "    msg = email.message_from_string(data)\n",
    "    text = f\"{msg['Subject']}\\n\\n{msg.get_payload()}\"\n",
    "    # Strip any remaining email addresses\n",
    "    text = re.sub(r\"[\\w\\.-]+@[\\w\\.-]+\", \"\", text)\n",
    "    # Truncate each entry to 5,000 characters\n",
    "    text = text[:5000]\n",
    "\n",
    "    return text\n",
    "\n",
    "\n",
    "def preprocess_newsgroup_data(newsgroup_dataset):\n",
    "    # Put data points into dataframe\n",
    "    df = pd.DataFrame(\n",
    "        {\"Text\": newsgroup_dataset.data, \"Label\": newsgroup_dataset.target}\n",
    "    )\n",
    "    # Clean up the text\n",
    "    df[\"Text\"] = df[\"Text\"].apply(preprocess_newsgroup_row)\n",
    "    # Match label to target name index\n",
    "    df[\"Class Name\"] = df[\"Label\"].map(lambda l: newsgroup_dataset.target_names[l])\n",
    "\n",
    "    return df"
   ]
  },
  {
   "cell_type": "code",
   "execution_count": null,
   "metadata": {
    "execution": {
     "iopub.execute_input": "2024-11-13T13:25:32.677974Z",
     "iopub.status.busy": "2024-11-13T13:25:32.677013Z",
     "iopub.status.idle": "2024-11-13T13:25:36.830762Z",
     "shell.execute_reply": "2024-11-13T13:25:36.82949Z",
     "shell.execute_reply.started": "2024-11-13T13:25:32.677764Z"
    },
    "id": "JMKddQdNnAOV",
    "trusted": true
   },
   "outputs": [],
   "source": [
    "# Apply preprocessing function to training and test datasets\n",
    "df_train = preprocess_newsgroup_data(newsgroups_train)\n",
    "df_test = preprocess_newsgroup_data(newsgroups_test)\n",
    "\n",
    "df_train.head()"
   ]
  },
  {
   "cell_type": "markdown",
   "metadata": {
    "id": "ogEGbg5XDv-T"
   },
   "source": [
    "Next, you will sample some of the data by taking 100 data points in the training dataset, and dropping a few of the categories to run through this tutorial. Choose the science categories to compare."
   ]
  },
  {
   "cell_type": "code",
   "execution_count": null,
   "metadata": {
    "execution": {
     "iopub.execute_input": "2024-11-13T13:25:36.832735Z",
     "iopub.status.busy": "2024-11-13T13:25:36.832252Z",
     "iopub.status.idle": "2024-11-13T13:25:36.841092Z",
     "shell.execute_reply": "2024-11-13T13:25:36.839557Z",
     "shell.execute_reply.started": "2024-11-13T13:25:36.832682Z"
    },
    "id": "C2N7xXhJohLR",
    "trusted": true
   },
   "outputs": [],
   "source": [
    "def sample_data(df, num_samples, classes_to_keep):\n",
    "    # Sample rows, selecting num_samples of each Label.\n",
    "    df = (\n",
    "        df.groupby(\"Label\")[df.columns]\n",
    "        .apply(lambda x: x.sample(num_samples))\n",
    "        .reset_index(drop=True)\n",
    "    )\n",
    "\n",
    "    df = df[df[\"Class Name\"].str.contains(classes_to_keep)]\n",
    "\n",
    "    # We have fewer categories now, so re-calibrate the label encoding.\n",
    "    df[\"Class Name\"] = df[\"Class Name\"].astype(\"category\")\n",
    "    df[\"Encoded Label\"] = df[\"Class Name\"].cat.codes\n",
    "\n",
    "    return df"
   ]
  },
  {
   "cell_type": "code",
   "execution_count": null,
   "metadata": {
    "execution": {
     "iopub.execute_input": "2024-11-13T13:25:36.843449Z",
     "iopub.status.busy": "2024-11-13T13:25:36.842905Z",
     "iopub.status.idle": "2024-11-13T13:25:36.899109Z",
     "shell.execute_reply": "2024-11-13T13:25:36.897815Z",
     "shell.execute_reply.started": "2024-11-13T13:25:36.843394Z"
    },
    "id": "jS2g_ZGupBUb",
    "trusted": true
   },
   "outputs": [],
   "source": [
    "TRAIN_NUM_SAMPLES = 100\n",
    "TEST_NUM_SAMPLES = 25\n",
    "CLASSES_TO_KEEP = \"sci\"  # Class name should contain 'sci' to keep science categories\n",
    "\n",
    "df_train = sample_data(df_train, TRAIN_NUM_SAMPLES, CLASSES_TO_KEEP)\n",
    "df_test = sample_data(df_test, TEST_NUM_SAMPLES, CLASSES_TO_KEEP)"
   ]
  },
  {
   "cell_type": "code",
   "execution_count": null,
   "metadata": {
    "execution": {
     "iopub.execute_input": "2024-11-13T13:25:36.901082Z",
     "iopub.status.busy": "2024-11-13T13:25:36.900706Z",
     "iopub.status.idle": "2024-11-13T13:25:36.916391Z",
     "shell.execute_reply": "2024-11-13T13:25:36.914706Z",
     "shell.execute_reply.started": "2024-11-13T13:25:36.901044Z"
    },
    "id": "j04TMPY8rV5q",
    "trusted": true
   },
   "outputs": [],
   "source": [
    "df_train.value_counts(\"Class Name\")"
   ]
  },
  {
   "cell_type": "code",
   "execution_count": null,
   "metadata": {
    "execution": {
     "iopub.execute_input": "2024-11-13T13:25:36.918726Z",
     "iopub.status.busy": "2024-11-13T13:25:36.917996Z",
     "iopub.status.idle": "2024-11-13T13:25:36.929422Z",
     "shell.execute_reply": "2024-11-13T13:25:36.92808Z",
     "shell.execute_reply.started": "2024-11-13T13:25:36.91867Z"
    },
    "id": "qMsnfkVDsJlU",
    "trusted": true
   },
   "outputs": [],
   "source": [
    "df_test.value_counts(\"Class Name\")"
   ]
  },
  {
   "cell_type": "markdown",
   "metadata": {
    "id": "Kr-WlKzXjYWn"
   },
   "source": [
    "## Create the embeddings\n",
    "\n",
    "In this section, you will generate embeddings for each piece of text using the Gemini API embeddings endpoint. To learn more about embeddings, visit the [embeddings guide](https://ai.google.dev/docs/embeddings_guide).\n",
    "\n",
    "**NOTE**: Embeddings are computed one at a time, so large sample sizes can take a long time!"
   ]
  },
  {
   "cell_type": "markdown",
   "metadata": {
    "id": "yPECMeE2xYA_"
   },
   "source": [
    "### Task types\n",
    "\n",
    "The `text-embedding-004` model supports a task type parameter that generates embeddings tailored for the specific task.\n",
    "\n",
    "Task Type | Description\n",
    "---       | ---\n",
    "RETRIEVAL_QUERY\t| Specifies the given text is a query in a search/retrieval setting.\n",
    "RETRIEVAL_DOCUMENT | Specifies the given text is a document in a search/retrieval setting.\n",
    "SEMANTIC_SIMILARITY\t| Specifies the given text will be used for Semantic Textual Similarity (STS).\n",
    "CLASSIFICATION\t| Specifies that the embeddings will be used for classification.\n",
    "CLUSTERING\t| Specifies that the embeddings will be used for clustering.\n",
    "FACT_VERIFICATION | Specifies that the given text will be used for fact verification.\n",
    "\n",
    "For this example you will be performing classification."
   ]
  },
  {
   "cell_type": "code",
   "execution_count": null,
   "metadata": {
    "execution": {
     "iopub.execute_input": "2024-11-13T13:25:36.931596Z",
     "iopub.status.busy": "2024-11-13T13:25:36.931049Z",
     "iopub.status.idle": "2024-11-13T13:25:37.031118Z",
     "shell.execute_reply": "2024-11-13T13:25:37.030036Z",
     "shell.execute_reply.started": "2024-11-13T13:25:36.931546Z"
    },
    "id": "MTBGKkPQsotz",
    "trusted": true
   },
   "outputs": [],
   "source": [
    "from google.api_core import retry\n",
    "from tqdm.rich import tqdm\n",
    "\n",
    "\n",
    "tqdm.pandas()\n",
    "\n",
    "@retry.Retry(timeout=300.0)\n",
    "def embed_fn(text: str) -> list[float]:\n",
    "    # You will be performing classification, so set task_type accordingly.\n",
    "    response = genai.embed_content(\n",
    "        model=\"models/text-embedding-004\", content=text, task_type=\"classification\"\n",
    "    )\n",
    "\n",
    "    return response[\"embedding\"]\n",
    "\n",
    "\n",
    "def create_embeddings(df):\n",
    "    df[\"Embeddings\"] = df[\"Text\"].progress_apply(embed_fn)\n",
    "    return df"
   ]
  },
  {
   "cell_type": "markdown",
   "metadata": {
    "id": "HVDwY8F2kW2O"
   },
   "source": [
    "This code is optimised for clarity, and is not particularly fast. It is left as an exercise for the reader to implement [batch](https://ai.google.dev/api/embeddings#method:-models.batchembedcontents) or parallel/asynchronous embedding generation. Running this step will take some time."
   ]
  },
  {
   "cell_type": "code",
   "execution_count": null,
   "metadata": {
    "execution": {
     "iopub.execute_input": "2024-11-13T13:25:37.035622Z",
     "iopub.status.busy": "2024-11-13T13:25:37.035177Z",
     "iopub.status.idle": "2024-11-13T13:29:16.8141Z",
     "shell.execute_reply": "2024-11-13T13:29:16.812722Z",
     "shell.execute_reply.started": "2024-11-13T13:25:37.035572Z"
    },
    "id": "AH0yrHUHtHtw",
    "trusted": true
   },
   "outputs": [],
   "source": [
    "df_train = create_embeddings(df_train)\n",
    "df_test = create_embeddings(df_test)"
   ]
  },
  {
   "cell_type": "code",
   "execution_count": null,
   "metadata": {
    "execution": {
     "iopub.execute_input": "2024-11-13T13:29:16.816527Z",
     "iopub.status.busy": "2024-11-13T13:29:16.815964Z",
     "iopub.status.idle": "2024-11-13T13:29:16.841349Z",
     "shell.execute_reply": "2024-11-13T13:29:16.840048Z",
     "shell.execute_reply.started": "2024-11-13T13:29:16.816454Z"
    },
    "id": "6G5TvLlmRjHc",
    "trusted": true
   },
   "outputs": [],
   "source": [
    "df_train.head()"
   ]
  },
  {
   "cell_type": "markdown",
   "metadata": {
    "id": "QPYEYkIsWt_5"
   },
   "source": [
    "## Build a classification model\n",
    "\n",
    "Here you will define a simple model that accepts the raw embedding data as input, has one hidden layer, and an output layer specifying the class probabilities. The prediction will correspond to the probability of a piece of text being a particular class of news.\n",
    "\n",
    "When you run the model, Keras will take care of details like shuffling the data points, calculating metrics and other ML boilerplate."
   ]
  },
  {
   "cell_type": "code",
   "execution_count": null,
   "metadata": {
    "execution": {
     "iopub.execute_input": "2024-11-13T13:29:16.843698Z",
     "iopub.status.busy": "2024-11-13T13:29:16.843006Z",
     "iopub.status.idle": "2024-11-13T13:29:29.925333Z",
     "shell.execute_reply": "2024-11-13T13:29:29.923916Z",
     "shell.execute_reply.started": "2024-11-13T13:29:16.843631Z"
    },
    "id": "3oLGi4w5JsQR",
    "trusted": true
   },
   "outputs": [],
   "source": [
    "import keras\n",
    "from keras import layers\n",
    "\n",
    "\n",
    "def build_classification_model(input_size: int, num_classes: int) -> keras.Model:\n",
    "    return keras.Sequential(\n",
    "        [\n",
    "            layers.Input([input_size], name=\"embedding_inputs\"),\n",
    "            layers.Dense(input_size, activation=\"relu\", name=\"hidden\"),\n",
    "            layers.Dense(num_classes, activation=\"softmax\", name=\"output_probs\"),\n",
    "        ]\n",
    "    )"
   ]
  },
  {
   "cell_type": "code",
   "execution_count": null,
   "metadata": {
    "execution": {
     "iopub.execute_input": "2024-11-13T13:29:29.927946Z",
     "iopub.status.busy": "2024-11-13T13:29:29.927035Z",
     "iopub.status.idle": "2024-11-13T13:29:30.064936Z",
     "shell.execute_reply": "2024-11-13T13:29:30.063279Z",
     "shell.execute_reply.started": "2024-11-13T13:29:29.927887Z"
    },
    "id": "kORA1Akl5GsG",
    "trusted": true
   },
   "outputs": [],
   "source": [
    "# Derive the embedding size from observing the data. The embedding size can also be specified\n",
    "# with the `output_dimensionality` parameter to `embed_content` if you need to reduce it.\n",
    "embedding_size = len(df_train[\"Embeddings\"].iloc[0])\n",
    "\n",
    "classifier = build_classification_model(\n",
    "    embedding_size, len(df_train[\"Class Name\"].unique())\n",
    ")\n",
    "classifier.summary()\n",
    "\n",
    "classifier.compile(\n",
    "    loss=keras.losses.SparseCategoricalCrossentropy(),\n",
    "    optimizer=keras.optimizers.Adam(learning_rate=0.001),\n",
    "    metrics=[\"accuracy\"],\n",
    ")"
   ]
  },
  {
   "cell_type": "markdown",
   "metadata": {
    "id": "kbpTGGiMXDxl"
   },
   "source": [
    "## Train the model\n",
    "\n",
    "Finally, you can train your model. This code uses early stopping to exit the training loop once the loss value stabilises, so the number of epoch loops executed may differ from the specified value."
   ]
  },
  {
   "cell_type": "code",
   "execution_count": null,
   "metadata": {
    "execution": {
     "iopub.execute_input": "2024-11-13T13:29:30.066998Z",
     "iopub.status.busy": "2024-11-13T13:29:30.066536Z",
     "iopub.status.idle": "2024-11-13T13:29:33.906268Z",
     "shell.execute_reply": "2024-11-13T13:29:33.90492Z",
     "shell.execute_reply.started": "2024-11-13T13:29:30.066956Z"
    },
    "id": "bGgvMZGfJ1A4",
    "trusted": true
   },
   "outputs": [],
   "source": [
    "import numpy as np\n",
    "\n",
    "\n",
    "NUM_EPOCHS = 20\n",
    "BATCH_SIZE = 32\n",
    "\n",
    "# Split the x and y components of the train and validation subsets.\n",
    "y_train = df_train[\"Encoded Label\"]\n",
    "x_train = np.stack(df_train[\"Embeddings\"])\n",
    "y_val = df_test[\"Encoded Label\"]\n",
    "x_val = np.stack(df_test[\"Embeddings\"])\n",
    "\n",
    "# Specify that it's OK to stop early if accuracy stabilises.\n",
    "early_stop = keras.callbacks.EarlyStopping(monitor=\"accuracy\", patience=3)\n",
    "\n",
    "# Train the model for the desired number of epochs.\n",
    "history = classifier.fit(\n",
    "    x=x_train,\n",
    "    y=y_train,\n",
    "    validation_data=(x_val, y_val),\n",
    "    callbacks=[early_stop],\n",
    "    batch_size=BATCH_SIZE,\n",
    "    epochs=NUM_EPOCHS,\n",
    ")"
   ]
  },
  {
   "cell_type": "markdown",
   "metadata": {
    "id": "xGBaDHZUPdJO"
   },
   "source": [
    "## Evaluate model performance\n",
    "\n",
    "Use Keras <a href=\"https://www.tensorflow.org/api_docs/python/tf/keras/Model#evaluate\"><code>Model.evaluate</code></a> to calculate the loss and accuracy on the test dataset."
   ]
  },
  {
   "cell_type": "code",
   "execution_count": null,
   "metadata": {
    "execution": {
     "iopub.execute_input": "2024-11-13T13:29:33.908677Z",
     "iopub.status.busy": "2024-11-13T13:29:33.908221Z",
     "iopub.status.idle": "2024-11-13T13:29:34.015344Z",
     "shell.execute_reply": "2024-11-13T13:29:34.014071Z",
     "shell.execute_reply.started": "2024-11-13T13:29:33.908633Z"
    },
    "id": "d2kOeiqqQIB8",
    "trusted": true
   },
   "outputs": [],
   "source": [
    "classifier.evaluate(x=x_val, y=y_val, return_dict=True)"
   ]
  },
  {
   "cell_type": "markdown",
   "metadata": {
    "id": "UyxMhiLYQXAN"
   },
   "source": [
    "To learn more about training models with Keras, including how to visualise the model training metrics, read [Training & evaluation with built-in methods](https://www.tensorflow.org/guide/keras/training_with_built_in_methods)."
   ]
  },
  {
   "cell_type": "markdown",
   "metadata": {
    "id": "XHyP-_torwsm"
   },
   "source": [
    "## Try a custom prediction\n",
    "\n",
    "Now that you have a trained model with good evaluation metrics, you can try to make a prediction with new, hand-written data. Use the provided example or try your own data to see how the model performs."
   ]
  },
  {
   "cell_type": "code",
   "execution_count": null,
   "metadata": {
    "execution": {
     "iopub.execute_input": "2024-11-13T13:29:34.017272Z",
     "iopub.status.busy": "2024-11-13T13:29:34.016881Z",
     "iopub.status.idle": "2024-11-13T13:29:34.417208Z",
     "shell.execute_reply": "2024-11-13T13:29:34.415971Z",
     "shell.execute_reply.started": "2024-11-13T13:29:34.017235Z"
    },
    "id": "Lj4gR0Mdr2rb",
    "trusted": true
   },
   "outputs": [],
   "source": [
    "# This example avoids any space-specific terminology to see if the model avoids\n",
    "# biases towards specific jargon.\n",
    "new_text = \"\"\"\n",
    "First-timer looking to get out of here.\n",
    "\n",
    "Hi, I'm writing about my interest in travelling to the outer limits!\n",
    "\n",
    "What kind of craft can I buy? What is easiest to access from this 3rd rock?\n",
    "\n",
    "Let me know how to do that please.\n",
    "\"\"\"\n",
    "embedded = embed_fn(new_text)"
   ]
  },
  {
   "cell_type": "code",
   "execution_count": null,
   "metadata": {
    "execution": {
     "iopub.execute_input": "2024-11-13T13:29:34.418941Z",
     "iopub.status.busy": "2024-11-13T13:29:34.41858Z",
     "iopub.status.idle": "2024-11-13T13:29:34.530709Z",
     "shell.execute_reply": "2024-11-13T13:29:34.529533Z",
     "shell.execute_reply.started": "2024-11-13T13:29:34.418904Z"
    },
    "id": "CKTHEMrRsbcu",
    "trusted": true
   },
   "outputs": [],
   "source": [
    "# Remember that the model takes embeddings as input, and the input must be batched,\n",
    "# so here they are passed as a list to provide a batch of 1.\n",
    "inp = np.array([embedded])\n",
    "[result] = classifier.predict(inp)\n",
    "\n",
    "for idx, category in enumerate(df_test[\"Class Name\"].cat.categories):\n",
    "    print(f\"{category}: {result[idx] * 100:0.2f}%\")"
   ]
  }
 ],
 "metadata": {
  "colab": {
   "name": "day-2-classifying-embeddings-with-keras.ipynb",
   "toc_visible": true
  },
  "google": {
   "image_path": "/examples/train_text_classifier_embeddings_files/output_3ae76701e178_0.png",
   "keywords": [
    "examples",
    "googleai",
    "samplecode",
    "python",
    "embed"
   ]
  },
  "kaggle": {
   "accelerator": "none",
   "dataSources": [],
   "dockerImageVersionId": 30786,
   "isGpuEnabled": false,
   "isInternetEnabled": true,
   "language": "python",
   "sourceType": "notebook"
  },
  "kernelspec": {
   "display_name": "Python 3",
   "language": "python",
   "name": "python3"
  },
  "language_info": {
   "codemirror_mode": {
    "name": "ipython",
    "version": 3
   },
   "file_extension": ".py",
   "mimetype": "text/x-python",
   "name": "python",
   "nbconvert_exporter": "python",
   "pygments_lexer": "ipython3",
   "version": "3.10.14"
  }
 },
 "nbformat": 4,
 "nbformat_minor": 4
}
