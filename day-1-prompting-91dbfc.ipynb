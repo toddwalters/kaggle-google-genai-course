{
 "cells": [
  {
   "cell_type": "markdown",
   "id": "8aee0d88",
   "metadata": {
    "id": "jkxRSYjzA1oX",
    "papermill": {
     "duration": 0.013141,
     "end_time": "2024-11-23T20:21:30.448999",
     "exception": false,
     "start_time": "2024-11-23T20:21:30.435858",
     "status": "completed"
    },
    "tags": []
   },
   "source": [
    "##### Copyright 2024 Google LLC."
   ]
  },
  {
   "cell_type": "code",
   "execution_count": 1,
   "id": "7ee5f40d",
   "metadata": {
    "cellView": "form",
    "execution": {
     "iopub.execute_input": "2024-11-23T20:21:30.476062Z",
     "iopub.status.busy": "2024-11-23T20:21:30.475674Z",
     "iopub.status.idle": "2024-11-23T20:21:30.481024Z",
     "shell.execute_reply": "2024-11-23T20:21:30.480046Z"
    },
    "id": "5u5OZ2ShA3BA",
    "jupyter": {
     "source_hidden": true
    },
    "papermill": {
     "duration": 0.021724,
     "end_time": "2024-11-23T20:21:30.482973",
     "exception": false,
     "start_time": "2024-11-23T20:21:30.461249",
     "status": "completed"
    },
    "tags": []
   },
   "outputs": [],
   "source": [
    "# @title Licensed under the Apache License, Version 2.0 (the \"License\");\n",
    "# you may not use this file except in compliance with the License.\n",
    "# You may obtain a copy of the License at\n",
    "#\n",
    "# https://www.apache.org/licenses/LICENSE-2.0\n",
    "#\n",
    "# Unless required by applicable law or agreed to in writing, software\n",
    "# distributed under the License is distributed on an \"AS IS\" BASIS,\n",
    "# WITHOUT WARRANTIES OR CONDITIONS OF ANY KIND, either express or implied.\n",
    "# See the License for the specific language governing permissions and\n",
    "# limitations under the License."
   ]
  },
  {
   "cell_type": "markdown",
   "id": "cc033d00",
   "metadata": {
    "id": "csNPnkuCobmG",
    "papermill": {
     "duration": 0.011627,
     "end_time": "2024-11-23T20:21:30.506673",
     "exception": false,
     "start_time": "2024-11-23T20:21:30.495046",
     "status": "completed"
    },
    "tags": []
   },
   "source": [
    "# Day 1 - Prompting\n",
    "\n",
    "Welcome to the Kaggle 5-day Generative AI course!\n",
    "\n",
    "This notebook will show you how to get started with the Gemini API and walk you through some of the example prompts and techniques that you can also read about in the Prompting whitepaper. You don't need to read the whitepaper to use this notebook, but the papers will give you some theoretical context and background to complement this interactive notebook.\n",
    "\n",
    "🎒 Today’s Assignments\n",
    "\n",
    "1. Complete the Intro Unit – “Foundational Large Language Models & Text Generation”, which is:\n",
    "\n",
    "- *Optional* Listen to the summary [podcast episode](https://notifications.googleapis.com/email/redirect?t=AFG8qyXdXy-ggNPtu6NItv5CFwwUMZrAbTtDuvmrIg-dlqre0aDoV8O7dbkfjNFSy7R6-SSmZ-5mQwXttMIHqjIxxLW3hUy0_iKsV4mUOJLrq0CUSQskPaUbCaMqkAomZf10ssIsJaZoOXqP8zWcMZ6bpq-NLwIrILxXGPnRO7pBKD6XOQAGGiOkjQ1f6CzNyCDG829gouF1zUCwj-hcUFoRMP3rM4i9rctunFDcweRv_o8ljilug-zARzM1HUaXBwrMTg&r=eJzLKCkpKLbS16_MLy0p1UtK1c8NdMlxjooq9q_MBwCWDwpF&s=ALHZ2r4EYoG5D2E6gWjRo9S_8E6m) for this unit (created by [NotebookLM](https://notifications.googleapis.com/email/redirect?t=AFG8qyWt2HA5odg35uXefQtgcOVYnqg-XoHFEO5FMqnP2e0JjYPE0O0szIaJAM1k0KApXLGK-wkHNU6TH98YFbWsi90RqY2teGYRw1dE3QGdwQxNW4hVwQoTynKRPRIziLFJ920dwsaMRUJf4B6wmiLJYNkpn-rncQlq5HxFR_w8-Zm6HM68pWf2p1177ZanWX7mjhSH6KAqZe9lKQ6dXeQKwIlpeofZCy89fWwnVS1L4x287nSG_0Bwp-79_V4kD9WsOA&r=eJzLKCkpKLbS18_LL0lNys_PzsnVS8_PT89J1UvOz9W3zy_KTM_MS8yJL0pNSy1KLbLNAKtXNXIDovLyciTFqkbGagU5mbaGABuTHe8&s=ALHZ2r559pxz2MIdUwaOZEwlQURG)).\n",
    "- Read the “[Foundational Large Language Models & Text Generation” whitepaper](https://notifications.googleapis.com/email/redirect?t=AFG8qyUZIKXV9iPKBLHGddwRN2wQ6tj5B09E7I3WP91to1eazrrhzTvieL9dAb75Uxd56bSOrgeP067Z1xTIKylWhCgDxiFR6hNIlalTtnzs06lpggSGAFneKfwtZkoxGDHsWWKEC7p7Wi7q0hxse-o3odpzpAFZjPH0slAVTCdFl2NzFQis0Ru7SuMeKhD38QzluU4Foon_t7sT4gggHDozSTBpTewN6vX_1Yye9aqIbh0rR82hG0ZBzaV9evJ2wXyvPA&r=eJwdyVEOgCAIANATof_dhiWiC4EZjY7f1vt9I8Lvo9bMLBcyC5XTVs0xgxydNnR7tGFMUxQQWYDaIOgNYFLa_3yx_hrt&s=ALHZ2r5C8cJp2U3xx-hd2jSO3NtP).\n",
    "  \n",
    "2. Complete Unit 1 – “Prompt Engineering”, which is:\n",
    "\n",
    "- *Optional* Listen to the summary [podcast episode](https://notifications.googleapis.com/email/redirect?t=AFG8qyWmYKv3k7rvcElqWbBlxi7PG8_W5QsZ-ULfKrAJ-SZlrAr_vbnaYBpIkUB1GaohNfa-XowqN_caXPXHJd_IQ1JzPit9xCGh8TsCXu6EAYwW79DS-ToBEJO_oyHURTdeVYhp97z0PmkNLMMcoJW8FKXxG7E2wq3N6Kv904X51KZCheTNMC-L3z11KhTgkKMpi4aFyym8Qf33o4SWlm2gKVedoIHEXsGIOTDhp74c-NGszAfucqLvzS5tkgXIgjR4Qw&r=eJzLKCkpKLbS16_MLy0p1UtK1XeLz_Aycq00cfJLBgCTQwmk&s=ALHZ2r6uUBISlndYmIbhfjylSLqQ) for this unit (created by NotebookLM).\n",
    "- Read the [“Prompt Engineering” whitepaper](https://notifications.googleapis.com/email/redirect?t=AFG8qyW2JVFXq0ixuEojV5gfnxLL0YwGXNMB139m79bputf3zvsjHKRh1WfQ1FBfXagqXIsdrihS1KFbJ1yL-J7YIIrDxNz8A8R3FAJAZ63XdwYuJmtmCoK3x0jrGeU69Spmb2aO-HARjan-szNt2zhFZisGoycJdosx3ss6x65dtO3WxhfxCOWbg_czaqRuawEuWtuf4oJ7Ok0gISCsjHegojVsdtWP2q4ttFc5kjS7oaR_FVeFbv9p2HsIPSqbO94lyA&r=eJwFwUEKwCAMBMAXae79jZQlBmtc0kC-78zM5P-IVFVfQ_VDf8-WmpbgIKIxzmY2uJoDYa4XDAUUJg&s=ALHZ2r6HhQdRDCW0KG7L7PIR3hSj).\n",
    "- Complete this code lab on Kaggle where you’ll learn prompting fundamentals. Make sure you phone verify your account before starting, it's necessary for the code labs.\n",
    "\n",
    "💡What You’ll Learn\n",
    "\n",
    "Today you’ll explore the evolution of LLMs, from transformers to techniques like fine-tuning and inference acceleration. You’ll also get trained in the art of prompt engineering for optimal LLM interaction.\n",
    "\n",
    "\n",
    "The code lab will walk you through getting started with the Gemini API and cover several prompt techniques and how different parameters impact the prompts.\n",
    "\n",
    "\n",
    "## Before you begin\n",
    "\n",
    "In this notebook, you'll start exploring prompts and prompt parameters using the Python SDK and AI Studio. For some inspiration, you might enjoy exploring some apps that have been built using the Gemini family of models. Here are a few that we like, and we think you will too.\n",
    "\n",
    "* [TextFX](https://textfx.withgoogle.com/) is a suite of AI-powered tools for rappers, made in collaboration with Lupe Fiasco,\n",
    "* [SQL Talk](https://sql-talk-r5gdynozbq-uc.a.run.app/) shows how you can talk directly to a database using the Gemini API,\n",
    "* [NotebookLM](https://notebooklm.google/) uses Gemini models to build your own personal AI research assistant.\n",
    "\n",
    "\n",
    "## For help\n",
    "\n",
    "**Common issues are covered in the [FAQ and troubleshooting guide](https://www.kaggle.com/code/markishere/day-0-troubleshooting-and-faqs).**\n",
    "\n",
    "### A note on the Gemini API and Vertex AI\n",
    "\n",
    "In the whitepapers, most of the example code uses the Enterprise [Vertex AI platform](https://cloud.google.com/vertex-ai). In contrast, this notebook, along with the others in this series, will use the [Gemini Developer API](https://ai.google.dev/gemini-api/) and [AI Studio](https://aistudio.google.com/).\n",
    "\n",
    "Both APIs provide access to the Gemini family of models, and the code to interact with the models is very similar. Vertex provides a world-class platform for enterprises, governments and advanced users that need powerful features like data governance, ML ops and deep Google Cloud integration.\n",
    "\n",
    "AI Studio is free to use and only requires a compatible Google account to log in and get started. It is deeply integrated with the Gemini API, which comes with a generous [free tier](https://ai.google.dev/pricing) that you can use to run the code in these exercises.\n",
    "\n",
    "If you are already set up with Google Cloud, you can check out the [Enterprise Gemini API](https://cloud.google.com/vertex-ai/generative-ai/docs/model-reference/inference) through Vertex AI, and run the samples directly from the supplied whitepapers."
   ]
  },
  {
   "attachments": {
    "d8299597-f771-4195-ac94-1d6f658ef2bd.png": {
     "image/png": "[encoded data removed]"
    },
    "ed25e346-2e15-4ab0-bc22-503eb1845e66.png": {
     "image/png": "[encoded data removed]"
    }
   },
   "cell_type": "markdown",
   "id": "2cbc1b33",
   "metadata": {
    "id": "f00ea7c99e44",
    "papermill": {
     "duration": 0.011636,
     "end_time": "2024-11-23T20:21:30.530137",
     "exception": false,
     "start_time": "2024-11-23T20:21:30.518501",
     "status": "completed"
    },
    "tags": []
   },
   "source": [
    "## Get started with Kaggle notebooks\n",
    "\n",
    "If this is your first time using a Kaggle notebook, welcome! You can read about how to use Kaggle notebooks [in the docs](https://www.kaggle.com/docs/notebooks).\n",
    "\n",
    "First, you will need to phone verify your account at kaggle.com/settings.\n",
    "\n",
    "![](https://storage.googleapis.com/kaggle-media/Images/5dgai_0.png)"
   ]
  },
  {
   "cell_type": "markdown",
   "id": "60565ac9",
   "metadata": {
    "papermill": {
     "duration": 0.011714,
     "end_time": "2024-11-23T20:21:30.553589",
     "exception": false,
     "start_time": "2024-11-23T20:21:30.541875",
     "status": "completed"
    },
    "tags": []
   },
   "source": [
    "To run this notebook, as well as the others in this course, you will need to make a copy, or fork, the notebook. Look for the `Copy and Edit` button in the top-right, and **click it** to make an editable, private copy of the notebook. It should look like this one:\n",
    "\n",
    "![Copy and Edit button](https://storage.googleapis.com/kaggle-media/Images/5gdai_sc_1.png)\n",
    "\n",
    "Your copy will now have a ▶️ **Run** button next to each code cell that you can press to execute that cell. These notebooks are expected to be run in order from top-to-bottom, but you are encouraged to add new cells, run your own code and explore. If you get stuck, you can try the `Factory reset` option in the `Run` menu, or head back to the original notebook and make a fresh copy.\n",
    "\n",
    "![Run cell button](https://storage.googleapis.com/kaggle-media/Images/5gdai_sc_2.png)\n",
    "\n",
    "### Problems?\n",
    "\n",
    "If you have any problems, head over to the [Kaggle Discord](https://discord.com/invite/kaggle), find the [`#5dgai-q-and-a` channel](https://discord.com/channels/1101210829807956100/1303438695143178251) and ask for help."
   ]
  },
  {
   "cell_type": "markdown",
   "id": "9fdf5963",
   "metadata": {
    "id": "ExkOXcPxtTb5",
    "papermill": {
     "duration": 0.011677,
     "end_time": "2024-11-23T20:21:30.577242",
     "exception": false,
     "start_time": "2024-11-23T20:21:30.565565",
     "status": "completed"
    },
    "tags": []
   },
   "source": [
    "## Get started with the Gemini API\n",
    "\n",
    "All of the exercises in this notebook will use the [Gemini API](https://ai.google.dev/gemini-api/) by way of the [Python SDK](https://pypi.org/project/google-generativeai/). Each of these prompts can be accessed directly in [Google AI Studio](https://aistudio.google.com/) too, so if you would rather use a web interface and skip the code for this activity, look for the <img src=\"https://ai.google.dev/site-assets/images/marketing/home/icon-ais.png\" style=\"height: 24px\" height=24/> AI Studio link on each prompt."
   ]
  },
  {
   "cell_type": "markdown",
   "id": "055dd162",
   "metadata": {
    "papermill": {
     "duration": 0.011638,
     "end_time": "2024-11-23T20:21:30.600714",
     "exception": false,
     "start_time": "2024-11-23T20:21:30.589076",
     "status": "completed"
    },
    "tags": []
   },
   "source": [
    "Next, you will need to add your API key to your Kaggle Notebook as a Kaggle User Secret.\n",
    "\n",
    "![](https://storage.googleapis.com/kaggle-media/Images/5dgai_1.png)\n",
    "![](https://storage.googleapis.com/kaggle-media/Images/5dgai_2.png)\n",
    "![](https://storage.googleapis.com/kaggle-media/Images/5dgai_3.png)\n",
    "![](https://storage.googleapis.com/kaggle-media/Images/5dgai_4.png)"
   ]
  },
  {
   "cell_type": "markdown",
   "id": "9cb23fb8",
   "metadata": {
    "id": "UAjUV3BsvFXQ",
    "papermill": {
     "duration": 0.011516,
     "end_time": "2024-11-23T20:21:30.624359",
     "exception": false,
     "start_time": "2024-11-23T20:21:30.612843",
     "status": "completed"
    },
    "tags": []
   },
   "source": [
    "### Install the SDK"
   ]
  },
  {
   "cell_type": "code",
   "execution_count": 2,
   "id": "bc1d011d",
   "metadata": {
    "_kg_hide-output": false,
    "execution": {
     "iopub.execute_input": "2024-11-23T20:21:30.650258Z",
     "iopub.status.busy": "2024-11-23T20:21:30.649714Z",
     "iopub.status.idle": "2024-11-23T20:21:58.904517Z",
     "shell.execute_reply": "2024-11-23T20:21:58.903342Z"
    },
    "id": "NzwzJFU9LqkJ",
    "papermill": {
     "duration": 28.270352,
     "end_time": "2024-11-23T20:21:58.906592",
     "exception": false,
     "start_time": "2024-11-23T20:21:30.636240",
     "status": "completed"
    },
    "tags": []
   },
   "outputs": [
    {
     "name": "stdout",
     "output_type": "stream",
     "text": [
      "Note: you may need to restart the kernel to use updated packages.\n"
     ]
    }
   ],
   "source": [
    "%pip install -U -q \"google-generativeai>=0.8.3\""
   ]
  },
  {
   "cell_type": "markdown",
   "id": "0553e68f",
   "metadata": {
    "papermill": {
     "duration": 0.011816,
     "end_time": "2024-11-23T20:21:58.930679",
     "exception": false,
     "start_time": "2024-11-23T20:21:58.918863",
     "status": "completed"
    },
    "tags": []
   },
   "source": [
    "You do not need to restart the kernel."
   ]
  },
  {
   "cell_type": "code",
   "execution_count": 3,
   "id": "409f0ce1",
   "metadata": {
    "execution": {
     "iopub.execute_input": "2024-11-23T20:21:58.956514Z",
     "iopub.status.busy": "2024-11-23T20:21:58.956047Z",
     "iopub.status.idle": "2024-11-23T20:22:01.596879Z",
     "shell.execute_reply": "2024-11-23T20:22:01.595532Z"
    },
    "papermill": {
     "duration": 2.656889,
     "end_time": "2024-11-23T20:22:01.599387",
     "exception": false,
     "start_time": "2024-11-23T20:21:58.942498",
     "status": "completed"
    },
    "tags": []
   },
   "outputs": [
    {
     "name": "stdout",
     "output_type": "stream",
     "text": [
      "absl-py==1.4.0\r\n",
      "accelerate==0.34.2\r\n",
      "aiobotocore==2.15.1\r\n",
      "aiofiles==22.1.0\r\n",
      "aiohttp @ file:///home/conda/feedstock_root/build_artifacts/aiohttp_1713964853148/work\r\n",
      "aioitertools==0.12.0\r\n",
      "aiosignal @ file:///home/conda/feedstock_root/build_artifacts/aiosignal_1667935791922/work\r\n",
      "aiosqlite==0.20.0\r\n",
      "albucore==0.0.17\r\n",
      "albumentations==1.4.17\r\n",
      "alembic==1.13.3\r\n",
      "altair==5.4.1\r\n",
      "annotated-types==0.7.0\r\n",
      "annoy==1.17.3\r\n",
      "ansicolors==1.1.8\r\n",
      "anyio @ file:///home/conda/feedstock_root/build_artifacts/anyio_1717693030552/work\r\n",
      "apache-beam==2.46.0\r\n",
      "appdirs==1.4.4\r\n",
      "archspec @ file:///home/conda/feedstock_root/build_artifacts/archspec_1708969572489/work\r\n",
      "argon2-cffi @ file:///home/conda/feedstock_root/build_artifacts/argon2-cffi_1692818318753/work\r\n",
      "argon2-cffi-bindings @ file:///home/conda/feedstock_root/build_artifacts/argon2-cffi-bindings_1695386546427/work\r\n",
      "array_record==0.5.1\r\n",
      "arrow @ file:///home/conda/feedstock_root/build_artifacts/arrow_1696128962909/work\r\n",
      "arviz==0.20.0\r\n",
      "astroid==3.3.4\r\n",
      "asttokens @ file:///home/conda/feedstock_root/build_artifacts/asttokens_1698341106958/work\r\n",
      "astunparse==1.6.3\r\n",
      "async-lru==2.0.4\r\n",
      "async-timeout @ file:///home/conda/feedstock_root/build_artifacts/async-timeout_1691763562544/work\r\n",
      "atpublic==4.1.0\r\n",
      "attrs @ file:///home/conda/feedstock_root/build_artifacts/attrs_1704011227531/work\r\n",
      "audioread==3.0.1\r\n",
      "autopep8==2.0.4\r\n",
      "Babel==2.15.0\r\n",
      "backports.tarfile==1.2.0\r\n",
      "bayesian-optimization==1.5.1\r\n",
      "beatrix_jupyterlab @ file:///home/kbuilder/miniconda3/conda-bld/dlenv-tf-2-16-cpu_1718250319141/work/packages/beatrix_jupyterlab-2024.66.154055.tar.gz#sha256=257afe97f249769790e978994d6554655e0c2be69c5faa3924a06c73bddbcab3\r\n",
      "beautifulsoup4 @ file:///home/conda/feedstock_root/build_artifacts/beautifulsoup4_1705564648255/work\r\n",
      "bidict==0.23.1\r\n",
      "bigframes==0.22.0\r\n",
      "bleach @ file:///home/conda/feedstock_root/build_artifacts/bleach_1696630167146/work\r\n",
      "blessed==1.20.0\r\n",
      "blinker==1.8.2\r\n",
      "blis==1.0.1\r\n",
      "blosc2==2.7.1\r\n",
      "bokeh==3.6.0\r\n",
      "boltons @ file:///home/conda/feedstock_root/build_artifacts/boltons_1711936407380/work\r\n",
      "Boruta==0.4.3\r\n",
      "boto3==1.26.100\r\n",
      "botocore==1.35.23\r\n",
      "-e git+https://github.com/SohierDane/BigQuery_Helper@8615a7f6c1663e7f2d48aa2b32c2dbcb600a440f#egg=bq_helper\r\n",
      "bqplot==0.12.43\r\n",
      "branca==0.8.0\r\n",
      "Brotli @ file:///home/conda/feedstock_root/build_artifacts/brotli-split_1695989787169/work\r\n",
      "brotlipy==0.7.0\r\n",
      "cached-property @ file:///home/conda/feedstock_root/build_artifacts/cached_property_1615209429212/work\r\n",
      "cachetools==4.2.4\r\n",
      "Cartopy @ file:///home/conda/feedstock_root/build_artifacts/cartopy_1726175359833/work\r\n",
      "catalogue==2.0.10\r\n",
      "catboost==1.2.7\r\n",
      "category-encoders==2.6.4\r\n",
      "certifi @ file:///home/conda/feedstock_root/build_artifacts/certifi_1725278078093/work/certifi\r\n",
      "cesium==0.12.3\r\n",
      "cffi @ file:///home/conda/feedstock_root/build_artifacts/cffi_1696001684923/work\r\n",
      "charset-normalizer @ file:///home/conda/feedstock_root/build_artifacts/charset-normalizer_1698833585322/work\r\n",
      "chex==0.1.87\r\n",
      "click==8.1.7\r\n",
      "click-plugins==1.1.1\r\n",
      "cligj==0.7.2\r\n",
      "cloud-tpu-client==0.10\r\n",
      "cloud-tpu-profiler==2.4.0\r\n",
      "cloudpathlib==0.19.0\r\n",
      "cloudpickle==3.0.0\r\n",
      "cmdstanpy==1.2.4\r\n",
      "colorama @ file:///home/conda/feedstock_root/build_artifacts/colorama_1666700638685/work\r\n",
      "colorcet==3.1.0\r\n",
      "colorful==0.5.6\r\n",
      "colorlog==6.8.2\r\n",
      "colorlover==0.3.0\r\n",
      "comm @ file:///home/conda/feedstock_root/build_artifacts/comm_1710320294760/work\r\n",
      "conda @ file:///home/conda/feedstock_root/build_artifacts/conda_1727791761394/work\r\n",
      "conda-content-trust @ file:///tmp/build/80754af9/conda-content-trust_1617045594566/work\r\n",
      "conda-libmamba-solver @ file:///croot/conda-libmamba-solver_1702997573971/work/src\r\n",
      "conda-package-handling @ file:///home/conda/feedstock_root/build_artifacts/conda-package-handling_1717678605937/work\r\n",
      "conda_package_streaming @ file:///home/conda/feedstock_root/build_artifacts/conda-package-streaming_1717678526951/work\r\n",
      "confection==0.1.5\r\n",
      "contourpy==1.2.1\r\n",
      "crcmod==1.7\r\n",
      "cryptography @ file:///home/conda/feedstock_root/build_artifacts/cryptography-split_1717559422169/work\r\n",
      "cufflinks==0.17.3\r\n",
      "CVXcanon==0.1.2\r\n",
      "cycler @ file:///home/conda/feedstock_root/build_artifacts/cycler_1696677705766/work\r\n",
      "cymem==2.0.8\r\n",
      "Cython==3.0.10\r\n",
      "cytoolz==0.12.3\r\n",
      "daal==2024.7.0\r\n",
      "daal4py==2024.7.0\r\n",
      "dacite==1.8.1\r\n",
      "dask==2024.9.1\r\n",
      "dask-expr==1.1.15\r\n",
      "dataclasses-json==0.6.7\r\n",
      "dataproc_jupyter_plugin==0.1.79\r\n",
      "datasets==3.0.1\r\n",
      "datashader==0.16.3\r\n",
      "datatile==1.0.3\r\n",
      "db-dtypes==1.2.0\r\n",
      "deap==1.4.1\r\n",
      "debugpy @ file:///home/conda/feedstock_root/build_artifacts/debugpy_1707444420542/work\r\n",
      "decorator @ file:///home/conda/feedstock_root/build_artifacts/decorator_1641555617451/work\r\n",
      "deepdiff==8.0.1\r\n",
      "defusedxml @ file:///home/conda/feedstock_root/build_artifacts/defusedxml_1615232257335/work\r\n",
      "Deprecated==1.2.14\r\n",
      "dill==0.3.8\r\n",
      "dipy==1.9.0\r\n",
      "distlib==0.3.8\r\n",
      "distro @ file:///home/conda/feedstock_root/build_artifacts/distro_1704321475663/work\r\n",
      "dm-tree==0.1.8\r\n",
      "dnspython==2.6.1\r\n",
      "docker==7.1.0\r\n",
      "docker-pycreds==0.4.0\r\n",
      "docopt==0.6.2\r\n",
      "docstring-to-markdown==0.15\r\n",
      "docstring_parser==0.16\r\n",
      "earthengine-api==1.1.2\r\n",
      "easyocr==1.7.2\r\n",
      "ecos==2.0.14\r\n",
      "eli5==0.13.0\r\n",
      "email_validator==2.1.1\r\n",
      "emoji==2.13.2\r\n",
      "en_core_web_lg @ https://github.com/explosion/spacy-models/releases/download/en_core_web_lg-3.8.0/en_core_web_lg-3.8.0-py3-none-any.whl#sha256=293e9547a655b25499198ab15a525b05b9407a75f10255e405e8c3854329ab63\r\n",
      "en_core_web_sm @ https://github.com/explosion/spacy-models/releases/download/en_core_web_sm-3.8.0/en_core_web_sm-3.8.0-py3-none-any.whl#sha256=1932429db727d4bff3deed6b34cfc05df17794f4a52eeb26cf8928f7c1a0fb85\r\n",
      "entrypoints @ file:///home/conda/feedstock_root/build_artifacts/entrypoints_1643888246732/work\r\n",
      "et-xmlfile==1.1.0\r\n",
      "etils==1.7.0\r\n",
      "eval_type_backport==0.2.0\r\n",
      "exceptiongroup @ file:///home/conda/feedstock_root/build_artifacts/exceptiongroup_1704921103267/work\r\n",
      "execnb==0.1.6\r\n",
      "executing @ file:///home/conda/feedstock_root/build_artifacts/executing_1698579936712/work\r\n",
      "explainable-ai-sdk==1.3.3\r\n",
      "Farama-Notifications==0.0.4\r\n",
      "fastai==2.7.17\r\n",
      "fastapi==0.111.0\r\n",
      "fastapi-cli==0.0.4\r\n",
      "fastavro==1.9.4\r\n",
      "fastcore==1.7.10\r\n",
      "fastdownload==0.0.7\r\n",
      "fasteners==0.19\r\n",
      "fastjsonschema @ file:///home/conda/feedstock_root/build_artifacts/python-fastjsonschema_1703780968325/work/dist\r\n",
      "fastprogress==1.0.3\r\n",
      "fasttext==0.9.3\r\n",
      "featuretools==1.31.0\r\n",
      "filelock==3.15.1\r\n",
      "fiona==1.9.6\r\n",
      "flake8==7.1.1\r\n",
      "Flask==3.0.3\r\n",
      "flatbuffers==24.3.25\r\n",
      "flax==0.9.0\r\n",
      "folium==0.17.0\r\n",
      "fonttools==4.53.0\r\n",
      "fqdn @ file:///home/conda/feedstock_root/build_artifacts/fqdn_1638810296540/work/dist\r\n",
      "frozendict @ file:///home/conda/feedstock_root/build_artifacts/frozendict_1715092766944/work\r\n",
      "frozenlist @ file:///home/conda/feedstock_root/build_artifacts/frozenlist_1702645481127/work\r\n",
      "fsspec==2024.6.1\r\n",
      "funcy==2.0\r\n",
      "fury==0.11.0\r\n",
      "future==1.0.0\r\n",
      "fuzzywuzzy==0.18.0\r\n",
      "gast==0.5.4\r\n",
      "gatspy==0.3\r\n",
      "gcsfs==2024.6.1\r\n",
      "gensim==4.3.3\r\n",
      "geographiclib==2.0\r\n",
      "geojson==3.1.0\r\n",
      "geopandas==0.14.4\r\n",
      "geopy==2.4.1\r\n",
      "ghapi==1.0.6\r\n",
      "gitdb==4.0.11\r\n",
      "GitPython==3.1.43\r\n",
      "google-ai-generativelanguage==0.6.10\r\n",
      "google-api-core==2.11.1\r\n",
      "google-api-python-client==2.147.0\r\n",
      "google-apitools==0.5.31\r\n",
      "google-auth==2.30.0\r\n",
      "google-auth-httplib2==0.2.0\r\n",
      "google-auth-oauthlib==1.2.0\r\n",
      "google-cloud-aiplatform==0.6.0a1\r\n",
      "google-cloud-artifact-registry==1.11.3\r\n",
      "google-cloud-automl==1.0.1\r\n",
      "google-cloud-bigquery==2.34.4\r\n",
      "google-cloud-bigquery-connection==1.15.3\r\n",
      "google-cloud-bigtable==1.7.3\r\n",
      "google-cloud-core==2.4.1\r\n",
      "google-cloud-datastore==1.15.5\r\n",
      "google-cloud-dlp==3.18.0\r\n",
      "google-cloud-functions==1.16.3\r\n",
      "google-cloud-iam==2.15.0\r\n",
      "google-cloud-jupyter-config==0.0.10\r\n",
      "google-cloud-language==2.14.0\r\n",
      "google-cloud-monitoring==2.21.0\r\n",
      "google-cloud-pubsub==2.21.3\r\n",
      "google-cloud-pubsublite==1.10.0\r\n",
      "google-cloud-recommendations-ai==0.7.1\r\n",
      "google-cloud-resource-manager==1.12.3\r\n",
      "google-cloud-spanner==3.47.0\r\n",
      "google-cloud-storage==1.44.0\r\n",
      "google-cloud-translate==3.12.1\r\n",
      "google-cloud-videointelligence==2.13.5\r\n",
      "google-cloud-vision==2.8.0\r\n",
      "google-crc32c==1.5.0\r\n",
      "google-generativeai==0.8.3\r\n",
      "google-pasta==0.2.0\r\n",
      "google-resumable-media==2.7.1\r\n",
      "googleapis-common-protos==1.63.1\r\n",
      "gpustat==1.0.0\r\n",
      "gpxpy==1.6.2\r\n",
      "graphviz==0.20.3\r\n",
      "greenlet==3.0.3\r\n",
      "grpc-google-iam-v1==0.12.7\r\n",
      "grpc-interceptor==0.15.4\r\n",
      "grpcio==1.64.1\r\n",
      "grpcio-status @ file:///home/conda/feedstock_root/build_artifacts/grpcio-status_1659707318966/work\r\n",
      "gviz-api==1.10.0\r\n",
      "gym==0.26.2\r\n",
      "gym-notices==0.0.8\r\n",
      "gymnasium==0.29.0\r\n",
      "h11==0.14.0\r\n",
      "h2o==3.46.0.5\r\n",
      "h5netcdf==1.3.0\r\n",
      "h5py==3.11.0\r\n",
      "haversine==2.8.1\r\n",
      "hdfs==2.7.3\r\n",
      "hep-ml==0.7.2\r\n",
      "holidays==0.57\r\n",
      "holoviews==1.19.1\r\n",
      "html5lib==1.1\r\n",
      "htmlmin==0.1.12\r\n",
      "httpcore==1.0.5\r\n",
      "httplib2==0.21.0\r\n",
      "httptools==0.6.1\r\n",
      "httpx==0.27.0\r\n",
      "huggingface-hub==0.25.1\r\n",
      "humanize==4.9.0\r\n",
      "hyperopt==0.2.7\r\n",
      "ibis-framework==7.1.0\r\n",
      "idna @ file:///home/conda/feedstock_root/build_artifacts/idna_1713279365350/work\r\n",
      "igraph==0.11.6\r\n",
      "ImageHash==4.3.1\r\n",
      "imageio==2.34.1\r\n",
      "imbalanced-learn==0.12.3\r\n",
      "imgaug==0.4.0\r\n",
      "immutabledict==4.2.0\r\n",
      "importlib-metadata @ file:///home/conda/feedstock_root/build_artifacts/importlib-metadata_1701632192416/work\r\n",
      "importlib_resources @ file:///home/conda/feedstock_root/build_artifacts/importlib_resources_1711040877059/work\r\n",
      "iniconfig==2.0.0\r\n",
      "ipykernel @ file:///home/conda/feedstock_root/build_artifacts/ipykernel_1717717528849/work\r\n",
      "ipympl==0.7.0\r\n",
      "ipython==8.21.0\r\n",
      "ipython-genutils @ file:///home/conda/feedstock_root/build_artifacts/ipython_genutils_1716278396992/work\r\n",
      "ipython-sql==0.5.0\r\n",
      "ipywidgets==7.7.1\r\n",
      "isoduration @ file:///home/conda/feedstock_root/build_artifacts/isoduration_1638811571363/work/dist\r\n",
      "isort==5.13.2\r\n",
      "isoweek==1.3.3\r\n",
      "itsdangerous==2.2.0\r\n",
      "Janome==0.5.0\r\n",
      "jaraco.classes==3.4.0\r\n",
      "jaraco.context==5.3.0\r\n",
      "jaraco.functools==4.0.1\r\n",
      "jax==0.4.33\r\n",
      "jax-jumpy==1.0.0\r\n",
      "jaxlib==0.4.33\r\n",
      "jedi @ file:///home/conda/feedstock_root/build_artifacts/jedi_1696326070614/work\r\n",
      "jeepney==0.8.0\r\n",
      "jieba==0.42.1\r\n",
      "Jinja2 @ file:///home/conda/feedstock_root/build_artifacts/jinja2_1715127149914/work\r\n",
      "jmespath==1.0.1\r\n",
      "joblib==1.4.2\r\n",
      "json5==0.9.25\r\n",
      "jsonpatch @ file:///home/conda/feedstock_root/build_artifacts/jsonpatch_1695536281965/work\r\n",
      "jsonpointer @ file:///home/conda/feedstock_root/build_artifacts/jsonpointer_1695397238043/work\r\n",
      "jsonschema @ file:///home/conda/feedstock_root/build_artifacts/jsonschema-meta_1714573116818/work\r\n",
      "jsonschema-specifications @ file:///tmp/tmpkv1z7p57/src\r\n",
      "jupyter-console==6.6.3\r\n",
      "jupyter-events @ file:///home/conda/feedstock_root/build_artifacts/jupyter_events_1710805637316/work\r\n",
      "jupyter-http-over-ws==0.0.8\r\n",
      "jupyter-lsp==1.5.1\r\n",
      "jupyter-server-mathjax==0.2.6\r\n",
      "jupyter-ydoc==0.2.5\r\n",
      "jupyter_client @ file:///home/conda/feedstock_root/build_artifacts/jupyter_client_1673615989977/work\r\n",
      "jupyter_core @ file:///home/conda/feedstock_root/build_artifacts/jupyter_core_1710257277185/work\r\n",
      "jupyter_server==2.12.5\r\n",
      "jupyter_server_fileid==0.9.2\r\n",
      "jupyter_server_proxy==4.2.0\r\n",
      "jupyter_server_terminals @ file:///home/conda/feedstock_root/build_artifacts/jupyter_server_terminals_1710262634903/work\r\n",
      "jupyter_server_ydoc==0.8.0\r\n",
      "jupyterlab==4.2.5\r\n",
      "jupyterlab-lsp==5.1.0\r\n",
      "jupyterlab_git==0.44.0\r\n",
      "jupyterlab_pygments @ file:///home/conda/feedstock_root/build_artifacts/jupyterlab_pygments_1707149102966/work\r\n",
      "jupyterlab_server==2.27.2\r\n",
      "jupyterlab_widgets==3.0.11\r\n",
      "jupytext==1.16.2\r\n",
      "kaggle==1.6.17\r\n",
      "kaggle-environments==1.14.15\r\n",
      "kagglehub==0.3.1\r\n",
      "keras==3.3.3\r\n",
      "keras-core==0.1.7\r\n",
      "keras-cv==0.9.0\r\n",
      "keras-nlp==0.15.1\r\n",
      "keras-tuner==1.4.7\r\n",
      "kernels-mixer==0.0.13\r\n",
      "keyring==25.2.1\r\n",
      "keyrings.google-artifactregistry-auth==1.1.2\r\n",
      "kfp==2.5.0\r\n",
      "kfp-pipeline-spec==0.2.2\r\n",
      "kfp-server-api==2.0.5\r\n",
      "kiwisolver==1.4.5\r\n",
      "kornia==0.7.3\r\n",
      "kornia_rs==0.1.5\r\n",
      "kt-legacy==1.0.5\r\n",
      "kubernetes==26.1.0\r\n",
      "langcodes==3.4.1\r\n",
      "langid==1.1.6\r\n",
      "language_data==1.2.0\r\n",
      "lazy_loader==0.4\r\n",
      "learntools @ git+https://github.com/Kaggle/learntools@ca2a51ee0085e4943cadaf5e9fe7dce2ec947d3c\r\n",
      "leven==1.0.4\r\n",
      "libclang==18.1.1\r\n",
      "libmambapy @ file:///home/conda/feedstock_root/build_artifacts/mamba-split_1727077953944/work/libmambapy\r\n",
      "libpysal==4.9.2\r\n",
      "librosa==0.10.2.post1\r\n",
      "lightgbm==4.2.0\r\n",
      "lightning-utilities==0.11.7\r\n",
      "lime==0.2.0.1\r\n",
      "line_profiler==4.1.3\r\n",
      "linkify-it-py==2.0.3\r\n",
      "llvmlite==0.43.0\r\n",
      "lml==0.1.0\r\n",
      "locket==1.0.0\r\n",
      "lxml==5.3.0\r\n",
      "lz4==4.3.3\r\n",
      "Mako==1.3.5\r\n",
      "mamba @ file:///home/conda/feedstock_root/build_artifacts/mamba-split_1727077953944/work/mamba\r\n",
      "marisa-trie==1.2.0\r\n",
      "Markdown==3.6\r\n",
      "markdown-it-py==3.0.0\r\n",
      "MarkupSafe @ file:///home/conda/feedstock_root/build_artifacts/markupsafe_1706899921127/work\r\n",
      "marshmallow==3.22.0\r\n",
      "matplotlib==3.7.5\r\n",
      "matplotlib-inline @ file:///home/conda/feedstock_root/build_artifacts/matplotlib-inline_1713250518406/work\r\n",
      "matplotlib-venn==1.1.1\r\n",
      "mccabe==0.7.0\r\n",
      "mdit-py-plugins==0.4.1\r\n",
      "mdurl==0.1.2\r\n",
      "memory-profiler==0.61.0\r\n",
      "memray==1.12.0\r\n",
      "menuinst @ file:///home/conda/feedstock_root/build_artifacts/menuinst_1718088294643/work\r\n",
      "missingno==0.5.2\r\n",
      "mistune==0.8.4\r\n",
      "mizani==0.11.4\r\n",
      "ml-dtypes==0.3.2\r\n",
      "mlcrate==0.2.0\r\n",
      "mlxtend==0.23.1\r\n",
      "mne==1.8.0\r\n",
      "more-itertools==10.3.0\r\n",
      "mpld3==0.5.10\r\n",
      "mpmath==1.3.0\r\n",
      "msgpack==1.0.8\r\n",
      "multidict @ file:///home/conda/feedstock_root/build_artifacts/multidict_1707040698785/work\r\n",
      "multimethod==1.11.2\r\n",
      "multipledispatch==1.0.0\r\n",
      "multiprocess==0.70.16\r\n",
      "munkres==1.1.4\r\n",
      "murmurhash==1.0.10\r\n",
      "mypy-extensions==1.0.0\r\n",
      "namex==0.0.8\r\n",
      "narwhals==1.9.0\r\n",
      "nb_conda @ file:///home/conda/feedstock_root/build_artifacts/nb_conda_1704789357480/work\r\n",
      "nb_conda_kernels @ file:///home/conda/feedstock_root/build_artifacts/nb_conda_kernels_1714150048983/work\r\n",
      "nbclassic @ file:///home/conda/feedstock_root/build_artifacts/nbclassic_1716838762700/work\r\n",
      "nbclient==0.5.13\r\n",
      "nbconvert==6.4.5\r\n",
      "nbdev==2.3.31\r\n",
      "nbdime==3.2.0\r\n",
      "nbformat @ file:///home/conda/feedstock_root/build_artifacts/nbformat_1712238998817/work\r\n",
      "ndindex==1.9.2\r\n",
      "nest-asyncio @ file:///home/conda/feedstock_root/build_artifacts/nest-asyncio_1705850609492/work\r\n",
      "networkx==3.3\r\n",
      "nibabel==5.2.1\r\n",
      "nilearn==0.10.4\r\n",
      "ninja==1.11.1.1\r\n",
      "nltk==3.2.4\r\n",
      "nose==1.3.7\r\n",
      "notebook @ file:///home/conda/feedstock_root/build_artifacts/notebook_1715848908871/work\r\n",
      "notebook_executor @ file:///home/kbuilder/miniconda3/conda-bld/dlenv-tf-2-16-cpu_1718250319141/work/packages/notebook_executor\r\n",
      "notebook_shim @ file:///home/conda/feedstock_root/build_artifacts/notebook-shim_1707957777232/work\r\n",
      "numba==0.60.0\r\n",
      "numexpr==2.10.1\r\n",
      "numpy==1.26.4\r\n",
      "nvidia-ml-py==11.495.46\r\n",
      "oauth2client==4.1.3\r\n",
      "oauthlib==3.2.2\r\n",
      "objsize==0.6.1\r\n",
      "odfpy==1.4.1\r\n",
      "olefile==0.47\r\n",
      "onnx==1.17.0\r\n",
      "opencensus==0.11.4\r\n",
      "opencensus-context==0.1.3\r\n",
      "opencv-contrib-python==4.10.0.84\r\n",
      "opencv-python==4.10.0.84\r\n",
      "opencv-python-headless==4.10.0.84\r\n",
      "openpyxl==3.1.5\r\n",
      "openslide-python==1.3.1\r\n",
      "opentelemetry-api==1.25.0\r\n",
      "opentelemetry-exporter-otlp==1.25.0\r\n",
      "opentelemetry-exporter-otlp-proto-common==1.25.0\r\n",
      "opentelemetry-exporter-otlp-proto-grpc==1.25.0\r\n",
      "opentelemetry-exporter-otlp-proto-http==1.25.0\r\n",
      "opentelemetry-proto==1.25.0\r\n",
      "opentelemetry-sdk==1.25.0\r\n",
      "opentelemetry-semantic-conventions==0.46b0\r\n",
      "opt-einsum==3.3.0\r\n",
      "optax==0.2.3\r\n",
      "optree==0.11.0\r\n",
      "optuna==4.0.0\r\n",
      "orbax-checkpoint==0.6.4\r\n",
      "orderly-set==5.2.2\r\n",
      "orjson==3.10.4\r\n",
      "overrides @ file:///home/conda/feedstock_root/build_artifacts/overrides_1706394519472/work\r\n",
      "packaging==21.3\r\n",
      "pandas==2.2.3\r\n",
      "pandas-datareader==0.10.0\r\n",
      "pandas-profiling==3.6.6\r\n",
      "pandas-summary==0.2.0\r\n",
      "pandasql==0.7.3\r\n",
      "pandocfilters @ file:///home/conda/feedstock_root/build_artifacts/pandocfilters_1631603243851/work\r\n",
      "panel==1.5.1\r\n",
      "papermill==2.6.0\r\n",
      "param==2.1.1\r\n",
      "parso @ file:///home/conda/feedstock_root/build_artifacts/parso_1712320355065/work\r\n",
      "parsy==2.1\r\n",
      "partd==1.4.2\r\n",
      "path==17.0.0\r\n",
      "path.py==12.5.0\r\n",
      "pathos==0.3.3\r\n",
      "patsy==0.5.6\r\n",
      "pdf2image==1.17.0\r\n",
      "pendulum==3.0.0\r\n",
      "pettingzoo==1.24.0\r\n",
      "pexpect @ file:///home/conda/feedstock_root/build_artifacts/pexpect_1706113125309/work\r\n",
      "phik==0.12.4\r\n",
      "pickleshare @ file:///home/conda/feedstock_root/build_artifacts/pickleshare_1602536217715/work\r\n",
      "pillow==10.3.0\r\n",
      "pins==0.8.6\r\n",
      "pkgutil_resolve_name @ file:///home/conda/feedstock_root/build_artifacts/pkgutil-resolve-name_1694617248815/work\r\n",
      "platformdirs==3.11.0\r\n",
      "plotly==5.22.0\r\n",
      "plotly-express==0.4.1\r\n",
      "plotnine==0.13.6\r\n",
      "pluggy @ file:///home/conda/feedstock_root/build_artifacts/pluggy_1713667077545/work\r\n",
      "polars==1.9.0\r\n",
      "pooch==1.8.2\r\n",
      "pox==0.3.5\r\n",
      "ppft==1.7.6.9\r\n",
      "preprocessing==0.1.13\r\n",
      "preshed==3.0.9\r\n",
      "prettytable==3.10.0\r\n",
      "prometheus_client @ file:///home/conda/feedstock_root/build_artifacts/prometheus_client_1707932675456/work\r\n",
      "promise==2.3\r\n",
      "prompt_toolkit @ file:///home/conda/feedstock_root/build_artifacts/prompt-toolkit_1718047967974/work\r\n",
      "prophet==1.1.5\r\n",
      "proto-plus==1.23.0\r\n",
      "protobuf==3.20.3\r\n",
      "psutil==5.9.3\r\n",
      "ptyprocess @ file:///home/conda/feedstock_root/build_artifacts/ptyprocess_1609419310487/work/dist/ptyprocess-0.7.0-py2.py3-none-any.whl\r\n",
      "pudb==2024.1.2\r\n",
      "pure-eval @ file:///home/conda/feedstock_root/build_artifacts/pure_eval_1642875951954/work\r\n",
      "py-cpuinfo==9.0.0\r\n",
      "py-spy==0.3.14\r\n",
      "py4j==0.10.9.7\r\n",
      "pyaml==24.9.0\r\n",
      "PyArabic==0.6.15\r\n",
      "pyarrow==17.0.0\r\n",
      "pyarrow-hotfix==0.6\r\n",
      "pyasn1 @ file:///home/conda/feedstock_root/build_artifacts/pyasn1_1713209357222/work\r\n",
      "pyasn1_modules @ file:///home/conda/feedstock_root/build_artifacts/pyasn1-modules_1713209683338/work\r\n",
      "pybind11==2.13.6\r\n",
      "pyclipper==1.3.0.post5\r\n",
      "pycodestyle==2.12.1\r\n",
      "pycosat @ file:///home/conda/feedstock_root/build_artifacts/pycosat_1696355758174/work\r\n",
      "pycparser @ file:///home/conda/feedstock_root/build_artifacts/pycparser_1711811537435/work\r\n",
      "pycryptodome==3.20.0\r\n",
      "pyct==0.5.0\r\n",
      "pydantic==2.9.2\r\n",
      "pydantic_core==2.23.4\r\n",
      "pydata-google-auth==1.8.2\r\n",
      "pydegensac==0.1.2\r\n",
      "pydicom==3.0.1\r\n",
      "pydocstyle==6.3.0\r\n",
      "pydot==1.4.2\r\n",
      "pydub==0.25.1\r\n",
      "pyemd==1.0.0\r\n",
      "pyexcel-io==0.6.6\r\n",
      "pyexcel-ods==0.6.0\r\n",
      "pyflakes==3.2.0\r\n",
      "pygltflib==1.16.2\r\n",
      "Pygments @ file:///home/conda/feedstock_root/build_artifacts/pygments_1714846767233/work\r\n",
      "PyJWT==2.8.0\r\n",
      "pyLDAvis==3.4.1\r\n",
      "pylint==3.3.1\r\n",
      "pymc3==3.11.4\r\n",
      "pymongo==3.13.0\r\n",
      "Pympler==1.1\r\n",
      "pyOpenSSL @ file:///home/conda/feedstock_root/build_artifacts/pyopenssl_1706660063483/work\r\n",
      "pyparsing==3.1.2\r\n",
      "pypdf==5.0.1\r\n",
      "pyproj==3.6.1\r\n",
      "pyshp @ file:///home/conda/feedstock_root/build_artifacts/pyshp_1659002966020/work\r\n",
      "PySocks @ file:///home/builder/ci_310/pysocks_1640793678128/work\r\n",
      "pytesseract==0.3.13\r\n",
      "pytest==8.3.3\r\n",
      "python-bidi==0.6.0\r\n",
      "python-dateutil==2.9.0.post0\r\n",
      "python-dotenv==1.0.1\r\n",
      "python-json-logger @ file:///home/conda/feedstock_root/build_artifacts/python-json-logger_1677079630776/work\r\n",
      "python-louvain==0.16\r\n",
      "python-lsp-jsonrpc==1.1.2\r\n",
      "python-lsp-server==1.12.0\r\n",
      "python-multipart==0.0.9\r\n",
      "python-slugify==8.0.4\r\n",
      "pytoolconfig==1.3.1\r\n",
      "pytorch-ignite==0.5.1\r\n",
      "pytorch-lightning==2.4.0\r\n",
      "pytz==2024.1\r\n",
      "pyu2f @ file:///home/conda/feedstock_root/build_artifacts/pyu2f_1604248910016/work\r\n",
      "PyUpSet==0.1.1.post7\r\n",
      "pyviz_comms==3.0.3\r\n",
      "PyWavelets==1.6.0\r\n",
      "PyYAML==6.0.2\r\n",
      "pyzmq @ file:///home/conda/feedstock_root/build_artifacts/pyzmq_1715024398995/work\r\n",
      "qgrid==1.3.1\r\n",
      "qtconsole==5.6.0\r\n",
      "QtPy==2.4.1\r\n",
      "ray==2.24.0\r\n",
      "ray-cpp==2.24.0\r\n",
      "referencing @ file:///home/conda/feedstock_root/build_artifacts/referencing_1714619483868/work\r\n",
      "regex==2024.5.15\r\n",
      "requests @ file:///home/conda/feedstock_root/build_artifacts/requests_1717057054362/work\r\n",
      "requests-oauthlib==2.0.0\r\n",
      "requests-toolbelt==0.10.1\r\n",
      "retrying==1.3.3\r\n",
      "rfc3339-validator @ file:///home/conda/feedstock_root/build_artifacts/rfc3339-validator_1638811747357/work\r\n",
      "rfc3986-validator @ file:///home/conda/feedstock_root/build_artifacts/rfc3986-validator_1598024191506/work\r\n",
      "rgf-python==3.12.0\r\n",
      "rich==13.7.1\r\n",
      "rope==1.13.0\r\n",
      "rpds-py @ file:///home/conda/feedstock_root/build_artifacts/rpds-py_1715090007604/work\r\n",
      "rsa @ file:///home/conda/feedstock_root/build_artifacts/rsa_1658328885051/work\r\n",
      "Rtree==1.3.0\r\n",
      "ruamel-yaml-conda @ file:///home/builder/ci_310/ruamel_yaml_1640794439226/work\r\n",
      "ruamel.yaml @ file:///home/conda/feedstock_root/build_artifacts/ruamel.yaml_1707298115475/work\r\n",
      "ruamel.yaml.clib @ file:///home/conda/feedstock_root/build_artifacts/ruamel.yaml.clib_1707314473442/work\r\n",
      "s3fs==2024.6.1\r\n",
      "s3transfer==0.6.2\r\n",
      "safetensors==0.4.5\r\n",
      "scikit-image==0.23.2\r\n",
      "scikit-learn==1.2.2\r\n",
      "scikit-learn-intelex==2024.7.0\r\n",
      "scikit-multilearn==0.2.0\r\n",
      "scikit-optimize==0.10.2\r\n",
      "scikit-plot==0.3.7\r\n",
      "scikit-surprise==1.1.4\r\n",
      "scipy==1.14.1\r\n",
      "seaborn==0.12.2\r\n",
      "SecretStorage==3.3.3\r\n",
      "segment_anything @ git+https://github.com/facebookresearch/segment-anything.git@dca509fe793f601edb92606367a655c15ac00fdf\r\n",
      "semver==3.0.2\r\n",
      "Send2Trash @ file:///home/conda/feedstock_root/build_artifacts/send2trash_1712584999685/work\r\n",
      "sentencepiece==0.2.0\r\n",
      "sentry-sdk==2.15.0\r\n",
      "setproctitle==1.3.3\r\n",
      "setuptools-scm==8.1.0\r\n",
      "shap==0.44.1\r\n",
      "Shapely==1.8.5.post1\r\n",
      "shellingham==1.5.4\r\n",
      "Shimmy==1.3.0\r\n",
      "simpervisor==1.0.0\r\n",
      "simple_parsing==0.1.5\r\n",
      "SimpleITK==2.4.0\r\n",
      "six @ file:///tmp/build/80754af9/six_1644875935023/work\r\n",
      "sklearn-pandas==2.2.0\r\n",
      "slicer==0.0.7\r\n",
      "smart-open==7.0.4\r\n",
      "smmap==5.0.1\r\n",
      "sniffio @ file:///home/conda/feedstock_root/build_artifacts/sniffio_1708952932303/work\r\n",
      "snowballstemmer==2.2.0\r\n",
      "soundfile==0.12.1\r\n",
      "soupsieve @ file:///home/conda/feedstock_root/build_artifacts/soupsieve_1693929250441/work\r\n",
      "soxr==0.5.0.post1\r\n",
      "spacy==3.8.2\r\n",
      "spacy-legacy==3.0.12\r\n",
      "spacy-loggers==1.0.5\r\n",
      "sphinx-rtd-theme==0.2.4\r\n",
      "SQLAlchemy==2.0.30\r\n",
      "sqlglot==19.9.0\r\n",
      "sqlparse==0.5.0\r\n",
      "squarify==0.4.4\r\n",
      "srsly==2.4.8\r\n",
      "stable-baselines3==2.1.0\r\n",
      "stack-data @ file:///home/conda/feedstock_root/build_artifacts/stack_data_1669632077133/work\r\n",
      "stanio==0.5.1\r\n",
      "starlette==0.37.2\r\n",
      "statsmodels==0.14.2\r\n",
      "stopit==1.1.2\r\n",
      "stumpy==1.13.0\r\n",
      "sympy==1.12\r\n",
      "tables==3.10.1\r\n",
      "tabulate==0.9.0\r\n",
      "tangled-up-in-unicode==0.2.0\r\n",
      "tbb==2021.13.1\r\n",
      "tenacity==8.3.0\r\n",
      "tensorboard==2.16.2\r\n",
      "tensorboard-data-server==0.7.2\r\n",
      "tensorboard_plugin_profile==2.15.1\r\n",
      "tensorboardX==2.6.2.2\r\n",
      "tensorflow==2.16.1\r\n",
      "tensorflow-cloud==0.1.16\r\n",
      "tensorflow-datasets==4.9.6\r\n",
      "tensorflow-estimator==2.15.0\r\n",
      "tensorflow-hub==0.16.1\r\n",
      "tensorflow-io==0.37.0\r\n",
      "tensorflow-io-gcs-filesystem==0.37.0\r\n",
      "tensorflow-metadata==0.14.0\r\n",
      "tensorflow-probability==0.24.0\r\n",
      "tensorflow-serving-api==2.16.1\r\n",
      "tensorflow-text==2.16.1\r\n",
      "tensorflow-transform==0.14.0\r\n",
      "tensorflow_decision_forests==1.9.1\r\n",
      "tensorstore==0.1.66\r\n",
      "termcolor==2.4.0\r\n",
      "terminado @ file:///home/conda/feedstock_root/build_artifacts/terminado_1710262609923/work\r\n",
      "testpath==0.6.0\r\n",
      "text-unidecode==1.3\r\n",
      "textblob==0.18.0.post0\r\n",
      "texttable==1.7.0\r\n",
      "textual==0.67.1\r\n",
      "tf_keras==2.16.0\r\n",
      "Theano==1.0.5\r\n",
      "Theano-PyMC==1.1.2\r\n",
      "thinc==8.3.2\r\n",
      "threadpoolctl==3.5.0\r\n",
      "tifffile==2024.5.22\r\n",
      "time-machine==2.14.1\r\n",
      "timm==1.0.9\r\n",
      "tinycss2 @ file:///home/conda/feedstock_root/build_artifacts/tinycss2_1713974937325/work\r\n",
      "tokenizers==0.20.0\r\n",
      "toml==0.10.2\r\n",
      "tomli==2.0.1\r\n",
      "tomlkit==0.13.2\r\n",
      "toolz==0.12.1\r\n",
      "torch==2.4.0+cpu\r\n",
      "torchaudio==2.4.0+cpu\r\n",
      "torchinfo==1.8.0\r\n",
      "torchmetrics==1.4.2\r\n",
      "torchvision==0.19.0+cpu\r\n",
      "tornado @ file:///home/conda/feedstock_root/build_artifacts/tornado_1717722796999/work\r\n",
      "TPOT==0.12.1\r\n",
      "tqdm @ file:///home/conda/feedstock_root/build_artifacts/tqdm_1714854870413/work\r\n",
      "traceml==1.0.8\r\n",
      "traitlets @ file:///home/conda/feedstock_root/build_artifacts/traitlets_1713535121073/work\r\n",
      "traittypes==0.2.1\r\n",
      "transformers==4.45.1\r\n",
      "truststore @ file:///home/conda/feedstock_root/build_artifacts/truststore_1694154605758/work\r\n",
      "trx-python==0.3\r\n",
      "tsfresh==0.20.3\r\n",
      "typeguard==4.3.0\r\n",
      "typer==0.12.3\r\n",
      "types-python-dateutil @ file:///home/conda/feedstock_root/build_artifacts/types-python-dateutil_1710589910274/work\r\n",
      "typing-inspect==0.9.0\r\n",
      "typing-utils @ file:///home/conda/feedstock_root/build_artifacts/typing_utils_1622899189314/work\r\n",
      "typing_extensions @ file:///home/conda/feedstock_root/build_artifacts/typing_extensions_1717802530399/work\r\n",
      "tzdata==2024.1\r\n",
      "uc-micro-py==1.0.3\r\n",
      "ujson==5.10.0\r\n",
      "unicodedata2 @ file:///home/conda/feedstock_root/build_artifacts/unicodedata2_1695847980273/work\r\n",
      "update-checker==0.18.0\r\n",
      "uri-template @ file:///home/conda/feedstock_root/build_artifacts/uri-template_1688655812972/work/dist\r\n",
      "uritemplate==3.0.1\r\n",
      "urllib3==1.26.18\r\n",
      "urwid==2.6.15\r\n",
      "urwid_readline==0.15.1\r\n",
      "uvicorn==0.30.1\r\n",
      "uvloop==0.19.0\r\n",
      "vec_noise==1.1.4\r\n",
      "virtualenv==20.21.0\r\n",
      "visions==0.7.5\r\n",
      "vtk==9.3.1\r\n",
      "Wand==0.6.13\r\n",
      "wandb==0.18.3\r\n",
      "wasabi==1.1.3\r\n",
      "watchdog==5.0.3\r\n",
      "watchfiles==0.22.0\r\n",
      "wavio==0.0.9\r\n",
      "wcwidth @ file:///home/conda/feedstock_root/build_artifacts/wcwidth_1704731205417/work\r\n",
      "weasel==0.4.1\r\n",
      "webcolors @ file:///home/conda/feedstock_root/build_artifacts/webcolors_1717667289718/work\r\n",
      "webencodings @ file:///home/conda/feedstock_root/build_artifacts/webencodings_1694681268211/work\r\n",
      "websocket-client @ file:///home/conda/feedstock_root/build_artifacts/websocket-client_1713923384721/work\r\n",
      "websockets==12.0\r\n",
      "Werkzeug==3.0.4\r\n",
      "whatthepatch==1.0.6\r\n",
      "widgetsnbextension==3.6.9\r\n",
      "witwidget==1.8.1\r\n",
      "woodwork==0.31.0\r\n",
      "wordcloud==1.9.3\r\n",
      "wrapt==1.16.0\r\n",
      "wurlitzer==3.1.1\r\n",
      "xarray==2024.9.0\r\n",
      "xarray-einstats==0.8.0\r\n",
      "xgboost==2.0.3\r\n",
      "xvfbwrapper==0.2.9\r\n",
      "xxhash==3.4.1\r\n",
      "xyzservices==2024.9.0\r\n",
      "y-py==0.6.2\r\n",
      "yapf==0.40.2\r\n",
      "yarl @ file:///home/conda/feedstock_root/build_artifacts/yarl_1705508292061/work\r\n",
      "ydata-profiling==4.10.0\r\n",
      "ydf==0.8.0\r\n",
      "yellowbrick==1.5\r\n",
      "ypy-websocket==0.8.4\r\n",
      "zipp @ file:///home/conda/feedstock_root/build_artifacts/zipp_1718013267051/work\r\n",
      "zstandard==0.23.0\r\n",
      "Note: you may need to restart the kernel to use updated packages.\n"
     ]
    }
   ],
   "source": [
    "%pip freeze"
   ]
  },
  {
   "cell_type": "code",
   "execution_count": 4,
   "id": "8b232f10",
   "metadata": {
    "execution": {
     "iopub.execute_input": "2024-11-23T20:22:01.628233Z",
     "iopub.status.busy": "2024-11-23T20:22:01.627791Z",
     "iopub.status.idle": "2024-11-23T20:22:01.634181Z",
     "shell.execute_reply": "2024-11-23T20:22:01.633079Z"
    },
    "papermill": {
     "duration": 0.02291,
     "end_time": "2024-11-23T20:22:01.636104",
     "exception": false,
     "start_time": "2024-11-23T20:22:01.613194",
     "status": "completed"
    },
    "tags": []
   },
   "outputs": [
    {
     "name": "stdout",
     "output_type": "stream",
     "text": [
      "Python 3.10.14\n"
     ]
    }
   ],
   "source": [
    "import sys\n",
    "version_info = sys.version_info\n",
    "print(f\"Python {version_info.major}.{version_info.minor}.{version_info.micro}\")"
   ]
  },
  {
   "cell_type": "code",
   "execution_count": 5,
   "id": "0759ff79",
   "metadata": {
    "execution": {
     "iopub.execute_input": "2024-11-23T20:22:01.664504Z",
     "iopub.status.busy": "2024-11-23T20:22:01.663563Z",
     "iopub.status.idle": "2024-11-23T20:22:02.725524Z",
     "shell.execute_reply": "2024-11-23T20:22:02.724567Z"
    },
    "id": "5DwxYIRavMST",
    "papermill": {
     "duration": 1.078585,
     "end_time": "2024-11-23T20:22:02.727826",
     "exception": false,
     "start_time": "2024-11-23T20:22:01.649241",
     "status": "completed"
    },
    "tags": []
   },
   "outputs": [],
   "source": [
    "import google.generativeai as genai\n",
    "from IPython.display import HTML, Markdown, display"
   ]
  },
  {
   "cell_type": "markdown",
   "id": "a6e756b0",
   "metadata": {
    "id": "DNEt2BCOvOJ1",
    "papermill": {
     "duration": 0.013343,
     "end_time": "2024-11-23T20:22:02.755225",
     "exception": false,
     "start_time": "2024-11-23T20:22:02.741882",
     "status": "completed"
    },
    "tags": []
   },
   "source": [
    "### Set up your API key\n",
    "\n",
    "To run the following cell, your API key must be stored it in a [Kaggle secret](https://www.kaggle.com/discussions/product-feedback/114053) named `GOOGLE_API_KEY`.\n",
    "\n",
    "If you don't already have an API key, you can grab one from [AI Studio](https://aistudio.google.com/app/apikey). You can find [detailed instructions in the docs](https://ai.google.dev/gemini-api/docs/api-key).\n",
    "\n",
    "To make the key available through Kaggle secrets, choose `Secrets` from the `Add-ons` menu and follow the instructions to add your key or enable it for this notebook."
   ]
  },
  {
   "cell_type": "code",
   "execution_count": 6,
   "id": "92f8497f",
   "metadata": {
    "execution": {
     "iopub.execute_input": "2024-11-23T20:22:02.783425Z",
     "iopub.status.busy": "2024-11-23T20:22:02.782689Z",
     "iopub.status.idle": "2024-11-23T20:22:03.085078Z",
     "shell.execute_reply": "2024-11-23T20:22:03.084282Z"
    },
    "id": "SHl0bkPCvayd",
    "papermill": {
     "duration": 0.319224,
     "end_time": "2024-11-23T20:22:03.087522",
     "exception": false,
     "start_time": "2024-11-23T20:22:02.768298",
     "status": "completed"
    },
    "tags": []
   },
   "outputs": [],
   "source": [
    "from kaggle_secrets import UserSecretsClient\n",
    "\n",
    "GOOGLE_API_KEY = UserSecretsClient().get_secret(\"GOOGLE_API_KEY\")\n",
    "genai.configure(api_key=GOOGLE_API_KEY)"
   ]
  },
  {
   "attachments": {
    "d2be9aab-2527-48af-b6cf-1f06cdd7c3a7.png": {
     "image/png": "[encoded data removed]"
    }
   },
   "cell_type": "markdown",
   "id": "ad381cae",
   "metadata": {
    "id": "4e720472fd86",
    "papermill": {
     "duration": 0.012654,
     "end_time": "2024-11-23T20:22:03.113550",
     "exception": false,
     "start_time": "2024-11-23T20:22:03.100896",
     "status": "completed"
    },
    "tags": []
   },
   "source": [
    "If you received an error response along the lines of `No user secrets exist for kernel id ...`, then you need to add your API key via `Add-ons`, `Secrets` **and** enable it.\n",
    "\n",
    "![Screenshot of the checkbox to enable GOOGLE_API_KEY secret](https://storage.googleapis.com/kaggle-media/Images/5gdai_sc_3.png)"
   ]
  },
  {
   "cell_type": "markdown",
   "id": "26e9bf98",
   "metadata": {
    "id": "H_YXCYIKvyZJ",
    "papermill": {
     "duration": 0.013171,
     "end_time": "2024-11-23T20:22:03.139626",
     "exception": false,
     "start_time": "2024-11-23T20:22:03.126455",
     "status": "completed"
    },
    "tags": []
   },
   "source": [
    "### Run your first prompt\n",
    "\n",
    "In this step, you will test that your API key is set up correctly by making a request. The `gemini-1.5-flash` model has been selected here."
   ]
  },
  {
   "cell_type": "code",
   "execution_count": 7,
   "id": "023ef3d3",
   "metadata": {
    "execution": {
     "iopub.execute_input": "2024-11-23T20:22:03.167834Z",
     "iopub.status.busy": "2024-11-23T20:22:03.167018Z",
     "iopub.status.idle": "2024-11-23T20:22:07.060291Z",
     "shell.execute_reply": "2024-11-23T20:22:07.059203Z"
    },
    "id": "BV1o0PmcvyJF",
    "papermill": {
     "duration": 3.909882,
     "end_time": "2024-11-23T20:22:07.062545",
     "exception": false,
     "start_time": "2024-11-23T20:22:03.152663",
     "status": "completed"
    },
    "tags": []
   },
   "outputs": [
    {
     "name": "stdout",
     "output_type": "stream",
     "text": [
      "Imagine you have a really smart puppy.  You teach it tricks, like \"sit\" and \"fetch.\"  The more you teach it, the better it gets at those tricks.\n",
      "\n",
      "AI is kind of like that, but instead of a puppy, it's a computer program.  We teach the computer program by showing it lots and lots of examples.  For example, we might show it thousands of pictures of cats and dogs, and tell it which is which.  Eventually, the computer program learns to tell the difference between cats and dogs all by itself, even if it sees a picture it's never seen before!\n",
      "\n",
      "AI can do lots of other cool things too, like:\n",
      "\n",
      "* **Playing games:**  Some AI programs are so good at chess or video games that they can beat even the best human players!\n",
      "* **Understanding your voice:**  That's how Siri or Alexa can understand what you're saying.\n",
      "* **Helping doctors:**  AI can help doctors find diseases in X-rays or other medical images.\n",
      "\n",
      "It's not magic, though!  It's just a really clever computer program that learns from examples.  And just like your puppy, it needs lots of training to become really good at what it does.\n",
      "\n"
     ]
    }
   ],
   "source": [
    "flash = genai.GenerativeModel('gemini-1.5-flash')\n",
    "response = flash.generate_content(\"Explain AI to me like I'm a kid.\")\n",
    "print(response.text)"
   ]
  },
  {
   "cell_type": "markdown",
   "id": "eab061b1",
   "metadata": {
    "id": "f60ed9d8ae41",
    "papermill": {
     "duration": 0.012846,
     "end_time": "2024-11-23T20:22:07.088906",
     "exception": false,
     "start_time": "2024-11-23T20:22:07.076060",
     "status": "completed"
    },
    "tags": []
   },
   "source": [
    "The response often comes back in markdown format, which you can render directly in this notebook."
   ]
  },
  {
   "cell_type": "code",
   "execution_count": 8,
   "id": "0089c5f5",
   "metadata": {
    "execution": {
     "iopub.execute_input": "2024-11-23T20:22:07.117178Z",
     "iopub.status.busy": "2024-11-23T20:22:07.116795Z",
     "iopub.status.idle": "2024-11-23T20:22:07.124865Z",
     "shell.execute_reply": "2024-11-23T20:22:07.123836Z"
    },
    "id": "c933e5e460a5",
    "papermill": {
     "duration": 0.0245,
     "end_time": "2024-11-23T20:22:07.126786",
     "exception": false,
     "start_time": "2024-11-23T20:22:07.102286",
     "status": "completed"
    },
    "tags": []
   },
   "outputs": [
    {
     "data": {
      "text/markdown": [
       "Imagine you have a really smart puppy.  You teach it tricks, like \"sit\" and \"fetch.\"  The more you teach it, the better it gets at those tricks.\n",
       "\n",
       "AI is kind of like that, but instead of a puppy, it's a computer program.  We teach the computer program by showing it lots and lots of examples.  For example, we might show it thousands of pictures of cats and dogs, and tell it which is which.  Eventually, the computer program learns to tell the difference between cats and dogs all by itself, even if it sees a picture it's never seen before!\n",
       "\n",
       "AI can do lots of other cool things too, like:\n",
       "\n",
       "* **Playing games:**  Some AI programs are so good at chess or video games that they can beat even the best human players!\n",
       "* **Understanding your voice:**  That's how Siri or Alexa can understand what you're saying.\n",
       "* **Helping doctors:**  AI can help doctors find diseases in X-rays or other medical images.\n",
       "\n",
       "It's not magic, though!  It's just a really clever computer program that learns from examples.  And just like your puppy, it needs lots of training to become really good at what it does.\n"
      ],
      "text/plain": [
       "<IPython.core.display.Markdown object>"
      ]
     },
     "execution_count": 8,
     "metadata": {},
     "output_type": "execute_result"
    }
   ],
   "source": [
    "Markdown(response.text)"
   ]
  },
  {
   "cell_type": "markdown",
   "id": "20d74bff",
   "metadata": {
    "id": "byx0pT9ZMW2Q",
    "papermill": {
     "duration": 0.012929,
     "end_time": "2024-11-23T20:22:07.153236",
     "exception": false,
     "start_time": "2024-11-23T20:22:07.140307",
     "status": "completed"
    },
    "tags": []
   },
   "source": [
    "### Start a chat\n",
    "\n",
    "The previous example uses a single-turn, text-in/text-out structure, but you can also set up a multi-turn chat structure too."
   ]
  },
  {
   "cell_type": "code",
   "execution_count": 9,
   "id": "ec248ec6",
   "metadata": {
    "execution": {
     "iopub.execute_input": "2024-11-23T20:22:07.181630Z",
     "iopub.status.busy": "2024-11-23T20:22:07.181242Z",
     "iopub.status.idle": "2024-11-23T20:22:10.853534Z",
     "shell.execute_reply": "2024-11-23T20:22:10.852373Z"
    },
    "id": "lV_S5ZL5MidD",
    "papermill": {
     "duration": 3.689701,
     "end_time": "2024-11-23T20:22:10.856068",
     "exception": false,
     "start_time": "2024-11-23T20:22:07.166367",
     "status": "completed"
    },
    "tags": []
   },
   "outputs": [
    {
     "name": "stdout",
     "output_type": "stream",
     "text": [
      "It's nice to meet you, Zlork!  How can I help you today?\n",
      "\n"
     ]
    }
   ],
   "source": [
    "chat = flash.start_chat(history=[])\n",
    "response = chat.send_message('Hello! My name is Zlork.')\n",
    "print(response.text)"
   ]
  },
  {
   "cell_type": "code",
   "execution_count": 10,
   "id": "59a229d7",
   "metadata": {
    "execution": {
     "iopub.execute_input": "2024-11-23T20:22:10.885327Z",
     "iopub.status.busy": "2024-11-23T20:22:10.884923Z",
     "iopub.status.idle": "2024-11-23T20:22:13.930320Z",
     "shell.execute_reply": "2024-11-23T20:22:13.929179Z"
    },
    "id": "7b0372c3c64a",
    "papermill": {
     "duration": 3.063006,
     "end_time": "2024-11-23T20:22:13.932509",
     "exception": false,
     "start_time": "2024-11-23T20:22:10.869503",
     "status": "completed"
    },
    "tags": []
   },
   "outputs": [
    {
     "name": "stdout",
     "output_type": "stream",
     "text": [
      "Did you know that some dinosaurs likely had feathers?  While we often picture them as scaly reptiles,  evidence shows that many theropod dinosaurs, the group that includes *Tyrannosaurus rex* and *Velociraptor*,  had feathers, ranging from simple filaments to complex, bird-like plumage. This discovery has revolutionized our understanding of dinosaur evolution and their relationship to birds.\n",
      "\n"
     ]
    }
   ],
   "source": [
    "response = chat.send_message('Can you tell something interesting about dinosaurs?')\n",
    "print(response.text)"
   ]
  },
  {
   "cell_type": "code",
   "execution_count": 11,
   "id": "9048397f",
   "metadata": {
    "execution": {
     "iopub.execute_input": "2024-11-23T20:22:13.961902Z",
     "iopub.status.busy": "2024-11-23T20:22:13.961520Z",
     "iopub.status.idle": "2024-11-23T20:22:15.052378Z",
     "shell.execute_reply": "2024-11-23T20:22:15.051259Z"
    },
    "id": "d3f9591392a7",
    "papermill": {
     "duration": 1.108289,
     "end_time": "2024-11-23T20:22:15.054545",
     "exception": false,
     "start_time": "2024-11-23T20:22:13.946256",
     "status": "completed"
    },
    "tags": []
   },
   "outputs": [
    {
     "name": "stdout",
     "output_type": "stream",
     "text": [
      "Yes, your name is Zlork.\n",
      "\n"
     ]
    }
   ],
   "source": [
    "# While you have the `chat` object around, the conversation state\n",
    "# persists. Confirm that by asking if it knows my name.\n",
    "response = chat.send_message('Do you remember what my name is?')\n",
    "print(response.text)"
   ]
  },
  {
   "cell_type": "markdown",
   "id": "bb0a312a",
   "metadata": {
    "id": "2KAjpr1200sW",
    "papermill": {
     "duration": 0.013132,
     "end_time": "2024-11-23T20:22:15.081221",
     "exception": false,
     "start_time": "2024-11-23T20:22:15.068089",
     "status": "completed"
    },
    "tags": []
   },
   "source": [
    "### Choose a model\n",
    "\n",
    "The Gemini API provides access to a number of models from the Gemini model family. Read about the available models and their capabilities on the [model overview page](https://ai.google.dev/gemini-api/docs/models/gemini).\n",
    "\n",
    "In this step you'll use the API to list all of the available models."
   ]
  },
  {
   "cell_type": "code",
   "execution_count": 12,
   "id": "bead4faf",
   "metadata": {
    "execution": {
     "iopub.execute_input": "2024-11-23T20:22:15.110414Z",
     "iopub.status.busy": "2024-11-23T20:22:15.109224Z",
     "iopub.status.idle": "2024-11-23T20:22:15.912257Z",
     "shell.execute_reply": "2024-11-23T20:22:15.911131Z"
    },
    "id": "uUUZa2uq2jDm",
    "papermill": {
     "duration": 0.819931,
     "end_time": "2024-11-23T20:22:15.914527",
     "exception": false,
     "start_time": "2024-11-23T20:22:15.094596",
     "status": "completed"
    },
    "tags": []
   },
   "outputs": [
    {
     "name": "stdout",
     "output_type": "stream",
     "text": [
      "models/chat-bison-001\n",
      "models/text-bison-001\n",
      "models/embedding-gecko-001\n",
      "models/gemini-1.0-pro-latest\n",
      "models/gemini-1.0-pro\n",
      "models/gemini-pro\n",
      "models/gemini-1.0-pro-001\n",
      "models/gemini-1.0-pro-vision-latest\n",
      "models/gemini-pro-vision\n",
      "models/gemini-1.5-pro-latest\n",
      "models/gemini-1.5-pro-001\n",
      "models/gemini-1.5-pro-002\n",
      "models/gemini-1.5-pro\n",
      "models/gemini-1.5-pro-exp-0801\n",
      "models/gemini-1.5-pro-exp-0827\n",
      "models/gemini-1.5-flash-latest\n",
      "models/gemini-1.5-flash-001\n",
      "models/gemini-1.5-flash-001-tuning\n",
      "models/gemini-1.5-flash\n",
      "models/gemini-1.5-flash-exp-0827\n",
      "models/gemini-1.5-flash-002\n",
      "models/gemini-1.5-flash-8b\n",
      "models/gemini-1.5-flash-8b-001\n",
      "models/gemini-1.5-flash-8b-latest\n",
      "models/gemini-1.5-flash-8b-exp-0827\n",
      "models/gemini-1.5-flash-8b-exp-0924\n",
      "models/learnlm-1.5-pro-experimental\n",
      "models/gemini-exp-1114\n",
      "models/gemini-exp-1121\n",
      "models/embedding-001\n",
      "models/text-embedding-004\n",
      "models/aqa\n"
     ]
    }
   ],
   "source": [
    "for model in genai.list_models():\n",
    "  print(model.name)"
   ]
  },
  {
   "cell_type": "markdown",
   "id": "c36a2b1b",
   "metadata": {
    "id": "rN49kSI54R1v",
    "papermill": {
     "duration": 0.013146,
     "end_time": "2024-11-23T20:22:15.941543",
     "exception": false,
     "start_time": "2024-11-23T20:22:15.928397",
     "status": "completed"
    },
    "tags": []
   },
   "source": [
    "The [`models.list`](https://ai.google.dev/api/models#method:-models.list) response also returns additional information about the model's capabilities, like the token limits and supported parameters."
   ]
  },
  {
   "cell_type": "code",
   "execution_count": 13,
   "id": "8d4c9fba",
   "metadata": {
    "execution": {
     "iopub.execute_input": "2024-11-23T20:22:15.970508Z",
     "iopub.status.busy": "2024-11-23T20:22:15.970077Z",
     "iopub.status.idle": "2024-11-23T20:22:16.756942Z",
     "shell.execute_reply": "2024-11-23T20:22:16.755681Z"
    },
    "id": "k7JJ1K6j4Rl8",
    "papermill": {
     "duration": 0.803911,
     "end_time": "2024-11-23T20:22:16.759093",
     "exception": false,
     "start_time": "2024-11-23T20:22:15.955182",
     "status": "completed"
    },
    "tags": []
   },
   "outputs": [
    {
     "name": "stdout",
     "output_type": "stream",
     "text": [
      "Model(name='models/gemini-1.5-flash',\n",
      "      base_model_id='',\n",
      "      version='001',\n",
      "      display_name='Gemini 1.5 Flash',\n",
      "      description=('Alias that points to the most recent stable version of Gemini 1.5 Flash, our '\n",
      "                   'fast and versatile multimodal model for scaling across diverse tasks.'),\n",
      "      input_token_limit=1000000,\n",
      "      output_token_limit=8192,\n",
      "      supported_generation_methods=['generateContent', 'countTokens'],\n",
      "      temperature=1.0,\n",
      "      max_temperature=2.0,\n",
      "      top_p=0.95,\n",
      "      top_k=40)\n"
     ]
    }
   ],
   "source": [
    "for model in genai.list_models():\n",
    "  if model.name == 'models/gemini-1.5-flash':\n",
    "    print(model)\n",
    "    break"
   ]
  },
  {
   "cell_type": "markdown",
   "id": "d3eaae93",
   "metadata": {
    "id": "5rU_UBlZdooM",
    "papermill": {
     "duration": 0.014963,
     "end_time": "2024-11-23T20:22:16.788103",
     "exception": false,
     "start_time": "2024-11-23T20:22:16.773140",
     "status": "completed"
    },
    "tags": []
   },
   "source": [
    "## Explore generation parameters\n",
    "\n"
   ]
  },
  {
   "cell_type": "markdown",
   "id": "80fd87cc",
   "metadata": {
    "id": "G7NfEizeipbW",
    "papermill": {
     "duration": 0.013394,
     "end_time": "2024-11-23T20:22:16.815148",
     "exception": false,
     "start_time": "2024-11-23T20:22:16.801754",
     "status": "completed"
    },
    "tags": []
   },
   "source": [
    "### Output length\n",
    "\n",
    "When generating text with an LLM, the output length affects cost and performance. Generating more tokens increases computation, leading to higher energy consumption, latency, and cost.\n",
    "\n",
    "To stop the model from generating tokens past a limit, you can specify the `max_output_tokens` parameter when using the Gemini API. Specifying this parameter does not influence the generation of the output tokens, so the output will not become more stylistically or textually succinct, but it will stop generating tokens once the specified length is reached. Prompt engineering may be required to generate a more complete output for your given limit."
   ]
  },
  {
   "cell_type": "code",
   "execution_count": 14,
   "id": "00fa6fa3",
   "metadata": {
    "execution": {
     "iopub.execute_input": "2024-11-23T20:22:16.844370Z",
     "iopub.status.busy": "2024-11-23T20:22:16.843951Z",
     "iopub.status.idle": "2024-11-23T20:22:19.604760Z",
     "shell.execute_reply": "2024-11-23T20:22:19.603547Z"
    },
    "id": "qVf23JsIi9ma",
    "papermill": {
     "duration": 2.778492,
     "end_time": "2024-11-23T20:22:19.607331",
     "exception": false,
     "start_time": "2024-11-23T20:22:16.828839",
     "status": "completed"
    },
    "tags": []
   },
   "outputs": [
    {
     "name": "stdout",
     "output_type": "stream",
     "text": [
      "## The Enduring Significance of Olives in Modern Society\n",
      "\n",
      "The olive, a seemingly humble fruit, holds a position of profound significance in modern society, extending far beyond its culinary applications.  From its historical roots in ancient civilizations to its current role in global economics, health, and culture, the olive tree and its fruit have woven themselves deeply into the fabric of our world.  Understanding its importance requires examining its multifaceted contributions to nutrition, the economy, the environment, and cultural heritage.\n",
      "\n",
      "The nutritional value of olives is undeniable.  Rich in monounsaturated fats, particularly oleic acid, olives are a cornerstone of the Mediterranean diet, renowned for its health benefits.  Oleic acid has been linked to improved cardiovascular health, reduced risk of certain cancers, and enhanced cognitive function.  Beyond the fat content, olives are a good source of vitamin E, a powerful antioxidant that protects cells from damage, and various polyphenols, which contribute to their anti-inflammatory properties.  These nutritional components have fuelled\n"
     ]
    }
   ],
   "source": [
    "short_model = genai.GenerativeModel(\n",
    "    'gemini-1.5-flash',\n",
    "    generation_config=genai.GenerationConfig(max_output_tokens=200))\n",
    "\n",
    "response = short_model.generate_content('Write a 1000 word essay on the importance of olives in modern society.')\n",
    "print(response.text)"
   ]
  },
  {
   "cell_type": "code",
   "execution_count": 15,
   "id": "dd864737",
   "metadata": {
    "execution": {
     "iopub.execute_input": "2024-11-23T20:22:19.639293Z",
     "iopub.status.busy": "2024-11-23T20:22:19.638869Z",
     "iopub.status.idle": "2024-11-23T20:22:20.915044Z",
     "shell.execute_reply": "2024-11-23T20:22:20.913966Z"
    },
    "id": "W-3kR2F5kdMR",
    "papermill": {
     "duration": 1.29524,
     "end_time": "2024-11-23T20:22:20.917435",
     "exception": false,
     "start_time": "2024-11-23T20:22:19.622195",
     "status": "completed"
    },
    "tags": []
   },
   "outputs": [
    {
     "name": "stdout",
     "output_type": "stream",
     "text": [
      "From sun-drenched boughs, a bounty small,\n",
      "The olive's gift, embracing all.\n",
      "In bottles dark, a pungent grace,\n",
      "A taste of time, in every place.\n",
      "\n",
      "From salad bowl to savory spread,\n",
      "Its oil sustains, both soul and bread.\n",
      "A symbol strong, of ancient lore,\n",
      "The olive thrives, forevermore.\n",
      "\n"
     ]
    }
   ],
   "source": [
    "response = short_model.generate_content('Write a short poem on the importance of olives in modern society.')\n",
    "print(response.text)"
   ]
  },
  {
   "cell_type": "code",
   "execution_count": 16,
   "id": "1d387c15",
   "metadata": {
    "execution": {
     "iopub.execute_input": "2024-11-23T20:22:20.946983Z",
     "iopub.status.busy": "2024-11-23T20:22:20.946583Z",
     "iopub.status.idle": "2024-11-23T20:22:27.697546Z",
     "shell.execute_reply": "2024-11-23T20:22:27.696468Z"
    },
    "papermill": {
     "duration": 6.768935,
     "end_time": "2024-11-23T20:22:27.700312",
     "exception": false,
     "start_time": "2024-11-23T20:22:20.931377",
     "status": "completed"
    },
    "tags": []
   },
   "outputs": [
    {
     "name": "stdout",
     "output_type": "stream",
     "text": [
      "1. Alabama - Montgomery\n",
      "2. Alaska - Juneau\n",
      "3. Arizona - Phoenix\n",
      "4. Arkansas - Little Rock\n",
      "5. California - Sacramento\n",
      "6. Colorado - Denver\n",
      "7. Connecticut - Hartford\n",
      "8. Delaware - Dover\n",
      "9. Florida - Tallahassee\n",
      "10. Georgia - Atlanta\n",
      "11. Hawaii - Honolulu\n",
      "12. Idaho - Boise\n",
      "13. Illinois - Springfield\n",
      "14. Indiana - Indianapolis\n",
      "15. Iowa - Des Moines\n",
      "16. Kansas - Topeka\n",
      "17. Kentucky - Frankfort\n",
      "18. Louisiana - Baton Rouge\n",
      "19. Maine - Augusta\n",
      "20. Maryland - Annapolis\n",
      "21. Massachusetts - Boston\n",
      "22. Michigan - Lansing\n",
      "23. Minnesota - Saint Paul\n",
      "24. Mississippi - Jackson\n",
      "25. Missouri - Jefferson City\n",
      "26. Montana - Helena\n",
      "27. Nebraska - Lincoln\n",
      "28. Nevada - Carson City\n",
      "29. New Hampshire - Concord\n",
      "30. New Jersey - Trenton\n",
      "31. New Mexico - Santa Fe\n",
      "32. New York - Albany\n",
      "33. North Carolina - Raleigh\n",
      "34. North Dakota - Bismarck\n",
      "35. Ohio - Columbus\n",
      "36. Oklahoma - Oklahoma City\n",
      "37. Oregon - Salem\n",
      "38. Pennsylvania - Harrisburg\n",
      "39. Rhode Island - Providence\n",
      "40. South Carolina - Columbia\n",
      "41. South Dakota - Pierre\n",
      "42. Tennessee - Nashville\n",
      "43. Texas - Austin\n",
      "44. Utah - Salt Lake City\n",
      "45. Vermont - Montpelier\n",
      "46. Virginia - Richmond\n",
      "47. Washington - Olympia\n",
      "\n"
     ]
    }
   ],
   "source": [
    "short_model = genai.GenerativeModel(\n",
    "    'gemini-1.5-flash',\n",
    "    generation_config=genai.GenerationConfig(max_output_tokens=340))\n",
    "\n",
    "response = short_model.generate_content('Provide a list of the 50 state capitals')\n",
    "print(response.text)"
   ]
  },
  {
   "cell_type": "markdown",
   "id": "14cd6027",
   "metadata": {
    "id": "3ZhDSLB6lqqB",
    "papermill": {
     "duration": 0.013681,
     "end_time": "2024-11-23T20:22:27.728387",
     "exception": false,
     "start_time": "2024-11-23T20:22:27.714706",
     "status": "completed"
    },
    "tags": []
   },
   "source": [
    "Explore with your own prompts. Try a prompt with a restrictive output limit and then adjust the prompt to work within that limit."
   ]
  },
  {
   "cell_type": "markdown",
   "id": "ccc47a15",
   "metadata": {
    "id": "alx-WaAvir_9",
    "papermill": {
     "duration": 0.015272,
     "end_time": "2024-11-23T20:22:27.757658",
     "exception": false,
     "start_time": "2024-11-23T20:22:27.742386",
     "status": "completed"
    },
    "tags": []
   },
   "source": [
    "### Temperature\n",
    "\n",
    "Temperature controls the degree of randomness in token selection. Higher temperatures result in a higher number of candidate tokens from which the next output token is selected, and can produce more diverse results, while lower temperatures have the opposite effect, such that a temperature of 0 results in greedy decoding, selecting the most probable token at each step.\n",
    "\n",
    "Temperature doesn't provide any guarantees of randomness, but it can be used to \"nudge\" the output somewhat.\n",
    "\n",
    "**Note that if you see a 429 Resource Exhausted error here, you may be able to edit the words in the prompt slightly to progress.**"
   ]
  },
  {
   "cell_type": "code",
   "execution_count": 17,
   "id": "5a68a229",
   "metadata": {
    "execution": {
     "iopub.execute_input": "2024-11-23T20:22:27.798781Z",
     "iopub.status.busy": "2024-11-23T20:22:27.798332Z",
     "iopub.status.idle": "2024-11-23T20:22:34.213730Z",
     "shell.execute_reply": "2024-11-23T20:22:34.212343Z"
    },
    "id": "SHraGMzqnZqt",
    "papermill": {
     "duration": 6.439343,
     "end_time": "2024-11-23T20:22:34.215959",
     "exception": false,
     "start_time": "2024-11-23T20:22:27.776616",
     "status": "completed"
    },
    "tags": []
   },
   "outputs": [
    {
     "name": "stdout",
     "output_type": "stream",
     "text": [
      "Maroon\n",
      " -------------------------\n",
      "Maroon\n",
      " -------------------------\n",
      "Aquamarine\n",
      " -------------------------\n",
      "Marigold\n",
      " -------------------------\n",
      "Maroon\n",
      " -------------------------\n"
     ]
    }
   ],
   "source": [
    "from google.api_core import retry\n",
    "\n",
    "high_temp_model = genai.GenerativeModel(\n",
    "    'gemini-1.5-flash',\n",
    "    generation_config=genai.GenerationConfig(temperature=2.0))\n",
    "\n",
    "\n",
    "# When running lots of queries, it's a good practice to use a retry policy so your code\n",
    "# automatically retries when hitting Resource Exhausted (quota limit) errors.\n",
    "retry_policy = {\n",
    "    \"retry\": retry.Retry(predicate=retry.if_transient_error, initial=10, multiplier=1.5, timeout=300)\n",
    "}\n",
    "\n",
    "for _ in range(5):\n",
    "  response = high_temp_model.generate_content('Pick a random colour... (respond in a single word)',\n",
    "                                              request_options=retry_policy)\n",
    "  if response.parts:\n",
    "    print(response.text, '-' * 25)"
   ]
  },
  {
   "cell_type": "markdown",
   "id": "7afd2de1",
   "metadata": {
    "id": "z3J4pCTuof7e",
    "papermill": {
     "duration": 0.014061,
     "end_time": "2024-11-23T20:22:34.244738",
     "exception": false,
     "start_time": "2024-11-23T20:22:34.230677",
     "status": "completed"
    },
    "tags": []
   },
   "source": [
    "Now try the same prompt with temperature set to zero. Note that the output is not completely deterministic, as other parameters affect token selection, but the results will tend to be more stable."
   ]
  },
  {
   "cell_type": "code",
   "execution_count": 18,
   "id": "bb22923c",
   "metadata": {
    "execution": {
     "iopub.execute_input": "2024-11-23T20:22:34.275304Z",
     "iopub.status.busy": "2024-11-23T20:22:34.274875Z",
     "iopub.status.idle": "2024-11-23T20:22:38.980899Z",
     "shell.execute_reply": "2024-11-23T20:22:38.979578Z"
    },
    "id": "clymkWv-PfUZ",
    "papermill": {
     "duration": 4.724069,
     "end_time": "2024-11-23T20:22:38.983226",
     "exception": false,
     "start_time": "2024-11-23T20:22:34.259157",
     "status": "completed"
    },
    "tags": []
   },
   "outputs": [
    {
     "name": "stdout",
     "output_type": "stream",
     "text": [
      "Maroon\n",
      " -------------------------\n",
      "Maroon\n",
      " -------------------------\n",
      "Maroon\n",
      " -------------------------\n",
      "Maroon\n",
      " -------------------------\n",
      "Maroon\n",
      " -------------------------\n"
     ]
    }
   ],
   "source": [
    "low_temp_model = genai.GenerativeModel(\n",
    "    'gemini-1.5-flash',\n",
    "    generation_config=genai.GenerationConfig(temperature=0.0))\n",
    "\n",
    "for _ in range(5):\n",
    "  response = low_temp_model.generate_content('Pick a random colour... (respond in a single word)',\n",
    "                                             request_options=retry_policy)\n",
    "  if response.parts:\n",
    "    print(response.text, '-' * 25)"
   ]
  },
  {
   "cell_type": "markdown",
   "id": "7e1109ff",
   "metadata": {
    "id": "St5nt3vzitsZ",
    "papermill": {
     "duration": 0.014161,
     "end_time": "2024-11-23T20:22:39.011923",
     "exception": false,
     "start_time": "2024-11-23T20:22:38.997762",
     "status": "completed"
    },
    "tags": []
   },
   "source": [
    "### Top-K and top-P\n",
    "\n",
    "Like temperature, top-K and top-P parameters are also used to control the diversity of the model's output.\n",
    "\n",
    "Top-K is a positive integer that defines the number of most probable tokens from which to select the output token. A top-K of 1 selects a single token, performing greedy decoding.\n",
    "\n",
    "Top-P defines the probability threshold that, once cumulatively exceeded, tokens stop being selected as candidates. A top-P of 0 is typically equivalent to greedy decoding, and a top-P of 1 typically selects every token in the model's vocabulary.\n",
    "\n",
    "When both are supplied, the Gemini API will filter top-K tokens first, then top-P and then finally sample from the candidate tokens using the supplied temperature.\n",
    "\n",
    "Run this example a number of times, change the settings and observe the change in output."
   ]
  },
  {
   "cell_type": "code",
   "execution_count": 19,
   "id": "521af719",
   "metadata": {
    "execution": {
     "iopub.execute_input": "2024-11-23T20:22:39.042882Z",
     "iopub.status.busy": "2024-11-23T20:22:39.042275Z",
     "iopub.status.idle": "2024-11-23T20:22:43.414165Z",
     "shell.execute_reply": "2024-11-23T20:22:43.413086Z"
    },
    "id": "lPlzpEavUV8F",
    "papermill": {
     "duration": 4.390177,
     "end_time": "2024-11-23T20:22:43.416529",
     "exception": false,
     "start_time": "2024-11-23T20:22:39.026352",
     "status": "completed"
    },
    "tags": []
   },
   "outputs": [
    {
     "name": "stdout",
     "output_type": "stream",
     "text": [
      "Bartholomew, a ginger tabby with a perpetually disgruntled expression, was bored. The sun streamed through the window, illuminating dust motes that danced like celestial bodies in his sunbeam. His humans were out, leaving him with a bowl of kibble and the unsettling silence of an empty house. A gnawing restlessness took hold, and Bartholomew, despite his usual aversion to adventure, decided he'd had enough of the mundane.\n",
      "\n",
      "He leaped onto the windowsill, surveying the world with disdainful green eyes. He could see Mrs. Higgins, the old lady next door, watering her geraniums, and a squirrel, bushy-tailed and bold, scampering across the fence. A wild, impossible thought struck him. He would climb the fence. \n",
      "\n",
      "With a burst of energy, Bartholomew shot over the fence, landing with a soft thud in Mrs. Higgins' garden. The world was a cacophony of unfamiliar smells, the air buzzing with the energy of a thousand insects. He stalked through the flower beds, a tiny ginger tiger surveying his new domain.\n",
      "\n",
      "He saw a bird, plump and unsuspecting, perched on a feeder. Bartholomew, fueled by an insatiable appetite for the unconventional, decided to give chase. He sprang, a furry projectile propelled by sheer audacity. The bird, startled, took flight, and Bartholomew, in hot pursuit, chased it through the neighborhood.\n",
      "\n",
      "He raced through gardens, scaling fences with a reckless abandon that surprised even himself. He dodged startled dogs, leaped over hedges, and navigated treacherous landscapes of flower pots and lawn furniture. The chase, fueled by instinct and a growing sense of exhilaration, took him further and further from home.\n",
      "\n",
      "He finally cornered the bird in a small, neglected park. It was perched on a rusty swing set, its tiny chest heaving. Bartholomew, panting but undeterred, circled it, ready to pounce. But then, something shifted. He saw the bird, not as prey, but as a fellow adventurer, its small eyes filled with fear.\n",
      "\n",
      "Bartholomew froze. The chase, the thrill, the instinct to hunt, all faded away. He knew he couldn't harm this creature, this tiny being who, like him, was just trying to navigate the world. He let out a low purr, a rumble of understanding. The bird, sensing no threat, chirped back. \n",
      "\n",
      "Suddenly, a voice called out, \"Bartholomew! Where have you been?\"\n",
      "\n",
      "It was his human, worried and frantic. Bartholomew looked back, at the familiar hand reaching out, at the warmth and comfort of home. The chase was over, the adventure complete. He let out a small meow, a sigh of contentment. The park, the bird, the daring escape – it was all a distant memory, a fleeting adventure that had broadened his horizons and filled him with a new sense of purpose.\n",
      "\n",
      "He hopped onto his human's hand, a small, ginger warrior returning from his conquest, and they went home, the afternoon sun painting their way with the colors of a shared experience. The world, Bartholomew realized, was bigger than his sunbeam, and he, a ginger cat with a disgruntled expression, was capable of more than he ever thought possible. He had found adventure, and he had found peace. He had found, perhaps, himself. \n",
      "\n"
     ]
    }
   ],
   "source": [
    "model = genai.GenerativeModel(\n",
    "    'gemini-1.5-flash-001',\n",
    "    generation_config=genai.GenerationConfig(\n",
    "        # These are the default values for gemini-1.5-flash-001.\n",
    "        temperature=1.0,\n",
    "        top_k=64,\n",
    "        top_p=0.95,\n",
    "    ))\n",
    "\n",
    "story_prompt = \"You are a creative writer. Write a short story about a cat who goes on an adventure.\"\n",
    "response = model.generate_content(story_prompt, request_options=retry_policy)\n",
    "print(response.text)"
   ]
  },
  {
   "cell_type": "code",
   "execution_count": 20,
   "id": "da0610f6",
   "metadata": {
    "execution": {
     "iopub.execute_input": "2024-11-23T20:22:43.448916Z",
     "iopub.status.busy": "2024-11-23T20:22:43.448092Z",
     "iopub.status.idle": "2024-11-23T20:22:47.318021Z",
     "shell.execute_reply": "2024-11-23T20:22:47.316858Z"
    },
    "papermill": {
     "duration": 3.888054,
     "end_time": "2024-11-23T20:22:47.320375",
     "exception": false,
     "start_time": "2024-11-23T20:22:43.432321",
     "status": "completed"
    },
    "tags": []
   },
   "outputs": [
    {
     "name": "stdout",
     "output_type": "stream",
     "text": [
      "Ember was not your typical dragon. He wasn't fond of hoarding gold, had little interest in fire, and loathed the taste of charred sheep. No, Ember craved adventure. He spent his days soaring through the emerald valleys of Whispering Glades, gazing longingly at the distant, shimmering Sea of Silver. The whispers of the ancient dragon elders spoke of a place beyond the Sea of Silver, a place of lost treasures and forgotten magic.  \n",
      "\n",
      "Ember, with his fiery red scales and a heart yearning for discovery, dreamt of sailing the sea, of unearthing these secrets. His dream was fueled by a crumpled, yellowed map, discovered in the dusty rafters of his forgotten mountain lair. It depicted an archipelago veiled in mist, said to hold the last fragments of a long-lost magical artifact known as the \"Heart of Fire\".\n",
      "\n",
      "His adventure began with a trembling step onto the back of a giant sea turtle, whom Ember convinced, after much sweet talking, to ferry him across the Silver Sea. He felt a strange, exhilarating fear as he dipped his massive wings in the churning, salty waves. He wasn't sure what dangers lay beyond the sea, but his burning curiosity propelled him onward.\n",
      "\n",
      "Days blurred into weeks as the salty wind whipped through Ember’s scales. He witnessed creatures of incredible beauty and fierce power. A colony of merfolk, with shimmering scales and voices like waves crashing on the shore, offered him a glimpse into their underwater world. He dodged a colossal squid that threatened to swallow him whole. And finally, through the swirling mists, he saw the land of his dreams.\n",
      "\n",
      "The Archipelago of Whispering Sands lay before him. It was a magical place, filled with shimmering islands, crystal waterfalls, and an ethereal, blue-hued mist that hung like a shroud. His journey wasn't easy. The land was filled with challenges: treacherous ravines guarded by gigantic rock-goblins, storms that threatened to toss him off the earth, and treacherous jungle vines that ensnared him with their suffocating grasp. But Ember was undeterred.  \n",
      "\n",
      "He met strange and wonderful creatures on his journey, each with a tale to tell. A wizened, three-eyed owl gave him guidance, a friendly, silver-furred lynx offered companionship, and a grumpy old tree, its roots burrowing deep within the earth, revealed to him the secrets of the ancient forest.  \n",
      "\n",
      "Through his perilous travels, Ember began to see the truth.  He wasn’t seeking a treasure, but rather the knowledge of the world, its hidden wonders, and its endless possibilities. He realized the \"Heart of Fire\" was not a physical artifact, but the indomitable spirit that burns within every creature, the fire of courage and adventure.\n",
      "\n",
      "After months of tireless exploration, he found the lost heart. Not in a hidden cave or guarded temple, but in the gentle murmur of the waves against the shore, in the soft glow of the moon that illuminated his path, and in the pulsating life that coursed through his own veins. \n",
      "\n",
      "Ember, the adventurer dragon, found what he was looking for all along. His heart, ablaze with the fiery passion for exploration, carried the true Heart of Fire. He flew back over the shimmering Silver Sea, his spirit soaring alongside his mighty wings. And when he reached his mountain lair, he no longer longed for more treasures. He simply looked out towards the horizon, ready for the next adventure, knowing he could find his own kind of magic anywhere he dared to look. \n",
      "\n"
     ]
    }
   ],
   "source": [
    "model = genai.GenerativeModel(\n",
    "    'gemini-1.5-flash-001',\n",
    "    generation_config=genai.GenerationConfig(\n",
    "        # These are the default values for gemini-1.5-flash-001.\n",
    "        temperature=2.0,\n",
    "        top_k=64,\n",
    "        top_p=0.95,\n",
    "    ))\n",
    "\n",
    "story_prompt = \"You are a creative writer. Write a short story about a dragon who goes on an adventure.\"\n",
    "response = model.generate_content(story_prompt, request_options=retry_policy)\n",
    "print(response.text)"
   ]
  },
  {
   "cell_type": "markdown",
   "id": "2d04f71f",
   "metadata": {
    "id": "rMrYs1koY6DX",
    "papermill": {
     "duration": 0.014782,
     "end_time": "2024-11-23T20:22:47.350226",
     "exception": false,
     "start_time": "2024-11-23T20:22:47.335444",
     "status": "completed"
    },
    "tags": []
   },
   "source": [
    "## Prompting\n",
    "\n",
    "This section contains some prompts from the chapter for you to try out directly in the API. Try changing the text here to see how each prompt performs with different instructions, more examples, or any other changes you can think of."
   ]
  },
  {
   "cell_type": "markdown",
   "id": "a12acc06",
   "metadata": {
    "id": "hhj_tQidZJP7",
    "papermill": {
     "duration": 0.01503,
     "end_time": "2024-11-23T20:22:47.380609",
     "exception": false,
     "start_time": "2024-11-23T20:22:47.365579",
     "status": "completed"
    },
    "tags": []
   },
   "source": [
    "### Zero-shot\n",
    "\n",
    "Zero-shot prompts are prompts that describe the request for the model directly.\n",
    "\n",
    "<table align=left>\n",
    "  <td>\n",
    "    <a target=\"_blank\" href=\"https://aistudio.google.com/prompts/1gzKKgDHwkAvexG5Up0LMtl1-6jKMKe4g\"><img src=\"https://ai.google.dev/site-assets/images/marketing/home/icon-ais.png\" style=\"height: 24px\" height=24/> Open in AI Studio</a>\n",
    "  </td>\n",
    "</table>"
   ]
  },
  {
   "cell_type": "code",
   "execution_count": 21,
   "id": "bdec6169",
   "metadata": {
    "execution": {
     "iopub.execute_input": "2024-11-23T20:22:47.412326Z",
     "iopub.status.busy": "2024-11-23T20:22:47.411939Z",
     "iopub.status.idle": "2024-11-23T20:22:47.870186Z",
     "shell.execute_reply": "2024-11-23T20:22:47.869042Z"
    },
    "id": "1_t-cwnDZzbH",
    "papermill": {
     "duration": 0.476684,
     "end_time": "2024-11-23T20:22:47.872402",
     "exception": false,
     "start_time": "2024-11-23T20:22:47.395718",
     "status": "completed"
    },
    "tags": []
   },
   "outputs": [
    {
     "name": "stdout",
     "output_type": "stream",
     "text": [
      "Sentiment: **POSITIVE**\n"
     ]
    }
   ],
   "source": [
    "model = genai.GenerativeModel(\n",
    "    'gemini-1.5-flash-001',\n",
    "    generation_config=genai.GenerationConfig(\n",
    "        temperature=0.1,\n",
    "        top_p=1,\n",
    "        max_output_tokens=5,\n",
    "    ))\n",
    "\n",
    "zero_shot_prompt = \"\"\"Classify movie reviews as POSITIVE, NEUTRAL or NEGATIVE.\n",
    "Review: \"Her\" is a disturbing study revealing the direction\n",
    "humanity is headed if AI is allowed to keep evolving,\n",
    "unchecked. I wish there were more movies like this masterpiece.\n",
    "Sentiment: \"\"\"\n",
    "\n",
    "response = model.generate_content(zero_shot_prompt, request_options=retry_policy)\n",
    "print(response.text)"
   ]
  },
  {
   "cell_type": "markdown",
   "id": "d3784673",
   "metadata": {
    "id": "3b5568bdeb11",
    "papermill": {
     "duration": 0.014592,
     "end_time": "2024-11-23T20:22:47.902050",
     "exception": false,
     "start_time": "2024-11-23T20:22:47.887458",
     "status": "completed"
    },
    "tags": []
   },
   "source": [
    "#### Enum mode\n",
    "\n",
    "The models are trained to generate text, and can sometimes produce more text than you may wish for. In the preceding example, the model will output the label, sometimes it can include a preceding \"Sentiment\" label, and without an output token limit, it may also add explanatory text afterwards.\n",
    "\n",
    "The Gemini API has an [Enum mode](https://github.com/google-gemini/cookbook/blob/main/quickstarts/Enum.ipynb) feature that allows you to constrain the output to a fixed set of values."
   ]
  },
  {
   "cell_type": "code",
   "execution_count": 22,
   "id": "65f4ef0f",
   "metadata": {
    "execution": {
     "iopub.execute_input": "2024-11-23T20:22:47.935045Z",
     "iopub.status.busy": "2024-11-23T20:22:47.934209Z",
     "iopub.status.idle": "2024-11-23T20:22:49.146060Z",
     "shell.execute_reply": "2024-11-23T20:22:49.144808Z"
    },
    "id": "ad118a56c598",
    "papermill": {
     "duration": 1.230686,
     "end_time": "2024-11-23T20:22:49.148468",
     "exception": false,
     "start_time": "2024-11-23T20:22:47.917782",
     "status": "completed"
    },
    "tags": []
   },
   "outputs": [
    {
     "name": "stdout",
     "output_type": "stream",
     "text": [
      "positive\n"
     ]
    }
   ],
   "source": [
    "import enum\n",
    "\n",
    "class Sentiment(enum.Enum):\n",
    "    POSITIVE = \"positive\"\n",
    "    NEUTRAL = \"neutral\"\n",
    "    NEGATIVE = \"negative\"\n",
    "\n",
    "\n",
    "model = genai.GenerativeModel(\n",
    "    'gemini-1.5-flash-001',\n",
    "    generation_config=genai.GenerationConfig(\n",
    "        response_mime_type=\"text/x.enum\",\n",
    "        response_schema=Sentiment\n",
    "    ))\n",
    "\n",
    "response = model.generate_content(zero_shot_prompt, request_options=retry_policy)\n",
    "print(response.text)"
   ]
  },
  {
   "cell_type": "markdown",
   "id": "ad369c74",
   "metadata": {
    "id": "0udiSwNbv45W",
    "papermill": {
     "duration": 0.01466,
     "end_time": "2024-11-23T20:22:49.178753",
     "exception": false,
     "start_time": "2024-11-23T20:22:49.164093",
     "status": "completed"
    },
    "tags": []
   },
   "source": [
    "### One-shot and few-shot\n",
    "\n",
    "Providing an example of the expected response is known as a \"one-shot\" prompt. When you provide multiple examples, it is a \"few-shot\" prompt.\n",
    "\n",
    "<table align=left>\n",
    "  <td>\n",
    "    <a target=\"_blank\" href=\"https://aistudio.google.com/prompts/1jjWkjUSoMXmLvMJ7IzADr_GxHPJVV2bg\"><img src=\"https://ai.google.dev/site-assets/images/marketing/home/icon-ais.png\" style=\"height: 24px\" height=24/> Open in AI Studio</a>\n",
    "  </td>\n",
    "</table>\n"
   ]
  },
  {
   "cell_type": "code",
   "execution_count": 23,
   "id": "e54958cd",
   "metadata": {
    "execution": {
     "iopub.execute_input": "2024-11-23T20:22:49.210484Z",
     "iopub.status.busy": "2024-11-23T20:22:49.210068Z",
     "iopub.status.idle": "2024-11-23T20:22:50.100333Z",
     "shell.execute_reply": "2024-11-23T20:22:50.098886Z"
    },
    "id": "hd4mVUukwOKZ",
    "papermill": {
     "duration": 0.909195,
     "end_time": "2024-11-23T20:22:50.102780",
     "exception": false,
     "start_time": "2024-11-23T20:22:49.193585",
     "status": "completed"
    },
    "tags": []
   },
   "outputs": [
    {
     "name": "stdout",
     "output_type": "stream",
     "text": [
      "```json\n",
      "{\n",
      "  \"size\": \"large\",\n",
      "  \"type\": \"normal\",\n",
      "  \"ingredients\": [\"cheese\", \"pineapple\"]\n",
      "}\n",
      "```\n",
      "\n"
     ]
    }
   ],
   "source": [
    "model = genai.GenerativeModel(\n",
    "    'gemini-1.5-flash-latest',\n",
    "    generation_config=genai.GenerationConfig(\n",
    "        temperature=0.1,\n",
    "        top_p=1,\n",
    "        max_output_tokens=250,\n",
    "    ))\n",
    "\n",
    "few_shot_prompt = \"\"\"Parse a customer's pizza order into valid JSON:\n",
    "\n",
    "EXAMPLE:\n",
    "I want a small pizza with cheese, tomato sauce, and pepperoni.\n",
    "JSON Response:\n",
    "```\n",
    "{\n",
    "\"size\": \"small\",\n",
    "\"type\": \"normal\",\n",
    "\"ingredients\": [\"cheese\", \"tomato sauce\", \"peperoni\"]\n",
    "}\n",
    "```\n",
    "\n",
    "EXAMPLE:\n",
    "Can I get a large pizza with tomato sauce, basil and mozzarella\n",
    "JSON Response:\n",
    "```\n",
    "{\n",
    "\"size\": \"large\",\n",
    "\"type\": \"normal\",\n",
    "\"ingredients\": [\"tomato sauce\", \"basil\", \"mozzarella\"]\n",
    "}\n",
    "\n",
    "ORDER:\n",
    "\"\"\"\n",
    "\n",
    "customer_order = \"Give me a large with cheese & pineapple\"\n",
    "\n",
    "\n",
    "response = model.generate_content([few_shot_prompt, customer_order], request_options=retry_policy)\n",
    "print(response.text)"
   ]
  },
  {
   "cell_type": "markdown",
   "id": "6a6e3362",
   "metadata": {
    "id": "021293096f08",
    "papermill": {
     "duration": 0.014502,
     "end_time": "2024-11-23T20:22:50.132418",
     "exception": false,
     "start_time": "2024-11-23T20:22:50.117916",
     "status": "completed"
    },
    "tags": []
   },
   "source": [
    "#### JSON mode\n",
    "\n",
    "To provide control over the schema, and to ensure that you only receive JSON (with no other text or markdown), you can use the Gemini API's [JSON mode](https://github.com/google-gemini/cookbook/blob/main/quickstarts/JSON_mode.ipynb). This forces the model to constrain decoding, such that token selection is guided by the supplied schema."
   ]
  },
  {
   "cell_type": "code",
   "execution_count": 24,
   "id": "19eeea4d",
   "metadata": {
    "execution": {
     "iopub.execute_input": "2024-11-23T20:22:50.163717Z",
     "iopub.status.busy": "2024-11-23T20:22:50.163349Z",
     "iopub.status.idle": "2024-11-23T20:22:51.629642Z",
     "shell.execute_reply": "2024-11-23T20:22:51.628585Z"
    },
    "id": "50fbf0260912",
    "papermill": {
     "duration": 1.484457,
     "end_time": "2024-11-23T20:22:51.631703",
     "exception": false,
     "start_time": "2024-11-23T20:22:50.147246",
     "status": "completed"
    },
    "tags": []
   },
   "outputs": [
    {
     "name": "stdout",
     "output_type": "stream",
     "text": [
      "{\"ingredients\": [\"apple\", \"chocolate\"], \"size\": \"large\", \"type\": \"dessert pizza\"}\n"
     ]
    }
   ],
   "source": [
    "import typing_extensions as typing\n",
    "\n",
    "class PizzaOrder(typing.TypedDict):\n",
    "    size: str\n",
    "    ingredients: list[str]\n",
    "    type: str\n",
    "\n",
    "\n",
    "model = genai.GenerativeModel(\n",
    "    'gemini-1.5-flash-latest',\n",
    "    generation_config=genai.GenerationConfig(\n",
    "        temperature=0.1,\n",
    "        response_mime_type=\"application/json\",\n",
    "        response_schema=PizzaOrder,\n",
    "    ))\n",
    "\n",
    "response = model.generate_content(\"Can I have a large dessert pizza with apple and chocolate\")\n",
    "print(response.text)"
   ]
  },
  {
   "cell_type": "markdown",
   "id": "6b968f44",
   "metadata": {
    "id": "4a93e338e57c",
    "papermill": {
     "duration": 0.014618,
     "end_time": "2024-11-23T20:22:51.661286",
     "exception": false,
     "start_time": "2024-11-23T20:22:51.646668",
     "status": "completed"
    },
    "tags": []
   },
   "source": [
    "### Chain of Thought (CoT)\n",
    "\n",
    "Direct prompting on LLMs can return answers quickly and (in terms of output token usage) efficiently, but they can be prone to hallucination. The answer may \"look\" correct (in terms of language and syntax) but is incorrect in terms of factuality and reasoning.\n",
    "\n",
    "Chain-of-Thought prompting is a technique where you instruct the model to output intermediate reasoning steps, and it typically gets better results, especially when combined with few-shot examples. It is worth noting that this technique doesn't completely eliminate hallucinations, and that it tends to cost more to run, due to the increased token count.\n",
    "\n",
    "As models like the Gemini family are trained to be \"chatty\" and provide reasoning steps, you can ask the model to be more direct in the prompt."
   ]
  },
  {
   "cell_type": "code",
   "execution_count": 25,
   "id": "47e695f9",
   "metadata": {
    "execution": {
     "iopub.execute_input": "2024-11-23T20:22:51.692594Z",
     "iopub.status.busy": "2024-11-23T20:22:51.692193Z",
     "iopub.status.idle": "2024-11-23T20:22:52.438874Z",
     "shell.execute_reply": "2024-11-23T20:22:52.437764Z"
    },
    "id": "5715555db1c1",
    "papermill": {
     "duration": 0.764955,
     "end_time": "2024-11-23T20:22:52.441155",
     "exception": false,
     "start_time": "2024-11-23T20:22:51.676200",
     "status": "completed"
    },
    "tags": []
   },
   "outputs": [
    {
     "name": "stdout",
     "output_type": "stream",
     "text": [
      "41\n",
      "\n"
     ]
    }
   ],
   "source": [
    "prompt = \"\"\"When I was 4 years old, my partner was 3 times my age. Now, I\n",
    "am 20 years old. How old is my partner? Return the answer directly.\"\"\"\n",
    "\n",
    "model = genai.GenerativeModel('gemini-1.5-flash-latest')\n",
    "response = model.generate_content(prompt, request_options=retry_policy)\n",
    "\n",
    "print(response.text)"
   ]
  },
  {
   "cell_type": "markdown",
   "id": "6a7a552e",
   "metadata": {
    "id": "e12b19677bfd",
    "papermill": {
     "duration": 0.014607,
     "end_time": "2024-11-23T20:22:52.470946",
     "exception": false,
     "start_time": "2024-11-23T20:22:52.456339",
     "status": "completed"
    },
    "tags": []
   },
   "source": [
    "Now try the same approach, but indicate to the model that it should \"think step by step\"."
   ]
  },
  {
   "cell_type": "code",
   "execution_count": 26,
   "id": "681d54d1",
   "metadata": {
    "execution": {
     "iopub.execute_input": "2024-11-23T20:22:52.502653Z",
     "iopub.status.busy": "2024-11-23T20:22:52.502255Z",
     "iopub.status.idle": "2024-11-23T20:22:54.047196Z",
     "shell.execute_reply": "2024-11-23T20:22:54.046041Z"
    },
    "id": "ffd7536a481f",
    "papermill": {
     "duration": 1.563219,
     "end_time": "2024-11-23T20:22:54.049464",
     "exception": false,
     "start_time": "2024-11-23T20:22:52.486245",
     "status": "completed"
    },
    "tags": []
   },
   "outputs": [
    {
     "name": "stdout",
     "output_type": "stream",
     "text": [
      "Step 1: Find the partner's age when you were 4.\n",
      "\n",
      "* When you were 4, your partner was 3 times your age, so they were 3 * 4 = 12 years old.\n",
      "\n",
      "Step 2: Find the age difference between you and your partner.\n",
      "\n",
      "* The age difference is 12 - 4 = 8 years.\n",
      "\n",
      "Step 3: Determine your partner's current age.\n",
      "\n",
      "* Since the age difference remains constant, and you are now 20, your partner is 20 + 8 = 28 years old.\n",
      "\n",
      "Therefore, your partner is now $\\boxed{28}$ years old.\n",
      "\n"
     ]
    }
   ],
   "source": [
    "prompt = \"\"\"When I was 4 years old, my partner was 3 times my age. Now,\n",
    "I am 20 years old. How old is my partner? Let's think step by step.\"\"\"\n",
    "\n",
    "response = model.generate_content(prompt, request_options=retry_policy)\n",
    "print(response.text)"
   ]
  },
  {
   "cell_type": "markdown",
   "id": "1e9e147e",
   "metadata": {
    "id": "oiLgBQJj0V53",
    "papermill": {
     "duration": 0.01486,
     "end_time": "2024-11-23T20:22:54.079505",
     "exception": false,
     "start_time": "2024-11-23T20:22:54.064645",
     "status": "completed"
    },
    "tags": []
   },
   "source": [
    "### ReAct: Reason and act\n",
    "\n",
    "In this example you will run a ReAct prompt directly in the Gemini API and perform the searching steps yourself. As this prompt follows a well-defined structure, there are frameworks available that wrap the prompt into easier-to-use APIs that make tool calls automatically, such as the LangChain example from the chapter.\n",
    "\n",
    "To try this out with the Wikipedia search engine, check out the [Searching Wikipedia with ReAct](https://github.com/google-gemini/cookbook/blob/main/examples/Search_Wikipedia_using_ReAct.ipynb) cookbook example.\n",
    "\n",
    "\n",
    "> Note: The prompt and in-context examples used here are from [https://github.com/ysymyth/ReAct](https://github.com/ysymyth/ReAct) which is published under a [MIT license](https://opensource.org/licenses/MIT), Copyright (c) 2023 Shunyu Yao.\n",
    "\n",
    "<table align=left>\n",
    "  <td>\n",
    "    <a target=\"_blank\" href=\"https://aistudio.google.com/prompts/18oo63Lwosd-bQ6Ay51uGogB3Wk3H8XMO\"><img src=\"https://ai.google.dev/site-assets/images/marketing/home/icon-ais.png\" style=\"height: 24px\" height=24/> Open in AI Studio</a>\n",
    "  </td>\n",
    "</table>\n"
   ]
  },
  {
   "cell_type": "code",
   "execution_count": 27,
   "id": "93e7e041",
   "metadata": {
    "execution": {
     "iopub.execute_input": "2024-11-23T20:22:54.113323Z",
     "iopub.status.busy": "2024-11-23T20:22:54.112924Z",
     "iopub.status.idle": "2024-11-23T20:22:54.119920Z",
     "shell.execute_reply": "2024-11-23T20:22:54.118778Z"
    },
    "id": "cBgyNJ5z0VSs",
    "papermill": {
     "duration": 0.02618,
     "end_time": "2024-11-23T20:22:54.121885",
     "exception": false,
     "start_time": "2024-11-23T20:22:54.095705",
     "status": "completed"
    },
    "tags": []
   },
   "outputs": [],
   "source": [
    "model_instructions = \"\"\"\n",
    "Solve a question answering task with interleaving Thought, Action, Observation steps. Thought can reason about the current situation,\n",
    "Observation is understanding relevant information from an Action's output and Action can be one of three types:\n",
    " (1) <search>entity</search>, which searches the exact entity on Wikipedia and returns the first paragraph if it exists. If not, it\n",
    "     will return some similar entities to search and you can try to search the information from those topics.\n",
    " (2) <lookup>keyword</lookup>, which returns the next sentence containing keyword in the current context. This only does exact matches,\n",
    "     so keep your searches short.\n",
    " (3) <finish>answer</finish>, which returns the answer and finishes the task.\n",
    "\"\"\"\n",
    "\n",
    "example1 = \"\"\"Question\n",
    "Musician and satirist Allie Goertz wrote a song about the \"The Simpsons\" character Milhouse, who Matt Groening named after who?\n",
    "\n",
    "Thought 1\n",
    "The question simplifies to \"The Simpsons\" character Milhouse is named after who. I only need to search Milhouse and find who it is named after.\n",
    "\n",
    "Action 1\n",
    "<search>Milhouse</search>\n",
    "\n",
    "Observation 1\n",
    "Milhouse Mussolini Van Houten is a recurring character in the Fox animated television series The Simpsons voiced by Pamela Hayden and created by Matt Groening.\n",
    "\n",
    "Thought 2\n",
    "The paragraph does not tell who Milhouse is named after, maybe I can look up \"named after\".\n",
    "\n",
    "Action 2\n",
    "<lookup>named after</lookup>\n",
    "\n",
    "Observation 2\n",
    "Milhouse was named after U.S. president Richard Nixon, whose middle name was Milhous.\n",
    "\n",
    "Thought 3\n",
    "Milhouse was named after U.S. president Richard Nixon, so the answer is Richard Nixon.\n",
    "\n",
    "Action 3\n",
    "<finish>Richard Nixon</finish>\n",
    "\"\"\"\n",
    "\n",
    "example2 = \"\"\"Question\n",
    "What is the elevation range for the area that the eastern sector of the Colorado orogeny extends into?\n",
    "\n",
    "Thought 1\n",
    "I need to search Colorado orogeny, find the area that the eastern sector of the Colorado orogeny extends into, then find the elevation range of the area.\n",
    "\n",
    "Action 1\n",
    "<search>Colorado orogeny</search>\n",
    "\n",
    "Observation 1\n",
    "The Colorado orogeny was an episode of mountain building (an orogeny) in Colorado and surrounding areas.\n",
    "\n",
    "Thought 2\n",
    "It does not mention the eastern sector. So I need to look up eastern sector.\n",
    "\n",
    "Action 2\n",
    "<lookup>eastern sector</lookup>\n",
    "\n",
    "Observation 2\n",
    "The eastern sector extends into the High Plains and is called the Central Plains orogeny.\n",
    "\n",
    "Thought 3\n",
    "The eastern sector of Colorado orogeny extends into the High Plains. So I need to search High Plains and find its elevation range.\n",
    "\n",
    "Action 3\n",
    "<search>High Plains</search>\n",
    "\n",
    "Observation 3\n",
    "High Plains refers to one of two distinct land regions\n",
    "\n",
    "Thought 4\n",
    "I need to instead search High Plains (United States).\n",
    "\n",
    "Action 4\n",
    "<search>High Plains (United States)</search>\n",
    "\n",
    "Observation 4\n",
    "The High Plains are a subregion of the Great Plains. From east to west, the High Plains rise in elevation from around 1,800 to 7,000 ft (550 to 2,130m).\n",
    "\n",
    "Thought 5\n",
    "High Plains rise in elevation from around 1,800 to 7,000 ft, so the answer is 1,800 to 7,000 ft.\n",
    "\n",
    "Action 5\n",
    "<finish>1,800 to 7,000 ft</finish>\n",
    "\"\"\"\n",
    "\n",
    "# Come up with more examples yourself, or take a look through https://github.com/ysymyth/ReAct/"
   ]
  },
  {
   "cell_type": "markdown",
   "id": "d73d9095",
   "metadata": {
    "id": "C3wbfstjTgey",
    "papermill": {
     "duration": 0.015162,
     "end_time": "2024-11-23T20:22:54.152303",
     "exception": false,
     "start_time": "2024-11-23T20:22:54.137141",
     "status": "completed"
    },
    "tags": []
   },
   "source": [
    "To capture a single step at a time, while ignoring any hallucinated Observation steps, you will use `stop_sequences` to end the generation process. The steps are `Thought`, `Action`, `Observation`, in that order."
   ]
  },
  {
   "cell_type": "code",
   "execution_count": 28,
   "id": "de463b8b",
   "metadata": {
    "execution": {
     "iopub.execute_input": "2024-11-23T20:22:54.187508Z",
     "iopub.status.busy": "2024-11-23T20:22:54.187081Z",
     "iopub.status.idle": "2024-11-23T20:22:57.470470Z",
     "shell.execute_reply": "2024-11-23T20:22:57.469382Z"
    },
    "id": "8mxrXRkRTdXm",
    "papermill": {
     "duration": 3.304314,
     "end_time": "2024-11-23T20:22:57.472771",
     "exception": false,
     "start_time": "2024-11-23T20:22:54.168457",
     "status": "completed"
    },
    "tags": []
   },
   "outputs": [
    {
     "name": "stdout",
     "output_type": "stream",
     "text": [
      "Thought 1\n",
      "I need to find the Transformers NLP paper and then find the authors and their ages to determine the youngest.  This will require multiple steps.\n",
      "\n",
      "Action 1\n",
      "<search>Transformers (NLP paper)</search>\n",
      "\n"
     ]
    }
   ],
   "source": [
    "question = \"\"\"Question\n",
    "Who was the youngest author listed on the transformers NLP paper?\n",
    "\"\"\"\n",
    "\n",
    "model = genai.GenerativeModel('gemini-1.5-flash-latest')\n",
    "react_chat = model.start_chat()\n",
    "\n",
    "# You will perform the Action, so generate up to, but not including, the Observation.\n",
    "config = genai.GenerationConfig(stop_sequences=[\"\\nObservation\"])\n",
    "\n",
    "resp = react_chat.send_message(\n",
    "    [model_instructions, example1, example2, question],\n",
    "    generation_config=config,\n",
    "    request_options=retry_policy)\n",
    "print(resp.text)"
   ]
  },
  {
   "cell_type": "markdown",
   "id": "232fb78b",
   "metadata": {
    "id": "aW2PIdLbVv3l",
    "papermill": {
     "duration": 0.014599,
     "end_time": "2024-11-23T20:22:57.502273",
     "exception": false,
     "start_time": "2024-11-23T20:22:57.487674",
     "status": "completed"
    },
    "tags": []
   },
   "source": [
    "Now you can perform this research yourself and supply it back to the model."
   ]
  },
  {
   "cell_type": "code",
   "execution_count": 29,
   "id": "c74f08d9",
   "metadata": {
    "execution": {
     "iopub.execute_input": "2024-11-23T20:22:57.533058Z",
     "iopub.status.busy": "2024-11-23T20:22:57.532630Z",
     "iopub.status.idle": "2024-11-23T20:22:59.576280Z",
     "shell.execute_reply": "2024-11-23T20:22:59.575213Z"
    },
    "id": "mLMc0DZaV9g2",
    "papermill": {
     "duration": 2.062055,
     "end_time": "2024-11-23T20:22:59.578893",
     "exception": false,
     "start_time": "2024-11-23T20:22:57.516838",
     "status": "completed"
    },
    "tags": []
   },
   "outputs": [
    {
     "name": "stdout",
     "output_type": "stream",
     "text": [
      "Thought 2\n",
      "The observation provides the authors of the paper, but not their ages. I cannot directly determine the youngest author from this information alone.  I need to find a source that lists their ages or birthdates.\n",
      "\n",
      "Action 2\n",
      "<search>Ashish Vaswani age</search>\n",
      "\n"
     ]
    }
   ],
   "source": [
    "observation = \"\"\"Observation 1\n",
    "[1706.03762] Attention Is All You Need\n",
    "Ashish Vaswani, Noam Shazeer, Niki Parmar, Jakob Uszkoreit, Llion Jones, Aidan N. Gomez, Lukasz Kaiser, Illia Polosukhin\n",
    "We propose a new simple network architecture, the Transformer, based solely on attention mechanisms, dispensing with recurrence and convolutions entirely.\n",
    "\"\"\"\n",
    "resp = react_chat.send_message(observation, generation_config=config, request_options=retry_policy)\n",
    "print(resp.text)"
   ]
  },
  {
   "cell_type": "markdown",
   "id": "838f0da6",
   "metadata": {
    "id": "bo0tzf4nX6dA",
    "papermill": {
     "duration": 0.015565,
     "end_time": "2024-11-23T20:22:59.611185",
     "exception": false,
     "start_time": "2024-11-23T20:22:59.595620",
     "status": "completed"
    },
    "tags": []
   },
   "source": [
    "This process repeats until the `<finish>` action is reached. You can continue running this yourself if you like, or try the [Wikipedia example](https://github.com/google-gemini/cookbook/blob/main/examples/Search_Wikipedia_using_ReAct.ipynb) to see a fully automated ReAct system at work."
   ]
  },
  {
   "cell_type": "markdown",
   "id": "eb431612",
   "metadata": {
    "id": "jPiZ_eIIaVPt",
    "papermill": {
     "duration": 0.014973,
     "end_time": "2024-11-23T20:22:59.641550",
     "exception": false,
     "start_time": "2024-11-23T20:22:59.626577",
     "status": "completed"
    },
    "tags": []
   },
   "source": [
    "## Code prompting"
   ]
  },
  {
   "cell_type": "markdown",
   "id": "32a6cc9b",
   "metadata": {
    "id": "ZinKamwXeR6C",
    "papermill": {
     "duration": 0.014874,
     "end_time": "2024-11-23T20:22:59.671597",
     "exception": false,
     "start_time": "2024-11-23T20:22:59.656723",
     "status": "completed"
    },
    "tags": []
   },
   "source": [
    "### Generating code\n",
    "\n",
    "The Gemini family of models can be used to generate code, configuration and scripts. Generating code can be helpful when learning to code, learning a new language or for rapidly generating a first draft.\n",
    "\n",
    "It's important to be aware that since LLMs can't reason, and can repeat training data, it's essential to read and test your code first, and comply with any relevant licenses.\n",
    "\n",
    "<table align=left>\n",
    "  <td>\n",
    "    <a target=\"_blank\" href=\"https://aistudio.google.com/prompts/1YX71JGtzDjXQkgdes8bP6i3oH5lCRKxv\"><img src=\"https://ai.google.dev/site-assets/images/marketing/home/icon-ais.png\" style=\"height: 24px\" height=24/> Open in AI Studio</a>\n",
    "  </td>\n",
    "</table>"
   ]
  },
  {
   "cell_type": "code",
   "execution_count": 30,
   "id": "555aba99",
   "metadata": {
    "execution": {
     "iopub.execute_input": "2024-11-23T20:22:59.704304Z",
     "iopub.status.busy": "2024-11-23T20:22:59.703871Z",
     "iopub.status.idle": "2024-11-23T20:23:06.008626Z",
     "shell.execute_reply": "2024-11-23T20:23:06.007394Z"
    },
    "id": "fOQP9pqmeUO1",
    "papermill": {
     "duration": 6.32395,
     "end_time": "2024-11-23T20:23:06.010805",
     "exception": false,
     "start_time": "2024-11-23T20:22:59.686855",
     "status": "completed"
    },
    "tags": []
   },
   "outputs": [
    {
     "data": {
      "text/markdown": [
       "```python\n",
       "def factorial(n):\n",
       "  if n == 0:\n",
       "    return 1\n",
       "  else:\n",
       "    return n * factorial(n-1)\n",
       "```\n"
      ],
      "text/plain": [
       "<IPython.core.display.Markdown object>"
      ]
     },
     "execution_count": 30,
     "metadata": {},
     "output_type": "execute_result"
    }
   ],
   "source": [
    "model = genai.GenerativeModel(\n",
    "    'gemini-1.5-flash-latest',\n",
    "    generation_config=genai.GenerationConfig(\n",
    "        temperature=1,\n",
    "        top_p=1,\n",
    "        max_output_tokens=1024,\n",
    "    ))\n",
    "\n",
    "# Gemini 1.5 models are very chatty, so it helps to specify they stick to the code.\n",
    "code_prompt = \"\"\"\n",
    "Write a Python function to calculate the factorial of a number. No explanation, provide only the code.\n",
    "\"\"\"\n",
    "\n",
    "response = model.generate_content(code_prompt, request_options=retry_policy)\n",
    "Markdown(response.text)"
   ]
  },
  {
   "cell_type": "markdown",
   "id": "2bf9514b",
   "metadata": {
    "id": "wlBMWSFhgVRQ",
    "papermill": {
     "duration": 0.01501,
     "end_time": "2024-11-23T20:23:06.041319",
     "exception": false,
     "start_time": "2024-11-23T20:23:06.026309",
     "status": "completed"
    },
    "tags": []
   },
   "source": [
    "### Code execution\n",
    "\n",
    "The Gemini API can automatically run generated code too, and will return the output.\n",
    "\n",
    "<table align=left>\n",
    "  <td>\n",
    "    <a target=\"_blank\" href=\"https://aistudio.google.com/prompts/11veFr_VYEwBWcLkhNLr-maCG0G8sS_7Z\"><img src=\"https://ai.google.dev/site-assets/images/marketing/home/icon-ais.png\" style=\"height: 24px\" height=24/> Open in AI Studio</a>\n",
    "  </td>\n",
    "</table>"
   ]
  },
  {
   "cell_type": "code",
   "execution_count": 31,
   "id": "4f09fda2",
   "metadata": {
    "execution": {
     "iopub.execute_input": "2024-11-23T20:23:06.074535Z",
     "iopub.status.busy": "2024-11-23T20:23:06.073583Z",
     "iopub.status.idle": "2024-11-23T20:23:13.118753Z",
     "shell.execute_reply": "2024-11-23T20:23:13.117601Z"
    },
    "id": "jT3OfWYfhjRL",
    "papermill": {
     "duration": 7.064093,
     "end_time": "2024-11-23T20:23:13.121002",
     "exception": false,
     "start_time": "2024-11-23T20:23:06.056909",
     "status": "completed"
    },
    "tags": []
   },
   "outputs": [
    {
     "data": {
      "text/markdown": [
       "To calculate the sum of the first 14 odd prime numbers, I will first generate a list of prime numbers and then sum the first 14 odd primes from that list.  I will use Python for this calculation.\n",
       "\n",
       "\n",
       "``` python\n",
       "import sympy\n",
       "\n",
       "def is_prime(n):\n",
       "    \"\"\"Checks if a number is prime.\"\"\"\n",
       "    return sympy.isprime(n)\n",
       "\n",
       "primes = []\n",
       "num = 2\n",
       "count = 0\n",
       "while count < 14:\n",
       "    if is_prime(num) and num % 2 != 0:  #check for odd prime numbers\n",
       "        primes.append(num)\n",
       "        count += 1\n",
       "    num += 1\n",
       "\n",
       "print(f\"The first 14 odd primes are: {primes}\")\n",
       "sum_of_primes = sum(primes)\n",
       "print(f\"The sum of the first 14 odd primes is: {sum_of_primes}\")\n",
       "\n",
       "\n",
       "```\n",
       "```\n",
       "The first 14 odd primes are: [3, 5, 7, 11, 13, 17, 19, 23, 29, 31, 37, 41, 43, 47]\n",
       "The sum of the first 14 odd primes is: 326\n",
       "\n",
       "```\n",
       "Therefore, the sum of the first 14 odd prime numbers is 326.\n"
      ],
      "text/plain": [
       "<IPython.core.display.Markdown object>"
      ]
     },
     "execution_count": 31,
     "metadata": {},
     "output_type": "execute_result"
    }
   ],
   "source": [
    "model = genai.GenerativeModel(\n",
    "    'gemini-1.5-flash-latest',\n",
    "    tools='code_execution',)\n",
    "\n",
    "code_exec_prompt = \"\"\"\n",
    "Calculate the sum of the first 14 prime numbers. Only consider the odd primes, and make sure you count them all.\n",
    "\"\"\"\n",
    "\n",
    "response = model.generate_content(code_exec_prompt, request_options=retry_policy)\n",
    "Markdown(response.text)"
   ]
  },
  {
   "cell_type": "markdown",
   "id": "edc1b232",
   "metadata": {
    "id": "ZspT1GSkjG6d",
    "papermill": {
     "duration": 0.015292,
     "end_time": "2024-11-23T20:23:13.152175",
     "exception": false,
     "start_time": "2024-11-23T20:23:13.136883",
     "status": "completed"
    },
    "tags": []
   },
   "source": [
    "While this looks like a single-part response, you can inspect the response to see the each of the steps: initial text, code generation, execution results, and final text summary."
   ]
  },
  {
   "cell_type": "code",
   "execution_count": 32,
   "id": "d44a5d2b",
   "metadata": {
    "execution": {
     "iopub.execute_input": "2024-11-23T20:23:13.184632Z",
     "iopub.status.busy": "2024-11-23T20:23:13.183842Z",
     "iopub.status.idle": "2024-11-23T20:23:13.189855Z",
     "shell.execute_reply": "2024-11-23T20:23:13.188787Z"
    },
    "id": "j4gQVzcRjRX-",
    "papermill": {
     "duration": 0.024588,
     "end_time": "2024-11-23T20:23:13.192030",
     "exception": false,
     "start_time": "2024-11-23T20:23:13.167442",
     "status": "completed"
    },
    "tags": []
   },
   "outputs": [
    {
     "name": "stdout",
     "output_type": "stream",
     "text": [
      "text: \"To calculate the sum of the first 14 odd prime numbers, I will first generate a list of prime numbers and then sum the first 14 odd primes from that list.  I will use Python for this calculation.\\n\\n\"\n",
      "\n",
      "-----\n",
      "executable_code {\n",
      "  language: PYTHON\n",
      "  code: \"\\nimport sympy\\n\\ndef is_prime(n):\\n    \\\"\\\"\\\"Checks if a number is prime.\\\"\\\"\\\"\\n    return sympy.isprime(n)\\n\\nprimes = []\\nnum = 2\\ncount = 0\\nwhile count < 14:\\n    if is_prime(num) and num % 2 != 0:  #check for odd prime numbers\\n        primes.append(num)\\n        count += 1\\n    num += 1\\n\\nprint(f\\\"The first 14 odd primes are: {primes}\\\")\\nsum_of_primes = sum(primes)\\nprint(f\\\"The sum of the first 14 odd primes is: {sum_of_primes}\\\")\\n\\n\"\n",
      "}\n",
      "\n",
      "-----\n",
      "code_execution_result {\n",
      "  outcome: OUTCOME_OK\n",
      "  output: \"The first 14 odd primes are: [3, 5, 7, 11, 13, 17, 19, 23, 29, 31, 37, 41, 43, 47]\\nThe sum of the first 14 odd primes is: 326\\n\"\n",
      "}\n",
      "\n",
      "-----\n",
      "text: \"Therefore, the sum of the first 14 odd prime numbers is 326.\\n\"\n",
      "\n",
      "-----\n"
     ]
    }
   ],
   "source": [
    "for part in response.candidates[0].content.parts:\n",
    "  print(part)\n",
    "  print(\"-----\")"
   ]
  },
  {
   "cell_type": "markdown",
   "id": "58d498f0",
   "metadata": {
    "id": "1gUX8QzCj4d5",
    "papermill": {
     "duration": 0.015225,
     "end_time": "2024-11-23T20:23:13.222843",
     "exception": false,
     "start_time": "2024-11-23T20:23:13.207618",
     "status": "completed"
    },
    "tags": []
   },
   "source": [
    "### Explaining code\n",
    "\n",
    "The Gemini family of models can explain code to you too.\n",
    "\n",
    "<table align=left>\n",
    "  <td>\n",
    "    <a target=\"_blank\" href=\"https://aistudio.google.com/prompts/1N7LGzWzCYieyOf_7bAG4plrmkpDNmUyb\"><img src=\"https://ai.google.dev/site-assets/images/marketing/home/icon-ais.png\" style=\"height: 24px\" height=24/> Open in AI Studio</a>\n",
    "  </td>\n",
    "</table>"
   ]
  },
  {
   "cell_type": "code",
   "execution_count": 33,
   "id": "a4762df9",
   "metadata": {
    "execution": {
     "iopub.execute_input": "2024-11-23T20:23:13.256147Z",
     "iopub.status.busy": "2024-11-23T20:23:13.255156Z",
     "iopub.status.idle": "2024-11-23T20:23:17.225855Z",
     "shell.execute_reply": "2024-11-23T20:23:17.224708Z"
    },
    "id": "7_jPMMoxkIEb",
    "papermill": {
     "duration": 3.989785,
     "end_time": "2024-11-23T20:23:17.228169",
     "exception": false,
     "start_time": "2024-11-23T20:23:13.238384",
     "status": "completed"
    },
    "tags": []
   },
   "outputs": [
    {
     "data": {
      "text/markdown": [
       "This file is a bash script that enhances your Git bash prompt to display information about your current Git repository.  In essence, it's a highly customizable Git prompt theme.\n",
       "\n",
       "You would use it to improve the appearance and information content of your command line prompt when working with Git repositories.  It shows things like:\n",
       "\n",
       "* **Current branch:**  The name of the branch you're on.\n",
       "* **Ahead/Behind status:** How many commits you're ahead of or behind the remote repository.\n",
       "* **Changes:** Indication of uncommitted changes (added, modified, deleted files).\n",
       "* **Stashed changes:** If you have any stashed changes.\n",
       "* **Status colors:** Uses colors to visually represent the status of your repository (e.g., green for clean, red for conflicts).\n",
       "* **Optional features:**  It has many configurable options, such as showing the username and repository URL,  customizable symbols, different themes, and more.\n",
       "\n",
       "The script achieves this by:\n",
       "\n",
       "1. **Running Git commands:** It uses `git` commands to retrieve information about the repository's status.\n",
       "2. **Parsing output:** It processes the output of those commands to extract relevant data.\n",
       "3. **Formatting the output:** It formats the extracted data into a string that's added to your bash prompt.\n",
       "4. **Using color codes:** It employs ANSI escape codes to add color to the prompt, enhancing readability.\n",
       "5. **Supporting themes:** It allows you to choose from pre-defined themes or create your own custom theme to personalize the look and feel.\n",
       "\n",
       "Essentially, it takes the default, somewhat spartan Git prompt and transforms it into a much more informative and visually appealing one.  The complexity in the script reflects the many configuration options it provides.\n"
      ],
      "text/plain": [
       "<IPython.core.display.Markdown object>"
      ]
     },
     "execution_count": 33,
     "metadata": {},
     "output_type": "execute_result"
    }
   ],
   "source": [
    "file_contents = !curl https://raw.githubusercontent.com/magicmonty/bash-git-prompt/refs/heads/master/gitprompt.sh\n",
    "\n",
    "explain_prompt = f\"\"\"\n",
    "Please explain what this file does at a very high level. What is it, and why would I use it?\n",
    "\n",
    "```\n",
    "{file_contents}\n",
    "```\n",
    "\"\"\"\n",
    "\n",
    "model = genai.GenerativeModel('gemini-1.5-flash-latest')\n",
    "\n",
    "response = model.generate_content(explain_prompt, request_options=retry_policy)\n",
    "Markdown(response.text)"
   ]
  },
  {
   "cell_type": "markdown",
   "id": "dc2c368d",
   "metadata": {
    "id": "2a8266d97ce5",
    "papermill": {
     "duration": 0.01562,
     "end_time": "2024-11-23T20:23:17.259905",
     "exception": false,
     "start_time": "2024-11-23T20:23:17.244285",
     "status": "completed"
    },
    "tags": []
   },
   "source": [
    "## Learn more\n",
    "\n",
    "To learn more about prompting in depth:\n",
    "\n",
    "* Check out the whitepaper issued with today's content,\n",
    "* Try out the apps listed at the top of this notebook ([TextFX](https://textfx.withgoogle.com/), [SQL Talk](https://sql-talk-r5gdynozbq-uc.a.run.app/) and [NotebookLM](https://notebooklm.google/)),\n",
    "* Read the [Introduction to Prompting](https://ai.google.dev/gemini-api/docs/prompting-intro) from the Gemini API docs,\n",
    "* Explore the Gemini API's [prompt gallery](https://ai.google.dev/gemini-api/prompts) and try them out in AI Studio,\n",
    "* Check out the Gemini API cookbook for [inspirational examples](https://github.com/google-gemini/cookbook/blob/main/examples/) and [educational quickstarts](https://github.com/google-gemini/cookbook/blob/main/quickstarts/).\n",
    "\n",
    "And please share anything exciting you have tried in the Discord!"
   ]
  }
 ],
 "metadata": {
  "colab": {
   "name": "day-1-prompting.ipynb",
   "toc_visible": true
  },
  "kaggle": {
   "accelerator": "none",
   "dataSources": [],
   "dockerImageVersionId": 30786,
   "isGpuEnabled": false,
   "isInternetEnabled": true,
   "language": "python",
   "sourceType": "notebook"
  },
  "kernelspec": {
   "display_name": "Python 3",
   "language": "python",
   "name": "python3"
  },
  "language_info": {
   "codemirror_mode": {
    "name": "ipython",
    "version": 3
   },
   "file_extension": ".py",
   "mimetype": "text/x-python",
   "name": "python",
   "nbconvert_exporter": "python",
   "pygments_lexer": "ipython3",
   "version": "3.10.14"
  },
  "papermill": {
   "default_parameters": {},
   "duration": 110.156768,
   "end_time": "2024-11-23T20:23:17.897099",
   "environment_variables": {},
   "exception": null,
   "input_path": "__notebook__.ipynb",
   "output_path": "__notebook__.ipynb",
   "parameters": {},
   "start_time": "2024-11-23T20:21:27.740331",
   "version": "2.6.0"
  }
 },
 "nbformat": 4,
 "nbformat_minor": 5
}
