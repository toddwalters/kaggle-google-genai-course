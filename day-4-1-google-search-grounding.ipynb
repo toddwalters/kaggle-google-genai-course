{
 "cells": [
  {
   "cell_type": "markdown",
   "metadata": {
    "id": "kokPyXQaY3xI"
   },
   "source": [
    "##### Copyright 2024 Google LLC."
   ]
  },
  {
   "cell_type": "code",
   "execution_count": null,
   "metadata": {
    "cellView": "form",
    "execution": {
     "iopub.execute_input": "2024-11-14T03:07:13.107931Z",
     "iopub.status.busy": "2024-11-14T03:07:13.107488Z",
     "iopub.status.idle": "2024-11-14T03:07:13.131652Z",
     "shell.execute_reply": "2024-11-14T03:07:13.130149Z",
     "shell.execute_reply.started": "2024-11-14T03:07:13.107883Z"
    },
    "id": "StB_cTIkY1ZG",
    "jupyter": {
     "source_hidden": true
    },
    "trusted": true
   },
   "outputs": [],
   "source": [
    "# @title Licensed under the Apache License, Version 2.0 (the \"License\");\n",
    "# you may not use this file except in compliance with the License.\n",
    "# You may obtain a copy of the License at\n",
    "#\n",
    "# https://www.apache.org/licenses/LICENSE-2.0\n",
    "#\n",
    "# Unless required by applicable law or agreed to in writing, software\n",
    "# distributed under the License is distributed on an \"AS IS\" BASIS,\n",
    "# WITHOUT WARRANTIES OR CONDITIONS OF ANY KIND, either express or implied.\n",
    "# See the License for the specific language governing permissions and\n",
    "# limitations under the License."
   ]
  },
  {
   "cell_type": "markdown",
   "metadata": {
    "id": "q-mcOl0JY8Xg"
   },
   "source": [
    "# Day 4 - Google Search grounding with the Gemini API\n",
    "\n",
    "Welcome back to the [Kaggle and Google 5-day Generative AI course](https://www.kaggle.com/learn-guide/5-day-genai)!\n",
    "\n",
    "🎒 **Today’s Assignment**\n",
    "\n",
    "1. Complete Unit 4: “Domain-Specific LLMs”, which is:\n",
    "\n",
    "   - *Optional* - Listen to the summary [podcast episode](https://youtu.be/b1a4ZOQ8XdI) for this unit (created by [NotebookLM](https://notebooklm.google.com/)).\n",
    "   - Read the [“Solving Domain-Specific Problems Using LLMs” whitepaper\"](https://www.kaggle.com/whitepaper-solving-domains-specific-problems-using-llms).\n",
    "   - Complete these code labs on Kaggle:\n",
    "      1. [Use](https://www.kaggle.com/code/markishere/day-4-google-search-grounding) Google Search data in generation - (**This notebook**)\n",
    "      2. [Tune](https://www.kaggle.com/code/markishere/day-4-fine-tuning-a-custom-model) a Gemini model for a custom task\n",
    "2. Watch the [YouTube livestream recording](https://www.youtube.com/watch?v=odvuLMJWUSU&list=PLqFaTIg4myu-b1PlxitQdY0UYIbys-2es&index=4). Paige Bailey will be joined by expert speakers from Google - Scott Coull, Antonio Gulli, Anant Nawalgaria, Christopher Semturs, and Umesh Shankar. to discuss domain specific models.\n",
    "\n",
    "💡 **What You’ll Learn**\n",
    "\n",
    "In today’s reading, you’ll delve into the creation and application of specialized LLMs like SecLM and MedLM/Med-PaLM, with insights from the researchers who built them.\n",
    "\n",
    "In this notebook, you will use [Google Search](https://google.com/) results with the Gemini API in a technique called grounding, where the model is connected to verifiable sources of information. Using search grounding is similar to using the RAG system you implemented earlier in the week, but the Gemini API automates a lot of it for you. The model generates Google Search queries and invokes the searches automatically, retrieving relevant data from Google's index of the web and providing links to search suggestions that support the query, so your users can verify the sources.\n",
    "\n",
    "## Enable billing or use AI Studio\n",
    "\n",
    "**Important!**\n",
    "\n",
    "There are two ways to complete this codelab. Either through Google AI Studio, or through the API.\n",
    "\n",
    "Grounding with Google Search is only available through the API for **\"pay-as-you-go\"** accounts. However, you can try the feature for **no charge** in [Google AI Studio](https://aistudio.google.com/). **You are not required to enable billing to complete this course.**\n",
    "\n",
    "Continue on with this guide from the `API: Get set up` section if you have enabled billing for your API key, or continue to `No charge: Use Google AI Studio` to try out the feature free of charge.\n",
    "\n",
    "Note that Grounding with Google Search has been released as a limited launch and is not available in all locations. The EEA, UK, and CH regions will be supported at a later date. Running this notebook is **optional** and not required for the 5-day GenAI course.\n",
    "\n",
    "Check out the following links related to billing:\n",
    "\n",
    "* Learn how to [enable billing](https://ai.google.dev/gemini-api/docs/billing#enable-cloud-billing)\n",
    "* Learn about Google Cloud's [$300 credit for new customers](https://cloud.google.com/free/docs/free-cloud-features) and [other no-cost options](https://cloud.google.com/free)\n",
    "* View the [pricing page](https://ai.google.dev/pricing)"
   ]
  },
  {
   "cell_type": "markdown",
   "metadata": {},
   "source": [
    "## No charge: Use Google AI Studio\n",
    "\n",
    "If you wish to try out grounding with Google Search without enabling billing, you can use AI Studio. There are `Open in AI Studio` links in this codelab, or you can follow this short section to learn how to enable and use the feature for your own queries.\n",
    "\n",
    "### Open AI Studio\n",
    "\n",
    "Start by going to [AI Studio](https://aistudio.google.com/prompts/new_chat). You should be in the \"New chat\" interface.\n",
    "\n",
    "Search Grounding requires a **002** model, so be sure to select one, such as `Gemini Flash 002`.\n",
    "\n",
    "![New chat in AI Studio](https://storage.googleapis.com/generativeai-downloads/kaggle/ais-newchat.png)\n",
    "\n",
    "### Ask a question\n",
    "\n",
    "Now enter a prompt into the chat interface. Try asking something that is timely and might require recent information to answer, like a recent sport score. For this query, grounding will be **disabled** by default.\n",
    "\n",
    "This screenshow shows the response for `What were the top halloween costumes this year?`. Every execution will be different but typically the model talks about 2023, and hedges its responses saying it doesn't have access to specific information resulting in a general comment, rather than specific answers.\n",
    "\n",
    "![Sample question-answer pair without grounding](https://storage.googleapis.com/generativeai-downloads/kaggle/halloween-ungrounded.png)\n",
    "\n",
    "### Enable grounding\n",
    "\n",
    "On the right-hand sidebar, under the `Tools` section. Find and enable the `Grounding` option.\n",
    "\n",
    "![Enable grounding button](https://storage.googleapis.com/generativeai-downloads/kaggle/enable-grounding.png)\n",
    "\n",
    "Now re-run your question by hovering over the Use prompt in the chat history, and pressing the `Edit` button that appears in the upper corner.\n",
    "\n",
    "![Edit prompt button](https://storage.googleapis.com/generativeai-downloads/kaggle/edit-button.png)\n",
    "\n",
    "The `Edit` button will turn into the Gemini ✨ icon that you can press to re-run your prompt.\n",
    "\n",
    "![Re-run prompt button](https://storage.googleapis.com/generativeai-downloads/kaggle/re-run-button.png)\n",
    "\n",
    "You should now see a response generated that references sources from Google Search.\n",
    "\n",
    "![Response with grounded sources from Google!](https://storage.googleapis.com/generativeai-downloads/kaggle/halloween-grounded.png)\n",
    "\n",
    "For an explanation of `Dynamic retrieval` you can see the `Dynamic grounding` section at the end of this notebook.\n",
    "\n",
    "\n",
    "### Try your own queries\n",
    "\n",
    "Explore this interface and try some other queries. Share what works well in the [Discord](https://discord.com/channels/1101210829807956100/1303438361117069363)! You can start from [this blank template](https://aistudio.google.com/app/prompts/1FZtxKLFZIJ1p_0rICu8K2CNIF1tkAnf4) that has search grounding enabled.\n",
    "\n",
    "The remaining steps require an API key with billing enabled. They are not required to complete this course; if you have tried grounding in AI Studio you are done for this notebook."
   ]
  },
  {
   "cell_type": "markdown",
   "metadata": {
    "id": "Qcyq976Gbwpo"
   },
   "source": [
    "## API: Get set up\n",
    "\n",
    "This section requires an API key with billing enabled. Start by installing and importing the Gemini API Python SDK."
   ]
  },
  {
   "cell_type": "code",
   "execution_count": null,
   "metadata": {
    "execution": {
     "iopub.execute_input": "2024-11-14T03:07:13.134186Z",
     "iopub.status.busy": "2024-11-14T03:07:13.133759Z",
     "iopub.status.idle": "2024-11-14T03:07:40.647753Z",
     "shell.execute_reply": "2024-11-14T03:07:40.646494Z",
     "shell.execute_reply.started": "2024-11-14T03:07:13.134142Z"
    },
    "id": "1ZLC4ORSbqme",
    "trusted": true
   },
   "outputs": [],
   "source": [
    "%pip install -q -U 'google-generativeai>=0.8.3'"
   ]
  },
  {
   "cell_type": "markdown",
   "metadata": {},
   "source": [
    "You do not need to restart the kernel."
   ]
  },
  {
   "cell_type": "code",
   "execution_count": null,
   "metadata": {
    "execution": {
     "iopub.execute_input": "2024-11-14T03:07:40.64964Z",
     "iopub.status.busy": "2024-11-14T03:07:40.649272Z",
     "iopub.status.idle": "2024-11-14T03:07:41.874772Z",
     "shell.execute_reply": "2024-11-14T03:07:41.873852Z",
     "shell.execute_reply.started": "2024-11-14T03:07:40.649603Z"
    },
    "id": "FNkHtOAmbt2B",
    "trusted": true
   },
   "outputs": [],
   "source": [
    "import google.generativeai as genai\n",
    "from IPython.display import Markdown, HTML, display"
   ]
  },
  {
   "cell_type": "markdown",
   "metadata": {
    "id": "_NO9cdffb4KR"
   },
   "source": [
    "### Set up your API key\n",
    "\n",
    "To run the following cell, your API key must be stored it in a [Kaggle secret](https://www.kaggle.com/discussions/product-feedback/114053) named `GOOGLE_API_KEY`.\n",
    "\n",
    "If you don't already have an API key, you can grab one from [AI Studio](https://aistudio.google.com/app/apikey). You can find [detailed instructions in the docs](https://ai.google.dev/gemini-api/docs/api-key).\n",
    "\n",
    "To make the key available through Kaggle secrets, choose `Secrets` from the `Add-ons` menu and follow the instructions to add your key or enable it for this notebook."
   ]
  },
  {
   "cell_type": "code",
   "execution_count": null,
   "metadata": {
    "execution": {
     "iopub.execute_input": "2024-11-14T03:07:41.879492Z",
     "iopub.status.busy": "2024-11-14T03:07:41.878984Z",
     "iopub.status.idle": "2024-11-14T03:07:42.134463Z",
     "shell.execute_reply": "2024-11-14T03:07:42.133487Z",
     "shell.execute_reply.started": "2024-11-14T03:07:41.879453Z"
    },
    "id": "8NAmACYHb5DK",
    "trusted": true
   },
   "outputs": [],
   "source": [
    "from kaggle_secrets import UserSecretsClient\n",
    "\n",
    "GOOGLE_API_KEY = UserSecretsClient().get_secret(\"GOOGLE_API_KEY\")\n",
    "genai.configure(api_key=GOOGLE_API_KEY)"
   ]
  },
  {
   "cell_type": "markdown",
   "metadata": {
    "id": "cfb5d41c4a03"
   },
   "source": [
    "If you received an error response along the lines of `No user secrets exist for kernel id ...`, then you need to add your API key via `Add-ons`, `Secrets` **and** enable it.\n",
    "\n",
    "![Screenshot of the checkbox to enable GOOGLE_API_KEY secret](https://storage.googleapis.com/kaggle-media/Images/5gdai_sc_3.png)"
   ]
  },
  {
   "cell_type": "markdown",
   "metadata": {
    "id": "Rvre6fOrcHi2"
   },
   "source": [
    "### Explore available models\n",
    "\n",
    "Search grounding is a tool available in the `-002` series of models. Find a model that supports it through the [`models.list`](https://ai.google.dev/api/models#method:-models.list) endpoint. You can also find more information about different model capabilities on [the models page](https://ai.google.dev/gemini-api/docs/models/gemini)."
   ]
  },
  {
   "cell_type": "code",
   "execution_count": null,
   "metadata": {
    "execution": {
     "iopub.execute_input": "2024-11-14T03:07:42.135952Z",
     "iopub.status.busy": "2024-11-14T03:07:42.135655Z",
     "iopub.status.idle": "2024-11-14T03:07:43.057291Z",
     "shell.execute_reply": "2024-11-14T03:07:43.056174Z",
     "shell.execute_reply.started": "2024-11-14T03:07:42.135921Z"
    },
    "id": "p6G2H6N4dT02",
    "trusted": true
   },
   "outputs": [],
   "source": [
    "for model in genai.list_models():\n",
    "    if \"002\" in model.name:\n",
    "        print(model.name)"
   ]
  },
  {
   "cell_type": "markdown",
   "metadata": {
    "id": "HW5RVNUierrQ"
   },
   "source": [
    "## Use search grounding\n",
    "\n",
    "To enable search grounding, you specify it as a tool: `google_search_retrieval`. Like other tools, this can be supplied as a parameter to the model (to use on all chat turns or calls to `generate_content`), or it can be supplied per-turn to `chat.send_message`.\n",
    "\n",
    "\n",
    "<table align=left>\n",
    "  <td>\n",
    "    <a target=\"_blank\" href=\"https://aistudio.google.com/app/prompts/1GTkO-gH4vd6G7LpBJ6Ay7U1OaJer7yDD\"><img src=\"https://ai.google.dev/site-assets/images/marketing/home/icon-ais.png\" style=\"height: 24px\" height=24/> Open in AI Studio</a>\n",
    "  </td>\n",
    "</table>"
   ]
  },
  {
   "cell_type": "code",
   "execution_count": null,
   "metadata": {
    "execution": {
     "iopub.execute_input": "2024-11-14T03:07:43.059052Z",
     "iopub.status.busy": "2024-11-14T03:07:43.058686Z",
     "iopub.status.idle": "2024-11-14T03:07:45.165723Z",
     "shell.execute_reply": "2024-11-14T03:07:45.164598Z",
     "shell.execute_reply.started": "2024-11-14T03:07:43.059005Z"
    },
    "id": "JZmdaOlVfCgd",
    "trusted": true
   },
   "outputs": [],
   "source": [
    "# Ask for information without search grounding.\n",
    "model = genai.GenerativeModel(\"gemini-1.5-flash-002\")\n",
    "\n",
    "response = model.generate_content(\"When and where is Taylor Swift's next concert?\")\n",
    "\n",
    "Markdown(response.text)"
   ]
  },
  {
   "cell_type": "markdown",
   "metadata": {},
   "source": [
    "Now try with grounding enabled.\n",
    "\n",
    "<table align=left>\n",
    "  <td>\n",
    "    <a target=\"_blank\" href=\"https://aistudio.google.com/prompts/14lDR0VjSni6BEUCZUBqj5PzTn3J194Th\"><img src=\"https://ai.google.dev/site-assets/images/marketing/home/icon-ais.png\" style=\"height: 24px\" height=24/> Open in AI Studio</a>\n",
    "  </td>\n",
    "</table>"
   ]
  },
  {
   "cell_type": "code",
   "execution_count": null,
   "metadata": {
    "execution": {
     "iopub.execute_input": "2024-11-14T03:07:45.167234Z",
     "iopub.status.busy": "2024-11-14T03:07:45.166917Z",
     "iopub.status.idle": "2024-11-14T03:07:46.857468Z",
     "shell.execute_reply": "2024-11-14T03:07:46.856279Z",
     "shell.execute_reply.started": "2024-11-14T03:07:45.167201Z"
    },
    "id": "i7jqG3nww6kU",
    "trusted": true
   },
   "outputs": [],
   "source": [
    "# And now re-run the same query with search grounding enabled.\n",
    "model = genai.GenerativeModel(\n",
    "    \"gemini-1.5-flash-002\",\n",
    "    tools=\"google_search_retrieval\")\n",
    "\n",
    "response = model.generate_content(\"When and where is Taylor Swift's next concert?\")\n",
    "rc = response.candidates[0]\n",
    "\n",
    "Markdown(rc.content.parts[0].text)"
   ]
  },
  {
   "cell_type": "markdown",
   "metadata": {
    "id": "SJc_0FFBgoiJ"
   },
   "source": [
    "If you receive a `429 Resource has been exhausted` error, you are likely using a free tier API key. You can choose to enable billing (but this will incur charges), or you can try the queries in Google AI Studio by following the `Open in AI Studio` links above."
   ]
  },
  {
   "cell_type": "markdown",
   "metadata": {
    "id": "SJc_0FFBgoiJ"
   },
   "source": [
    "### Response metadata\n",
    "\n",
    "When search grounding is used, the model returns extra metadata that includes links to search suggestions, supporting documents and information on how the supporting documents were used.\n",
    "\n",
    "Each \"grounding chunk\" represents information retrieved from Google Search that was used in the grounded generation request. Following the URI will take you to the source."
   ]
  },
  {
   "cell_type": "code",
   "execution_count": null,
   "metadata": {
    "execution": {
     "iopub.execute_input": "2024-11-14T03:14:18.228318Z",
     "iopub.status.busy": "2024-11-14T03:14:18.227894Z",
     "iopub.status.idle": "2024-11-14T03:14:18.234551Z",
     "shell.execute_reply": "2024-11-14T03:14:18.23339Z",
     "shell.execute_reply.started": "2024-11-14T03:14:18.22828Z"
    },
    "id": "2P7IYMcvxtcy",
    "trusted": true
   },
   "outputs": [],
   "source": [
    "chunks = rc.grounding_metadata.grounding_chunks\n",
    "for chunk in chunks:\n",
    "    print(chunk)"
   ]
  },
  {
   "cell_type": "markdown",
   "metadata": {
    "id": "ziYb2Fkjzwwx"
   },
   "source": [
    "As part of the response, there is a standalone styled HTML content block that you use to link back to relevant search suggestions related to the generation."
   ]
  },
  {
   "cell_type": "code",
   "execution_count": null,
   "metadata": {
    "id": "DQAgIGJmfxqC",
    "trusted": true
   },
   "outputs": [],
   "source": [
    "HTML(rc.grounding_metadata.search_entry_point.rendered_content)"
   ]
  },
  {
   "cell_type": "markdown",
   "metadata": {
    "id": "pJpqJopp0H0M"
   },
   "source": [
    "The `grounding_supports` in the metadata provide a way for you to correlate the grounding chunks used to the generated output text."
   ]
  },
  {
   "cell_type": "code",
   "execution_count": null,
   "metadata": {
    "execution": {
     "iopub.execute_input": "2024-11-14T03:14:32.277505Z",
     "iopub.status.busy": "2024-11-14T03:14:32.277099Z",
     "iopub.status.idle": "2024-11-14T03:14:32.283343Z",
     "shell.execute_reply": "2024-11-14T03:14:32.28224Z",
     "shell.execute_reply.started": "2024-11-14T03:14:32.277465Z"
    },
    "id": "sHg9Yq9U0r89",
    "trusted": true
   },
   "outputs": [],
   "source": [
    "supports = rc.grounding_metadata.grounding_supports\n",
    "for support in supports:\n",
    "    print(support)"
   ]
  },
  {
   "cell_type": "markdown",
   "metadata": {
    "id": "wkQAGyi87FGn"
   },
   "source": [
    "These supports can be used to highlight text in the response, or build tables of footnotes."
   ]
  },
  {
   "cell_type": "code",
   "execution_count": null,
   "metadata": {
    "execution": {
     "iopub.execute_input": "2024-11-14T03:14:35.219234Z",
     "iopub.status.busy": "2024-11-14T03:14:35.21884Z",
     "iopub.status.idle": "2024-11-14T03:14:35.22931Z",
     "shell.execute_reply": "2024-11-14T03:14:35.228309Z",
     "shell.execute_reply.started": "2024-11-14T03:14:35.219195Z"
    },
    "id": "9_dEINt43C62",
    "trusted": true
   },
   "outputs": [],
   "source": [
    "import io\n",
    "\n",
    "markdown_buffer = io.StringIO()\n",
    "\n",
    "# Print the text with footnote markers.\n",
    "markdown_buffer.write(\"Supported text:\\n\\n\")\n",
    "for support in supports:\n",
    "    markdown_buffer.write(\" * \")\n",
    "    markdown_buffer.write(\n",
    "        response.text[support.segment.start_index : support.segment.end_index]\n",
    "    )\n",
    "\n",
    "    for i in support.grounding_chunk_indices:\n",
    "        chunk = chunks[i].web\n",
    "        markdown_buffer.write(f\"<sup>[{i+1}]</sup>\")\n",
    "\n",
    "    markdown_buffer.write(\"\\n\\n\")\n",
    "\n",
    "\n",
    "# And print the footnotes.\n",
    "markdown_buffer.write(\"Citations:\\n\\n\")\n",
    "for i, chunk in enumerate(chunks, start=1):\n",
    "    markdown_buffer.write(f\"* {i}: [{chunk.web.title}]({chunk.web.uri})\\n\")\n",
    "\n",
    "\n",
    "Markdown(markdown_buffer.getvalue())"
   ]
  },
  {
   "cell_type": "markdown",
   "metadata": {
    "id": "suX0M2By8LIN"
   },
   "source": [
    "### Dynamic grounding\n",
    "\n",
    "In a context where you may not know in advance whether to enable search grounding or not, you can provide the model with a threshold over which it will use search grounding. This is helpful in conversational contexts, where not every turn of conversation requires search data to support a response.\n",
    "\n",
    "If you know whether to enable Search for any given chat turn, you can provide the tool explicitly.\n",
    "\n",
    "\n",
    "<table align=left>\n",
    "  <td>\n",
    "    <a target=\"_blank\" href=\"https://aistudio.google.com/prompts/1VBx_R16kNWa8g7lpLxQPx_08sFtd7tcd\"><img src=\"https://ai.google.dev/site-assets/images/marketing/home/icon-ais.png\" style=\"height: 24px\" height=24/> Open in AI Studio</a>\n",
    "  </td>\n",
    "</table>"
   ]
  },
  {
   "cell_type": "code",
   "execution_count": null,
   "metadata": {
    "execution": {
     "iopub.execute_input": "2024-11-14T03:14:40.53326Z",
     "iopub.status.busy": "2024-11-14T03:14:40.532771Z",
     "iopub.status.idle": "2024-11-14T03:14:42.795841Z",
     "shell.execute_reply": "2024-11-14T03:14:42.794674Z",
     "shell.execute_reply.started": "2024-11-14T03:14:40.533214Z"
    },
    "id": "6FLf92417p_4",
    "trusted": true
   },
   "outputs": [],
   "source": [
    "nosearch_model = genai.GenerativeModel(\"gemini-1.5-flash-002\")\n",
    "chat = nosearch_model.start_chat()\n",
    "\n",
    "# No search grounding.\n",
    "r = chat.send_message(\"Hello friendly chatbot!\")\n",
    "\n",
    "# Enable search for just this turn.\n",
    "r = chat.send_message(\n",
    "    \"Who took home the 2023 cricket world cup?\", tools=\"google_search_retrieval\"\n",
    ")\n",
    "\n",
    "Markdown(r.text)"
   ]
  },
  {
   "cell_type": "code",
   "execution_count": null,
   "metadata": {
    "trusted": true
   },
   "outputs": [],
   "source": [
    "HTML(r.candidates[0].grounding_metadata.search_entry_point.rendered_content)"
   ]
  },
  {
   "cell_type": "markdown",
   "metadata": {
    "id": "6nSCaNfL9wSL"
   },
   "source": [
    "Or you can let the Gemini API calculate a likelihood that the response needs search backing, and define the threshold to use."
   ]
  },
  {
   "cell_type": "code",
   "execution_count": null,
   "metadata": {
    "execution": {
     "iopub.execute_input": "2024-11-14T03:16:28.249083Z",
     "iopub.status.busy": "2024-11-14T03:16:28.248699Z",
     "iopub.status.idle": "2024-11-14T03:16:30.218809Z",
     "shell.execute_reply": "2024-11-14T03:16:30.217776Z",
     "shell.execute_reply.started": "2024-11-14T03:16:28.249047Z"
    },
    "id": "WdqdYOND98M4",
    "trusted": true
   },
   "outputs": [],
   "source": [
    "# The dynamic retrieval score is a probability, so the threshold\n",
    "# must also be bound by [0, 1].\n",
    "search_config = {\n",
    "    \"dynamic_retrieval_config\": {\"mode\": \"MODE_DYNAMIC\", \"dynamic_threshold\": 0.5}\n",
    "}\n",
    "\n",
    "maybe_search_model = genai.GenerativeModel(\n",
    "    \"gemini-1.5-flash-002\", tools={\"google_search_retrieval\": search_config}\n",
    ")\n",
    "\n",
    "chat = maybe_search_model.start_chat()\n",
    "\n",
    "r = chat.send_message(\"Hello friendly chatbot!\")\n",
    "rc = r.candidates[0]\n",
    "score = rc.grounding_metadata.retrieval_metadata.google_search_dynamic_retrieval_score\n",
    "print(f\"First turn: {score=}\")\n",
    "\n",
    "r = chat.send_message(\"Who took home the 2023 cricket world cup?\")\n",
    "rc = r.candidates[0]\n",
    "score = rc.grounding_metadata.retrieval_metadata.google_search_dynamic_retrieval_score\n",
    "print(f\"Second turn: {score=}\")\n",
    "print()\n",
    "\n",
    "display(Markdown(r.text))"
   ]
  },
  {
   "cell_type": "code",
   "execution_count": null,
   "metadata": {
    "trusted": true
   },
   "outputs": [],
   "source": [
    "HTML(rc.grounding_metadata.search_entry_point.rendered_content)"
   ]
  },
  {
   "cell_type": "markdown",
   "metadata": {
    "id": "Cp7gvdM-zOf0"
   },
   "source": [
    "## Further reading\n",
    "\n",
    "When using search grounding, there are some specific requirements that you must follow, including when and how to show search suggestions, and how to use the grounding links.  Be sure to read and follow the details in the [search grounding capability guide](https://ai.google.dev/gemini-api/docs/grounding) and the [search suggestions guide](https://ai.google.dev/gemini-api/docs/grounding/search-suggestions)."
   ]
  }
 ],
 "metadata": {
  "colab": {
   "name": "day-4-google-search-grounding.ipynb",
   "toc_visible": true
  },
  "kaggle": {
   "accelerator": "none",
   "dataSources": [],
   "dockerImageVersionId": 30786,
   "isGpuEnabled": false,
   "isInternetEnabled": true,
   "language": "python",
   "sourceType": "notebook"
  },
  "kernelspec": {
   "display_name": "Python 3",
   "language": "python",
   "name": "python3"
  },
  "language_info": {
   "codemirror_mode": {
    "name": "ipython",
    "version": 3
   },
   "file_extension": ".py",
   "mimetype": "text/x-python",
   "name": "python",
   "nbconvert_exporter": "python",
   "pygments_lexer": "ipython3",
   "version": "3.10.14"
  }
 },
 "nbformat": 4,
 "nbformat_minor": 4
}
